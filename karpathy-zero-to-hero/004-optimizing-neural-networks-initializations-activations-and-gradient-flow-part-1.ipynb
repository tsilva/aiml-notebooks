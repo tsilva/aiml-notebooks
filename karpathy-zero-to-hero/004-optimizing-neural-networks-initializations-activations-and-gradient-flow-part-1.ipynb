{
  "nbformat": 4,
  "nbformat_minor": 0,
  "metadata": {
    "colab": {
      "provenance": [],
      "gpuType": "T4",
      "authorship_tag": "ABX9TyP1gO/UDysKArBv5fTMR96+",
      "include_colab_link": true
    },
    "kernelspec": {
      "name": "python3",
      "display_name": "Python 3"
    },
    "language_info": {
      "name": "python"
    },
    "accelerator": "GPU"
  },
  "cells": [
    {
      "cell_type": "markdown",
      "metadata": {
        "id": "view-in-github",
        "colab_type": "text"
      },
      "source": [
        "<a href=\"https://colab.research.google.com/github/tsilva/aiml-notebooks/blob/main/karpathy-zero-to-hero/004-optimizing-neural-networks-initializations-activations-and-gradient-flow-part-1.ipynb\" target=\"_parent\"><img src=\"https://colab.research.google.com/assets/colab-badge.svg\" alt=\"Open In Colab\"/></a>"
      ]
    },
    {
      "cell_type": "markdown",
      "source": [
        "# Optimizing Neural Networks: Initializations, Activations, and Gradient Flow - Part 1\n",
        "\n",
        "This notebook is a reconstruction of Andrej Karpathy's [Building makemore Part 3: Activations & Gradients, BatchNorm](https://www.youtube.com/watch?v=P6sfmUTpUmc). It covers:\n",
        "- Initializing Neural Networks effectively for better training.\n",
        "- Analyzing gradient flows to identify learning bottlenecks.\n",
        "- Using [Batch Normalization](https://en.wikipedia.org/wiki/Batch_normalization) to stabilize gradients during training.\n",
        "\n",
        "The notebook was broken into two parts because the lesson was a bit too long.\n",
        "\n",
        "*The purpose of this notebook is for my own self-learning, and shouldn't add much to the original lesson beyond extra verbosity. Parts of the notebook, namely the code snippets, may have been copied from the source lesson verbatim.*"
      ],
      "metadata": {
        "id": "ZEtbdsxh8Yhi"
      }
    },
    {
      "cell_type": "markdown",
      "source": [
        "## Build the Dataset 🛠️📊\n",
        "\n",
        "First, let's download a list of names:"
      ],
      "metadata": {
        "id": "4hJEtVsHa4wV"
      }
    },
    {
      "cell_type": "code",
      "source": [
        "!wget https://raw.githubusercontent.com/karpathy/makemore/master/names.txt"
      ],
      "metadata": {
        "colab": {
          "base_uri": "https://localhost:8080/"
        },
        "id": "CTYytDAU9zT-",
        "outputId": "09e00022-e30a-40b1-c95d-701d277e35ed"
      },
      "execution_count": 55,
      "outputs": [
        {
          "output_type": "stream",
          "name": "stdout",
          "text": [
            "--2024-09-13 15:56:51--  https://raw.githubusercontent.com/karpathy/makemore/master/names.txt\n",
            "Resolving raw.githubusercontent.com (raw.githubusercontent.com)... 185.199.108.133, 185.199.109.133, 185.199.110.133, ...\n",
            "Connecting to raw.githubusercontent.com (raw.githubusercontent.com)|185.199.108.133|:443... connected.\n",
            "HTTP request sent, awaiting response... 200 OK\n",
            "Length: 228145 (223K) [text/plain]\n",
            "Saving to: ‘names.txt.1’\n",
            "\n",
            "\rnames.txt.1           0%[                    ]       0  --.-KB/s               \rnames.txt.1         100%[===================>] 222.80K  --.-KB/s    in 0.01s   \n",
            "\n",
            "2024-09-13 15:56:51 (16.9 MB/s) - ‘names.txt.1’ saved [228145/228145]\n",
            "\n"
          ]
        }
      ]
    },
    {
      "cell_type": "markdown",
      "source": [
        "And now parse them into a list:"
      ],
      "metadata": {
        "id": "M2HShXdEa61L"
      }
    },
    {
      "cell_type": "code",
      "source": [
        "words = open(\"names.txt\", \"r\").read().splitlines()\n",
        "len(words), words[:8]"
      ],
      "metadata": {
        "colab": {
          "base_uri": "https://localhost:8080/"
        },
        "id": "qZSVjQUa712d",
        "outputId": "f075a40f-54b2-4b8c-b975-f6cd58bc3aa2"
      },
      "execution_count": 56,
      "outputs": [
        {
          "output_type": "execute_result",
          "data": {
            "text/plain": [
              "(32033,\n",
              " ['emma', 'olivia', 'ava', 'isabella', 'sophia', 'charlotte', 'mia', 'amelia'])"
            ]
          },
          "metadata": {},
          "execution_count": 56
        }
      ]
    },
    {
      "cell_type": "markdown",
      "source": [
        "Let's assign a unique integer to each possible character found in the names we parsed:"
      ],
      "metadata": {
        "id": "Mw6MGOu_u7BN"
      }
    },
    {
      "cell_type": "code",
      "source": [
        "# Create list with all unique characters found in the raw data (sorted alphabetically)\n",
        "chars = sorted(list(set(''.join(words))))\n",
        "\n",
        "# Create lookup table for converting each possible character to a unique integer\n",
        "stoi_map = {s:i+1 for i,s in enumerate(chars)}\n",
        "EOS_CHAR = \".\" # The character used to represent the end of a word\n",
        "EOS_CHAR_INDEX = 0\n",
        "stoi_map[EOS_CHAR] = EOS_CHAR_INDEX # Assign index zero to EOS char\n",
        "\n",
        "# Create reverse lookup table\n",
        "itos_map = {i:s for s,i in stoi_map.items()}\n",
        "itos_map\n",
        "\n",
        "# Count the size of the vocabulary\n",
        "# (how many different characters exist in the dataset)\n",
        "vocabulary_size = len(stoi_map)\n",
        "\n",
        "len(stoi_map), stoi_map"
      ],
      "metadata": {
        "colab": {
          "base_uri": "https://localhost:8080/"
        },
        "id": "nmAzfxJN78Aa",
        "outputId": "37fe00bf-3a59-419a-8a4e-e7c15666e612"
      },
      "execution_count": 57,
      "outputs": [
        {
          "output_type": "execute_result",
          "data": {
            "text/plain": [
              "(27,\n",
              " {'a': 1,\n",
              "  'b': 2,\n",
              "  'c': 3,\n",
              "  'd': 4,\n",
              "  'e': 5,\n",
              "  'f': 6,\n",
              "  'g': 7,\n",
              "  'h': 8,\n",
              "  'i': 9,\n",
              "  'j': 10,\n",
              "  'k': 11,\n",
              "  'l': 12,\n",
              "  'm': 13,\n",
              "  'n': 14,\n",
              "  'o': 15,\n",
              "  'p': 16,\n",
              "  'q': 17,\n",
              "  'r': 18,\n",
              "  's': 19,\n",
              "  't': 20,\n",
              "  'u': 21,\n",
              "  'v': 22,\n",
              "  'w': 23,\n",
              "  'x': 24,\n",
              "  'y': 25,\n",
              "  'z': 26,\n",
              "  '.': 0})"
            ]
          },
          "metadata": {},
          "execution_count": 57
        }
      ]
    },
    {
      "cell_type": "markdown",
      "source": [
        "Now let's build a dataset where the inputs are sequences of $3$ characters and the outputs are the next predicted character. This dataset is then split into:\n",
        "\n",
        "- **training set**: $80\\%$ of the original dataset\n",
        "- **validation set**: $10\\%$ of the original dataset\n",
        "- **test set**: $10\\%$ of the original dataset"
      ],
      "metadata": {
        "id": "QPoyDWJFL45w"
      }
    },
    {
      "cell_type": "code",
      "source": [
        "import torch\n",
        "import random\n",
        "\n",
        "# Set the RNG seed for reproducibility\n",
        "SEED = 42\n",
        "random.seed(SEED)\n",
        "\n",
        "# The default number of characters to use to predict the next character\n",
        "BLOCK_SIZE = 3\n",
        "\n",
        "def build_dataset(words, block_size=BLOCK_SIZE, verbose=False):\n",
        "  X, Y = [], [] # Initialize the dataset\n",
        "  for word in words:\n",
        "    if verbose: print(word)\n",
        "    context = [0] * block_size # Initialize the context with EOS characters\n",
        "    for char in word + EOS_CHAR: # For each character in the current word (plus the EOS stop character)\n",
        "      X.append(context) # Add the context accumulated so far as the input\n",
        "      char_i = stoi_map[char] # Convert the current character to an integer\n",
        "      Y.append(char_i) # Add the current character as the output (previous context must predict current character)\n",
        "      if verbose: print(f\"{''.join([itos_map[i] for i in context])} => {char}\")\n",
        "      context = context[1:] + [char_i] # Update the context by popping out the oldest character and pushing in the current one (FIFO buffer)\n",
        "\n",
        "  # Convert the dataset to tensors and return them\n",
        "  X = torch.tensor(X)\n",
        "  Y = torch.tensor(Y)\n",
        "  return X, Y\n",
        "\n",
        "def build_split_dataset(words, block_size=BLOCK_SIZE):\n",
        "  # Shuffle the words so that the data splits are random\n",
        "  words = words.copy() # Copy so we don't modify the original reference when shuffling\n",
        "  random.shuffle(words)\n",
        "\n",
        "  # Split the dataset\n",
        "  n1 = int(0.8 * len(words)) # First data split point\n",
        "  n2 = int(0.9 * len(words)) # Second data split point\n",
        "  training_set = build_dataset(words[:n1], block_size=block_size) # Create training set from range [0%-80%]\n",
        "  validation_set = build_dataset(words[n1:n2], block_size=block_size) # Create validation set from range [80%-90%]\n",
        "  test_set = build_dataset(words[n2:], block_size=block_size) # Create test set from range [90%-100%]\n",
        "\n",
        "  # Return the splits\n",
        "  return training_set, validation_set, test_set\n",
        "\n",
        "# Create the dataset and split it into training, validation and test sets\n",
        "training_set, validation_set, test_set = build_split_dataset(words)\n",
        "\n",
        "# Output the number of examples in each dataset split\n",
        "n_training_set = len(training_set[0])\n",
        "n_validation_set = len(validation_set[0])\n",
        "n_test_set = len(test_set[0])\n",
        "n_total = n_training_set + n_validation_set + n_test_set\n",
        "{\n",
        "    \"n_total\" : n_total,\n",
        "    \"n_training\" : n_training_set,\n",
        "    \"n_training_percentage\" : round(n_training_set / n_total * 100),\n",
        "    \"n_validation\" : n_validation_set,\n",
        "    \"n_validation_percentage\" : round(n_validation_set / n_total * 100),\n",
        "    \"n_test\" : n_test_set,\n",
        "    \"n_test_percentage\" : round(n_test_set / n_total * 100)\n",
        "}"
      ],
      "metadata": {
        "id": "XBSkewpG8SK5",
        "colab": {
          "base_uri": "https://localhost:8080/"
        },
        "outputId": "11b0b8af-ef10-4c34-98a7-9f20d6d7c4c6"
      },
      "execution_count": 58,
      "outputs": [
        {
          "output_type": "execute_result",
          "data": {
            "text/plain": [
              "{'n_total': 228146,\n",
              " 'n_training': 182625,\n",
              " 'n_training_percentage': 80,\n",
              " 'n_validation': 22655,\n",
              " 'n_validation_percentage': 10,\n",
              " 'n_test': 22866,\n",
              " 'n_test_percentage': 10}"
            ]
          },
          "metadata": {},
          "execution_count": 58
        }
      ]
    },
    {
      "cell_type": "markdown",
      "source": [
        "Let's build the same model we used in the previous notebook:"
      ],
      "metadata": {
        "id": "9_yeJcmyMDms"
      }
    },
    {
      "cell_type": "code",
      "source": [
        "def build_model(\n",
        "    block_size=BLOCK_SIZE, # Number of previous characters used to predict the next character\n",
        "    embedding_size=10, # Size of the dense vector used to represent each character\n",
        "    n_hidden=200, # Number of neurons in the hidden layer\n",
        "    init_scales={}, # Factor by which to scale the values in each parameter (ignore, to be used later in the notebook)\n",
        "    extra_parameters=[], # Parameters to add to the model (ignore, to be used later in the notebook),\n",
        "    statistics=[], # Model training statistics to be returned by the function (ignore, to be used later in the notebook)\n",
        "    seed=SEED # The RNG seed to use when initializing parameters (for reproducibility)\n",
        "):\n",
        "  # Initialize the generator with the provided seed\n",
        "  generator = torch.Generator().manual_seed(seed)\n",
        "\n",
        "  # Create the embedding lookup table\n",
        "  C = torch.randn((vocabulary_size, embedding_size), generator=generator) * init_scales.get('C', 1.0)\n",
        "\n",
        "  # Create the weight matrix for the hidden layer\n",
        "  W1 = torch.randn((embedding_size * block_size, n_hidden), generator=generator) * init_scales.get('W1', 1.0)\n",
        "\n",
        "  # Create the biases for the hidden layer\n",
        "  b1 = torch.randn(n_hidden, generator=generator) * init_scales.get('b1', 1.0)\n",
        "\n",
        "  # Create the weight matrix for the output layer\n",
        "  W2 = torch.randn((n_hidden, vocabulary_size), generator=generator) * init_scales.get('W2', 1.0)\n",
        "\n",
        "  # Create the biases for the output layer\n",
        "  b2 = torch.randn(vocabulary_size, generator=generator) * init_scales.get('b2', 1.0)\n",
        "\n",
        "  # Create a list with all the parameters\n",
        "  parameters = [C, W1, b1, W2, b2]\n",
        "  for extra_param in extra_parameters: parameters.append(extra_param)\n",
        "\n",
        "  # Enable gradient tracking for all model parameters\n",
        "  for p in parameters: p.requires_grad = True\n",
        "\n",
        "  return parameters, statistics\n",
        "\n",
        "# Store a reference to the `build_model` function (ignore, to be used later in the notebook)\n",
        "_build_model_1 = build_model\n",
        "\n",
        "# Create the model\n",
        "model = build_model()\n",
        "\n",
        "# Unpack the model parameters\n",
        "parameters, _ = model\n",
        "C, W1, b1, W2, b2 = parameters\n",
        "\n",
        "# Count the number of parameters\n",
        "num_parameters = sum(p.nelement() for p in parameters)\n",
        "print(f\"Number of parameters: {num_parameters}\")"
      ],
      "metadata": {
        "colab": {
          "base_uri": "https://localhost:8080/"
        },
        "id": "uYu1tiRv88Ry",
        "outputId": "c241ba39-9b6e-41bc-a480-f33a4b097387"
      },
      "execution_count": 59,
      "outputs": [
        {
          "output_type": "stream",
          "name": "stdout",
          "text": [
            "Number of parameters: 11897\n"
          ]
        }
      ]
    },
    {
      "cell_type": "markdown",
      "source": [
        "Now let's implement the training code:"
      ],
      "metadata": {
        "id": "oQGDPq-EL8Bi"
      }
    },
    {
      "cell_type": "code",
      "source": [
        "import torch.nn.functional as F\n",
        "import matplotlib.pyplot as plt\n",
        "\n",
        "def train(\n",
        "    dataset, # The dataset to train on (a tuple with a list of inputs and a list of respective outputs)\n",
        "    model, # The model parameters\n",
        "    n_steps, # Train for N steps\n",
        "    learning_rate=0.1, # The scale at which gradients should be applied to the parameters at each step\n",
        "    batch_size=32, # The size of the mini-batch to randomly sample in each step\n",
        "    log_steps=10_000, # How frequently should training progress be logged\n",
        "    posthook_h_preact=None, # Code to execute right after the hidden layer's pre-activation has been calculated (ignore, to be used later in the notebook),\n",
        "    seed=SEED # The RNG seed to use when sampling mini-batches (for reproducibility)\n",
        "):\n",
        "  # Initialize RNG for reproducibility\n",
        "  generator = torch.Generator().manual_seed(seed)\n",
        "\n",
        "  # Unpack the dataset\n",
        "  X, Y = dataset\n",
        "\n",
        "  # Unpack the model parameters\n",
        "  parameters, _ = model\n",
        "  C, W1, b1, W2, b2 = parameters[:5] # Making sure we unpack only 5 params for now (ignore, related to changes later in the notebook)\n",
        "\n",
        "  # Train for N steps\n",
        "  losses = []\n",
        "  for step in range(n_steps):\n",
        "    # Sample a mini-batch\n",
        "    batch_indexes = torch.randint(0, X.shape[0], (batch_size,), generator=generator)\n",
        "    Xbt, Ybt = X[batch_indexes], Y[batch_indexes]\n",
        "\n",
        "    # Perform forward pass\n",
        "    Xemb = C[Xbt] # Embed characters into vectors\n",
        "    Xembcat = Xemb.view(Xemb.shape[0], -1) # Concatenate the vectors\n",
        "    h_preact = Xembcat @ W1 + b1 # Hidden layer pre-activation\n",
        "    h_preact = posthook_h_preact(h_preact) if posthook_h_preact else h_preact\n",
        "    h = torch.tanh(h_preact) # Hidden layer activation\n",
        "    logits = h @ W2 + b2 # Output layer activation\n",
        "    loss = F.cross_entropy(logits, Ybt) # Calculate loss\n",
        "\n",
        "    # Perform backpropagation\n",
        "    for p in parameters: p.grad = None # Reset gradients from previous step\n",
        "    loss.backward() # Perform backward pass\n",
        "\n",
        "    # Perform gradient descent\n",
        "    if learning_rate is None: learning_rate = learning_rate if step < n_steps * 0.9 else learning_rate / 10\n",
        "    learning_rate = learning_rate() if callable(learning_rate) else learning_rate\n",
        "    for p in parameters: p.data -= learning_rate * p.grad\n",
        "\n",
        "    # Track stats\n",
        "    if step % log_steps == 0: print(f\"{step:7d}/{n_steps:7d}: {loss.item():4f}\")\n",
        "    losses.append(loss.item())\n",
        "\n",
        "  # Return training losses and last step activations\n",
        "  return {\n",
        "      \"losses\" : losses,\n",
        "      \"Xemb\" : Xemb,\n",
        "      \"Xembcat\" : Xembcat,\n",
        "      \"h_preact\" : h_preact,\n",
        "      \"h\" : h,\n",
        "      \"logits\" : logits\n",
        "  }\n",
        "\n",
        "# Store a reference to the function (we'll use this later\n",
        "# in the notebook to extend the function's behavior)\n",
        "_train_1 = train\n",
        "\n",
        "# Train for 10k steps and plot losses\n",
        "result = train(training_set, model, 10_000)\n",
        "plt.plot(result[\"losses\"])"
      ],
      "metadata": {
        "colab": {
          "base_uri": "https://localhost:8080/",
          "height": 465
        },
        "id": "fe6tWFmF9vJt",
        "outputId": "2039b155-5df2-4d68-c8d4-e05ccaa21676"
      },
      "execution_count": 60,
      "outputs": [
        {
          "output_type": "stream",
          "name": "stdout",
          "text": [
            "      0/  10000: 25.019728\n"
          ]
        },
        {
          "output_type": "execute_result",
          "data": {
            "text/plain": [
              "[<matplotlib.lines.Line2D at 0x792867ad1570>]"
            ]
          },
          "metadata": {},
          "execution_count": 60
        },
        {
          "output_type": "display_data",
          "data": {
            "text/plain": [
              "<Figure size 640x480 with 1 Axes>"
            ],
            "image/png": "[encoded data removed]"
          },
          "metadata": {}
        }
      ]
    },
    {
      "cell_type": "markdown",
      "source": [
        "Notice the \"hockey stick\" pattern in the loss curve early in training. This sharp drop happens because the model quickly adjusts biases, leading to fast initial gains.\n",
        "\n",
        "To explain, imagine a linear function $y = a \\times x + b$ separating two clusters. If the bias $b$ is poorly initialized, the loss is high because the line is far from the data. Adjusting $b$ moves the line closer, rapidly lowering the loss.\n",
        "\n",
        "This issue stems from random initialization of the model's parameters. Proper initialization not only starts training with a lower loss but can also place the model in a better region of the loss surface.\n",
        "\n",
        "By understanding our problem domain, we can improve parameter initialization. Without prior knowledge, the model's output should resemble a uniform distribution where each character has a probability of $1/27$ (since there are 27 characters in the vocabulary). With no prior training, the model has no preference, so all probabilities are equal, giving us the expected initial loss:"
      ],
      "metadata": {
        "id": "UyqKN1pA-IkH"
      }
    },
    {
      "cell_type": "code",
      "source": [
        "expected_initial_loss = -torch.tensor(1/27).log()\n",
        "expected_initial_loss"
      ],
      "metadata": {
        "colab": {
          "base_uri": "https://localhost:8080/"
        },
        "id": "6B9a4NpM-q9b",
        "outputId": "5905f6bb-3da2-4cb4-8e34-8b42a4d9970a"
      },
      "execution_count": 61,
      "outputs": [
        {
          "output_type": "execute_result",
          "data": {
            "text/plain": [
              "tensor(3.2958)"
            ]
          },
          "metadata": {},
          "execution_count": 61
        }
      ]
    },
    {
      "cell_type": "markdown",
      "source": [
        "The initial loss should be $3.2958$ rather than around $25$, like we're currently getting.\n",
        "\n",
        "Before trying any optimizations, let's note down our current losses on the *training set* and *validation set* for later reference:"
      ],
      "metadata": {
        "id": "AQmfiFqY-rz5"
      }
    },
    {
      "cell_type": "code",
      "source": [
        "@torch.no_grad() # Don't track any gradients when running this function (we won't use this loss calculation to adjust the model parameters)\n",
        "def calculate_dataset_split_loss(\n",
        "    model, # The model whose loss we're evaluating\n",
        "    split, # Dataset split to calculate the loss on\n",
        "    posthook_h_preact=None # Function to run after the calculation of the pre-activations for the hidden layer (ignore for now, will used later in the notebook)\n",
        "):\n",
        "  # Unpack the model parameters\n",
        "  parameters, _ = model\n",
        "  C, W1, b1, W2, b2 = parameters[:5] # Unpack only the first 5 parameters (ignore, more parameters will be added later)\n",
        "\n",
        "  # Retrieve the specified dataset split\n",
        "  x, y = {\n",
        "      \"training\" : training_set,\n",
        "      \"validation\" : validation_set,\n",
        "      \"test\" : test_set\n",
        "  }[split]\n",
        "\n",
        "  # Calculate the loss for the specified dataset split\n",
        "  emb = C[x] # Fetch the embeddings for each character sequence\n",
        "  embcat = emb.view(emb.shape[0], -1) # Concatenate the embeddings for each character sequence\n",
        "  h_preact = embcat @ W1 + b1 # Forward pass through hidden layer\n",
        "  h_preact = posthook_h_preact(h_preact) if posthook_h_preact else h_preact # Run hook if provided (ignore for now, will used later in the notebook)\n",
        "  h = torch.tanh(h_preact) # Run activation on hidden layer pre-activations\n",
        "  logits = h @ W2 + b2 # Forward pass through output layer to calculate the logits\n",
        "  loss = F.cross_entropy(logits, y) # Calculate the loss\n",
        "\n",
        "  # Print the loss for the specified dataset split\n",
        "  print(f\"{split}: {loss.item():.4f}\")\n",
        "\n",
        "# Store a reference to the original function so\n",
        "# that we can extend it later in the notebook\n",
        "_calculate_dataset_split_loss_1 = calculate_dataset_split_loss\n",
        "\n",
        "# Calculate the losses for the training and validation sets\n",
        "calculate_dataset_split_loss(model, \"training\")\n",
        "calculate_dataset_split_loss(model, \"validation\")"
      ],
      "metadata": {
        "colab": {
          "base_uri": "https://localhost:8080/"
        },
        "id": "iP70yeIQBIVV",
        "outputId": "843bcf9f-6b84-47da-eab1-a1d54854fa7e"
      },
      "execution_count": 62,
      "outputs": [
        {
          "output_type": "stream",
          "name": "stdout",
          "text": [
            "training: 2.5357\n",
            "validation: 2.5471\n"
          ]
        }
      ]
    },
    {
      "cell_type": "markdown",
      "source": [
        "We'll log the losses from different optimization experiments in this notebook to track what works and what doesn't. Let's record our first results:\n",
        "\n",
        "| Experiment                    | Train Loss          | Validation Loss     |\n",
        "| ------------------------------| ------------------- | ------------------- |\n",
        "| Before optimizations | 2.5357            |2.5471            |"
      ],
      "metadata": {
        "id": "oCmD7q01nGVY"
      }
    },
    {
      "cell_type": "markdown",
      "source": [
        "## Manual Initialization - Output Layer 🎯📐\n",
        "\n",
        "To manually calculate the loss for a uniform distribution at initialization, we need to see how the logits affect the loss.\n",
        "\n",
        "Let's calculate the loss for a ground truth of $[0, 0, 1, 0]$ when all logits are set to $0.0$:"
      ],
      "metadata": {
        "id": "mjYt-w-RBHdJ"
      }
    },
    {
      "cell_type": "code",
      "source": [
        "def _calc_probs_loss(logits):\n",
        "  probs = F.softmax(logits, dim=0) # Perform softmax on the logits (same as exponentiating them, then normalizing them)\n",
        "  loss = -probs[2].log() # Calculate the negative likelihood loss for the correct class when the ground truth is [0, 0, 1, 0]\n",
        "  return logits, probs, loss\n",
        "_calc_probs_loss(torch.tensor([0.0, 0.0, 0.0, 0.0])) # Feed sample 4-dimensional vector of logits"
      ],
      "metadata": {
        "colab": {
          "base_uri": "https://localhost:8080/"
        },
        "id": "rZxKfhX6A0XB",
        "outputId": "e988f7bc-d2ac-439d-ad5c-b6353b4c3cdc"
      },
      "execution_count": 63,
      "outputs": [
        {
          "output_type": "execute_result",
          "data": {
            "text/plain": [
              "(tensor([0., 0., 0., 0.]),\n",
              " tensor([0.2500, 0.2500, 0.2500, 0.2500]),\n",
              " tensor(1.3863))"
            ]
          },
          "metadata": {},
          "execution_count": 63
        }
      ]
    },
    {
      "cell_type": "markdown",
      "source": [
        "When all logits are $0.0$, the output distribution is uniform, resulting in a relatively low loss.\n",
        "\n",
        "To boost the model's confidence in classifying index $2$ correctly, we can increase the magnitude of the corresponding logit:"
      ],
      "metadata": {
        "id": "DF8TO083_p6W"
      }
    },
    {
      "cell_type": "code",
      "source": [
        "_calc_probs_loss(torch.tensor([0.0, 0.0, 5.0, 0.0]))"
      ],
      "metadata": {
        "colab": {
          "base_uri": "https://localhost:8080/"
        },
        "id": "mI_467jcGIpw",
        "outputId": "4eac51f7-701b-488d-a766-63572dfd7610"
      },
      "execution_count": 64,
      "outputs": [
        {
          "output_type": "execute_result",
          "data": {
            "text/plain": [
              "(tensor([0., 0., 5., 0.]),\n",
              " tensor([0.0066, 0.0066, 0.9802, 0.0066]),\n",
              " tensor(0.0200))"
            ]
          },
          "metadata": {},
          "execution_count": 64
        }
      ]
    },
    {
      "cell_type": "markdown",
      "source": [
        "Raising the logit for that position increases its probability while lowering the others. This reduces the loss, as the probability distribution is now closer to the expected output $[0, 0, 1, 0]$."
      ],
      "metadata": {
        "id": "BvZxRXICAENG"
      }
    },
    {
      "cell_type": "markdown",
      "source": [
        "Let's calculate the loss for logits randomly sampled from a *standard normal distribution* (with a *mean* of $0.0$ and a *standard deviation* of $1.0$):"
      ],
      "metadata": {
        "id": "XZcssI9KfsH4"
      }
    },
    {
      "cell_type": "code",
      "source": [
        "generator = torch.Generator().manual_seed(SEED) # Set RNG seed for reproducibility of this cell\n",
        "for i in range(10):\n",
        "  logits = torch.randn(4, generator=generator)  # Sample 4 random logits\n",
        "  _, _, loss = _calc_probs_loss(logits)         # Calculate loss for expected output of [0, 0, 1, 0]\n",
        "  print(f\"logits: {logits}\\t loss: {loss}\")"
      ],
      "metadata": {
        "colab": {
          "base_uri": "https://localhost:8080/"
        },
        "id": "TanOJvRHF1z-",
        "outputId": "68716992-1690-4db2-c9db-b5f7db904a4f"
      },
      "execution_count": 65,
      "outputs": [
        {
          "output_type": "stream",
          "name": "stdout",
          "text": [
            "logits: tensor([0.3367, 0.1288, 0.2345, 0.2303])\t loss: 1.387107014656067\n",
            "logits: tensor([-1.1229, -0.1863,  2.2082, -0.6380])\t loss: 0.16977259516716003\n",
            "logits: tensor([0.4617, 0.2674, 0.5349, 0.8094])\t loss: 1.388898491859436\n",
            "logits: tensor([ 1.1103, -1.6898, -0.9890,  0.9580])\t loss: 2.8132131099700928\n",
            "logits: tensor([ 1.3221,  0.8172, -0.7658, -0.7506])\t loss: 2.704949378967285\n",
            "logits: tensor([ 1.3525,  0.6863, -0.3278,  0.7950])\t loss: 2.5012106895446777\n",
            "logits: tensor([ 0.2815,  0.0562,  0.5227, -0.2384])\t loss: 1.0577948093414307\n",
            "logits: tensor([-0.0499,  0.5263, -0.0085,  0.7291])\t loss: 1.7504920959472656\n",
            "logits: tensor([ 0.1331,  0.8640, -1.0157, -0.8887])\t loss: 2.471569538116455\n",
            "logits: tensor([ 0.1498, -0.2089, -0.3870,  0.9912])\t loss: 2.0635011196136475\n"
          ]
        }
      ]
    },
    {
      "cell_type": "markdown",
      "source": [
        "The loss is low due to the small magnitude of the logits, let's scale them up by an order of magnitude:"
      ],
      "metadata": {
        "id": "VU3I0Q7Tfuk_"
      }
    },
    {
      "cell_type": "code",
      "source": [
        "generator = torch.Generator().manual_seed(SEED)      # Set RNG seed for reproducibility of this cell\n",
        "for i in range(10):\n",
        "  logits = torch.randn(4, generator=generator) * 10  # Sample 4 random logits (scaled up by 10)\n",
        "  _, _, loss = _calc_probs_loss(logits)              # Calculate loss for expected output of [0, 0, 1, 0]\n",
        "  print(f\"logits: {logits}\\t loss: {loss}\")"
      ],
      "metadata": {
        "colab": {
          "base_uri": "https://localhost:8080/"
        },
        "id": "-ua71s7EF4hp",
        "outputId": "0be4635a-b4fe-4e90-d561-7c59dce99e61"
      },
      "execution_count": 66,
      "outputs": [
        {
          "output_type": "stream",
          "name": "stdout",
          "text": [
            "logits: tensor([3.3669, 1.2881, 2.3446, 2.3033])\t loss: 1.6266359090805054\n",
            "logits: tensor([-11.2286,  -1.8633,  22.0820,  -6.3800])\t loss: -0.0\n",
            "logits: tensor([4.6166, 2.6735, 5.3490, 8.0936])\t loss: 2.8394775390625\n",
            "logits: tensor([ 11.1029, -16.8980,  -9.8896,   9.5797])\t loss: 21.189725875854492\n",
            "logits: tensor([13.2214,  8.1719, -7.6584, -7.5062])\t loss: 20.88612937927246\n",
            "logits: tensor([13.5255,  6.8632, -3.2776,  7.9497])\t loss: 16.80811882019043\n",
            "logits: tensor([ 2.8152,  0.5616,  5.2272, -2.3836])\t loss: 0.09489946812391281\n",
            "logits: tensor([-0.4990,  5.2634, -0.0850,  7.2906])\t loss: 7.500233173370361\n",
            "logits: tensor([  1.3314,   8.6398, -10.1567,  -8.8875])\t loss: 18.79719352722168\n",
            "logits: tensor([ 1.4978, -2.0889, -3.8702,  9.9124])\t loss: 13.782815933227539\n"
          ]
        }
      ]
    },
    {
      "cell_type": "markdown",
      "source": [
        "Losses can increase significantly because the softmax function exponentially amplifies differences between logits, causing one class to dominate with a much higher probability.\n",
        "\n",
        "Further increasing the logit magnitudes can lead to positive infinities in the loss calculation:"
      ],
      "metadata": {
        "id": "MasCtRTTiOFa"
      }
    },
    {
      "cell_type": "code",
      "source": [
        "generator = torch.Generator().manual_seed(SEED)       # Set RNG seed for reproducibility of this cell\n",
        "for i in range(10):\n",
        "  logits = torch.randn(4, generator=generator) * 100  # Sample 4 random logits (scaled up by 100)\n",
        "  _, _, loss = _calc_probs_loss(logits)               # Calculate loss for expected output of [0, 0, 1, 0]\n",
        "  print(f\"logits: {logits}\\t loss: {loss}\")"
      ],
      "metadata": {
        "colab": {
          "base_uri": "https://localhost:8080/"
        },
        "id": "5tkuoZqCiSRX",
        "outputId": "47d3c129-5e4d-4a87-ae7d-fd6d5eb9a160"
      },
      "execution_count": 67,
      "outputs": [
        {
          "output_type": "stream",
          "name": "stdout",
          "text": [
            "logits: tensor([33.6690, 12.8809, 23.4462, 23.0333])\t loss: 10.222861289978027\n",
            "logits: tensor([-112.2856,  -18.6328,  220.8201,  -63.7997])\t loss: -0.0\n",
            "logits: tensor([46.1657, 26.7351, 53.4905, 80.9357])\t loss: 27.445255279541016\n",
            "logits: tensor([ 111.0290, -168.9799,  -98.8960,   95.7972])\t loss: inf\n",
            "logits: tensor([132.2135,  81.7190, -76.5839, -75.0622])\t loss: inf\n",
            "logits: tensor([135.2548,  68.6322, -32.7759,  79.4969])\t loss: inf\n",
            "logits: tensor([ 28.1520,   5.6164,  52.2716, -23.8357])\t loss: -0.0\n",
            "logits: tensor([-4.9903, 52.6337, -0.8499, 72.9061])\t loss: 73.75594329833984\n",
            "logits: tensor([  13.3142,   86.3978, -101.5675,  -88.8749])\t loss: inf\n",
            "logits: tensor([ 14.9780, -20.8894, -38.7021,  99.1238])\t loss: inf\n"
          ]
        }
      ]
    },
    {
      "cell_type": "markdown",
      "source": [
        "Now let's investigate the cause of the loss calculation error by inspecting one of the examples that resulted in infinity:"
      ],
      "metadata": {
        "id": "uyWk-4_ISwRB"
      }
    },
    {
      "cell_type": "code",
      "source": [
        "import math\n",
        "\n",
        "generator = torch.Generator().manual_seed(SEED)       # Set RNG seed for reproducibility of this cell (reliably repro infinity issue)\n",
        "for i in range(10):\n",
        "  logits = torch.randn(4, generator=generator) * 100  # Sample 4 random logits (scaled up by 100)\n",
        "  _, probs, loss = _calc_probs_loss(logits)           # Calculate loss for expected output of [0, 0, 1, 0]\n",
        "  if math.isinf(loss.item()): break                   # Break when we detect an infinity in the loss (to inspect that example)\n",
        "\n",
        "# Inspect example with infinity in loss\n",
        "{\n",
        "    \"logits\" : logits,\n",
        "    \"probs\" : probs,\n",
        "    \"loss\" : loss\n",
        "}"
      ],
      "metadata": {
        "colab": {
          "base_uri": "https://localhost:8080/"
        },
        "id": "5DKfxrjWTBKv",
        "outputId": "b3c90cf9-be7f-4966-a724-f5a16e1440f4"
      },
      "execution_count": 68,
      "outputs": [
        {
          "output_type": "execute_result",
          "data": {
            "text/plain": [
              "{'logits': tensor([ 111.0290, -168.9799,  -98.8960,   95.7972]),\n",
              " 'probs': tensor([1.0000e+00, 0.0000e+00, 0.0000e+00, 2.4260e-07]),\n",
              " 'loss': tensor(inf)}"
            ]
          },
          "metadata": {},
          "execution_count": 68
        }
      ]
    },
    {
      "cell_type": "markdown",
      "source": [
        "The reason we're getting $\\infty$ can be explained step by step:\n",
        "\n",
        "1. **Large logit at index 0:**  \n",
        "   The logit at index $0$ is much larger than the other logits.\n",
        "\n",
        "2. **Softmax exponentiation:**  \n",
        "   Softmax exponentiates each logit to ensure positivity. The large logit at index $0$ results in a huge value, while the others remain much smaller.\n",
        "\n",
        "3. **Softmax normalization:**  \n",
        "   The exponentiated values are divided by their sum, making the probability at index $0$ approach $1.0$ and the others (like index $2$) near $0.0$.\n",
        "\n",
        "4. **Negative log-likelihood calculation:**  \n",
        "   Calculating the loss for index $2$ gives $\\log(0) = -\\infty$.\n",
        "\n",
        "5. **Final result:**  \n",
        "   Negating $-\\infty$ results in $\\infty$ for the loss.\n",
        "\n",
        "Thus, we need to keep logits within a narrower range to prevent this imbalance while maintaining the distribution."
      ],
      "metadata": {
        "id": "xGdO3UBCTyv7"
      }
    },
    {
      "cell_type": "markdown",
      "source": [
        "Let's run training for one step and inspect the current logits:\n",
        "\n",
        "\n"
      ],
      "metadata": {
        "id": "rpqiXV5PA_gg"
      }
    },
    {
      "cell_type": "code",
      "source": [
        "model = build_model()\n",
        "result = train(training_set, model, 1)\n",
        "logits = result[\"logits\"]\n",
        "logits[0]"
      ],
      "metadata": {
        "id": "oZlcviJzGuq7",
        "colab": {
          "base_uri": "https://localhost:8080/"
        },
        "outputId": "af01e1fa-835f-4bf7-a1a9-a8ab7af538fb"
      },
      "execution_count": 69,
      "outputs": [
        {
          "output_type": "stream",
          "name": "stdout",
          "text": [
            "      0/      1: 25.019728\n"
          ]
        },
        {
          "output_type": "execute_result",
          "data": {
            "text/plain": [
              "tensor([ 17.9819,  -3.6784,  24.2404,  -3.1846,  -9.5619,  17.6615,  -7.9963,\n",
              "          8.0883,  -6.5596,   0.8169,   1.0460,  -4.9865,  -4.5982,  15.5030,\n",
              "         10.0235,   2.7803,   2.5039,  33.4953,   5.1201,  -9.4040,  14.3373,\n",
              "        -23.3758,  10.4525,  -9.3290,   6.1106,  10.4929,  -2.1683],\n",
              "       grad_fn=<SelectBackward0>)"
            ]
          },
          "metadata": {},
          "execution_count": 69
        }
      ]
    },
    {
      "cell_type": "markdown",
      "source": [
        "The logits we're getting are too large, which causes one logit to dominate and the others to be ignored. To fix this, we need to reduce their magnitude.\n",
        "\n",
        "Since `logits = h @ W2 + b2`, we can scale down both `W2` and `b2`. The bias `b2` just shifts the values, so we can set it to $0.0$ to eliminate it. Then, we can reduce `W2` by multiplying it by $0.01$ to lower the activations from `h` by two orders of magnitude:"
      ],
      "metadata": {
        "id": "czCtHSZ_j_ch"
      }
    },
    {
      "cell_type": "code",
      "source": [
        "model = build_model(init_scales={\"W2\": 0.01, \"b1\": 0.0}) # Scale down `W2` weights and set `b2` biases to zero\n",
        "result = train(training_set, model, 1) # Train for 1 epoch\n",
        "initial_loss = result[\"losses\"][0]\n",
        "initial_loss, expected_initial_loss"
      ],
      "metadata": {
        "colab": {
          "base_uri": "https://localhost:8080/"
        },
        "id": "l4Xaw1-oBkJr",
        "outputId": "3f938582-b236-4fea-aa1d-2c8d6a46606d"
      },
      "execution_count": 70,
      "outputs": [
        {
          "output_type": "stream",
          "name": "stdout",
          "text": [
            "      0/      1: 4.207558\n"
          ]
        },
        {
          "output_type": "execute_result",
          "data": {
            "text/plain": [
              "(4.207557678222656, tensor(3.2958))"
            ]
          },
          "metadata": {},
          "execution_count": 70
        }
      ]
    },
    {
      "cell_type": "markdown",
      "source": [
        "We're now seeing a much better loss at the start of training, likely because the logits are constrained to a narrower range:"
      ],
      "metadata": {
        "id": "tHEB5TFsCaVp"
      }
    },
    {
      "cell_type": "code",
      "source": [
        "result[\"logits\"][0]"
      ],
      "metadata": {
        "colab": {
          "base_uri": "https://localhost:8080/"
        },
        "id": "D_pWhJLWCb1y",
        "outputId": "a95c8bbb-8808-46a1-e9c2-b73adc0c8092"
      },
      "execution_count": 71,
      "outputs": [
        {
          "output_type": "execute_result",
          "data": {
            "text/plain": [
              "tensor([-1.0148, -1.4639,  1.0138, -0.3878, -0.0253,  1.1731, -0.3383, -0.4993,\n",
              "        -0.8297, -0.0373, -0.8045, -0.3324, -1.0605, -1.7245, -0.0197,  1.9198,\n",
              "        -1.4889,  2.1038,  0.9187,  1.9497,  1.1492, -0.3888, -0.1203,  0.1977,\n",
              "         1.0747,  0.3552,  1.3495], grad_fn=<SelectBackward0>)"
            ]
          },
          "metadata": {},
          "execution_count": 71
        }
      ]
    },
    {
      "cell_type": "markdown",
      "source": [
        "All the logits are within a narrow range as expected, resulting in a more uniform output distribution at initialization. This matches our expected distribution and produces a loss value close to what we anticipated.\n",
        "\n",
        "To get an even more accurate result, we could further scale the weights down toward zero:"
      ],
      "metadata": {
        "id": "-QHet9J-CgDF"
      }
    },
    {
      "cell_type": "code",
      "source": [
        "model = build_model(init_scales={\"W2\": 0.00, \"b2\" : 0.0}) # Cancel out all signal coming from the hidden layer\n",
        "result = train(training_set, model, 1) # Train for 1 step\n",
        "initial_loss = result[\"losses\"][0]\n",
        "initial_loss, expected_initial_loss"
      ],
      "metadata": {
        "colab": {
          "base_uri": "https://localhost:8080/"
        },
        "id": "H6XMWzWLCXWQ",
        "outputId": "aceccf1c-2def-40b4-b1cb-b20adea77ab3"
      },
      "execution_count": 72,
      "outputs": [
        {
          "output_type": "stream",
          "name": "stdout",
          "text": [
            "      0/      1: 3.295837\n"
          ]
        },
        {
          "output_type": "execute_result",
          "data": {
            "text/plain": [
              "(3.295837163925171, tensor(3.2958))"
            ]
          },
          "metadata": {},
          "execution_count": 72
        }
      ]
    },
    {
      "cell_type": "markdown",
      "source": [
        "The initial loss now perfectly matches our expected value! This is because when all the logits are zero, they produce a perfectly uniform distribution, which aligns with the expected initial loss. Let's do a quick check to confirm that the logits are indeed zero:"
      ],
      "metadata": {
        "id": "Ywq1KwJuC1BB"
      }
    },
    {
      "cell_type": "code",
      "source": [
        "result[\"logits\"][0]"
      ],
      "metadata": {
        "colab": {
          "base_uri": "https://localhost:8080/"
        },
        "id": "2y6N5yUaC7wr",
        "outputId": "afd4650e-217f-43aa-9988-cc0a3f7c8f1e"
      },
      "execution_count": 73,
      "outputs": [
        {
          "output_type": "execute_result",
          "data": {
            "text/plain": [
              "tensor([0., 0., 0., 0., 0., 0., 0., 0., 0., 0., 0., 0., 0., 0., 0., 0., 0., 0., 0., 0., 0., 0., 0., 0.,\n",
              "        0., 0., 0.], grad_fn=<SelectBackward0>)"
            ]
          },
          "metadata": {},
          "execution_count": 73
        }
      ]
    },
    {
      "cell_type": "markdown",
      "source": [
        "Setting logits to zero was just an educational example. Initializing weights to zero would make all gradients identical, preventing effective learning.\n",
        "\n",
        "Let's train again with `W2` scaled down by $0.01$, `b2` set to $0.0$, and measure the results of a long training run:"
      ],
      "metadata": {
        "id": "0rwn808GDC7D"
      }
    },
    {
      "cell_type": "code",
      "source": [
        "model = build_model(init_scales={\"W2\": 0.01, \"b2\" : 0.0})\n",
        "result = train(training_set, model, 50_000)\n",
        "calculate_dataset_split_loss(model, \"training\")\n",
        "calculate_dataset_split_loss(model, \"validation\")"
      ],
      "metadata": {
        "colab": {
          "base_uri": "https://localhost:8080/"
        },
        "id": "euxkgFfzkF8N",
        "outputId": "1b3fc677-1145-4461-b6f3-15f02967cbfc"
      },
      "execution_count": 74,
      "outputs": [
        {
          "output_type": "stream",
          "name": "stdout",
          "text": [
            "      0/  50000: 3.276392\n",
            "  10000/  50000: 2.084972\n",
            "  20000/  50000: 2.400868\n",
            "  30000/  50000: 2.323374\n",
            "  40000/  50000: 2.052799\n",
            "training: 2.2408\n",
            "validation: 2.2859\n"
          ]
        }
      ]
    },
    {
      "cell_type": "markdown",
      "source": [
        "Both losses have improved since we avoided wasting initial steps on adjusting biases. Let's add this result to the benchmarks:\n",
        "\n",
        "| Experiment                    | Train Loss          | Validation Loss     |\n",
        "| ------------------------------| ------------------- | ------------------- |\n",
        "| Before optimizations | 2.5357            |2.5471            |\n",
        "| `{\"W2\" : 0.01, \"b2\": 0.0}`       |  2.2408           | 2.2859            |"
      ],
      "metadata": {
        "id": "fNdgbEsEDOuh"
      }
    },
    {
      "cell_type": "markdown",
      "source": [
        "## Manual Initialization - Hidden Layer 🧩📐\n",
        "\n",
        "Now that we've fixed the initial activation of the output layer, let's inspect the initial activation of the hidden layer:"
      ],
      "metadata": {
        "id": "_v64l0TdDlBP"
      }
    },
    {
      "cell_type": "code",
      "source": [
        "h = result[\"h\"]\n",
        "h"
      ],
      "metadata": {
        "colab": {
          "base_uri": "https://localhost:8080/"
        },
        "id": "YyEcac7pcvph",
        "outputId": "89684a63-c496-45a3-9f26-d1d55f72e8d4"
      },
      "execution_count": 75,
      "outputs": [
        {
          "output_type": "execute_result",
          "data": {
            "text/plain": [
              "tensor([[ 1.0000,  1.0000,  0.9990,  ...,  0.9970,  0.4608,  0.8696],\n",
              "        [ 0.9996,  1.0000,  0.5923,  ..., -1.0000, -0.9999, -1.0000],\n",
              "        [-1.0000,  0.9999, -1.0000,  ...,  1.0000,  0.9689,  0.9994],\n",
              "        ...,\n",
              "        [ 0.9996,  1.0000,  0.5923,  ..., -1.0000, -0.9999, -1.0000],\n",
              "        [-0.9999,  1.0000, -0.9994,  ...,  0.8569, -0.9915,  1.0000],\n",
              "        [ 1.0000,  1.0000, -0.9965,  ..., -0.9750, -0.7983,  1.0000]],\n",
              "       grad_fn=<TanhBackward0>)"
            ]
          },
          "metadata": {},
          "execution_count": 75
        }
      ]
    },
    {
      "cell_type": "markdown",
      "source": [
        "One noticeable pattern is that many values are near $-1$ or $1$, which makes sense as this layer's output passes through the $\\tanh$ function.\n",
        "\n",
        "Let's review how the $\\tanh$ function behaves:"
      ],
      "metadata": {
        "id": "L79O28BaEIlZ"
      }
    },
    {
      "cell_type": "code",
      "source": [
        "x = torch.linspace(-5, 5, 100)\n",
        "y = torch.tanh(x)\n",
        "plt.plot(x, y)"
      ],
      "metadata": {
        "id": "-sF4koprETNM",
        "colab": {
          "base_uri": "https://localhost:8080/",
          "height": 447
        },
        "outputId": "cb66d63b-bc1d-4796-d90d-321b68fd9006"
      },
      "execution_count": 76,
      "outputs": [
        {
          "output_type": "execute_result",
          "data": {
            "text/plain": [
              "[<matplotlib.lines.Line2D at 0x792869c4a140>]"
            ]
          },
          "metadata": {},
          "execution_count": 76
        },
        {
          "output_type": "display_data",
          "data": {
            "text/plain": [
              "<Figure size 640x480 with 1 Axes>"
            ],
            "image/png": "[encoded data removed]"
          },
          "metadata": {}
        }
      ]
    },
    {
      "cell_type": "markdown",
      "source": [
        "When $x < -2$ or $x > 2$, the $\\tanh$ function flattens, causing the gradient to become $0.0$ (since $y$ remains unchanged with small changes in $x$).\n",
        "\n",
        "Since gradients propagate backward through the network using the chain rule, if one layer has a zero gradient, earlier layers also stop updating. This makes it difficult or even impossible for earlier layers to learn, leading to slower or halted learning. This is known as the [vanishing gradient problem](https://en.wikipedia.org/wiki/Vanishing_gradient_problem), which is especially common in deeper networks. As a result, training can slow down significantly or fail to converge within a practical time frame."
      ],
      "metadata": {
        "id": "gmQU6kgyEaVq"
      }
    },
    {
      "cell_type": "markdown",
      "source": [
        "Let's visualize the activations of the hidden layer with a histogram.\n",
        "\n",
        "First, let's check its shape:"
      ],
      "metadata": {
        "id": "wQO6qFLfo-M2"
      }
    },
    {
      "cell_type": "code",
      "source": [
        "h.shape"
      ],
      "metadata": {
        "colab": {
          "base_uri": "https://localhost:8080/"
        },
        "id": "VNoAGGVdY14M",
        "outputId": "d96c4a85-8f41-450c-86bf-461811abd4d2"
      },
      "execution_count": 77,
      "outputs": [
        {
          "output_type": "execute_result",
          "data": {
            "text/plain": [
              "torch.Size([32, 200])"
            ]
          },
          "metadata": {},
          "execution_count": 77
        }
      ]
    },
    {
      "cell_type": "markdown",
      "source": [
        "We need to flatten it first:"
      ],
      "metadata": {
        "id": "syMEjrOGY5H-"
      }
    },
    {
      "cell_type": "code",
      "source": [
        "h.view(-1).shape"
      ],
      "metadata": {
        "colab": {
          "base_uri": "https://localhost:8080/"
        },
        "id": "UNB08KGFpApu",
        "outputId": "f5a4839e-174d-424f-867d-9351783e070d"
      },
      "execution_count": 78,
      "outputs": [
        {
          "output_type": "execute_result",
          "data": {
            "text/plain": [
              "torch.Size([6400])"
            ]
          },
          "metadata": {},
          "execution_count": 78
        }
      ]
    },
    {
      "cell_type": "markdown",
      "source": [
        "And then convert it to a regular list:"
      ],
      "metadata": {
        "id": "kIUq--SdFu26"
      }
    },
    {
      "cell_type": "code",
      "source": [
        "h.view(-1).tolist()[:4]"
      ],
      "metadata": {
        "colab": {
          "base_uri": "https://localhost:8080/"
        },
        "id": "Mlw1D4vQc2el",
        "outputId": "e34bb6cf-825a-4380-fc56-acf912d49110"
      },
      "execution_count": 79,
      "outputs": [
        {
          "output_type": "execute_result",
          "data": {
            "text/plain": [
              "[0.9999998211860657, 1.0, 0.9990352988243103, -0.9999982714653015]"
            ]
          },
          "metadata": {},
          "execution_count": 79
        }
      ]
    },
    {
      "cell_type": "markdown",
      "source": [
        "Now, let's plot a histogram with the values distributed into $50$ bins:"
      ],
      "metadata": {
        "id": "c8DoOIm1pHKm"
      }
    },
    {
      "cell_type": "code",
      "source": [
        "plt.hist(h.view(-1).tolist(), 50)"
      ],
      "metadata": {
        "colab": {
          "base_uri": "https://localhost:8080/",
          "height": 660
        },
        "id": "4dly2XJEc5zw",
        "outputId": "e676fcd6-9084-4e2d-ab7b-637f888bf623"
      },
      "execution_count": 80,
      "outputs": [
        {
          "output_type": "execute_result",
          "data": {
            "text/plain": [
              "(array([2257.,  142.,  116.,   66.,   54.,   48.,   37.,   48.,   19.,\n",
              "          39.,   22.,   16.,   25.,   22.,   29.,   28.,   23.,   26.,\n",
              "          10.,   17.,   17.,   17.,   12.,   23.,   11.,   16.,   23.,\n",
              "          19.,   22.,   16.,   20.,   22.,   25.,   11.,   17.,   16.,\n",
              "          24.,   30.,   26.,   37.,   29.,   27.,   33.,   52.,   35.,\n",
              "          55.,   75.,  103.,  154., 2389.]),\n",
              " array([-1.  , -0.96, -0.92, -0.88, -0.84, -0.8 , -0.76, -0.72, -0.68,\n",
              "        -0.64, -0.6 , -0.56, -0.52, -0.48, -0.44, -0.4 , -0.36, -0.32,\n",
              "        -0.28, -0.24, -0.2 , -0.16, -0.12, -0.08, -0.04,  0.  ,  0.04,\n",
              "         0.08,  0.12,  0.16,  0.2 ,  0.24,  0.28,  0.32,  0.36,  0.4 ,\n",
              "         0.44,  0.48,  0.52,  0.56,  0.6 ,  0.64,  0.68,  0.72,  0.76,\n",
              "         0.8 ,  0.84,  0.88,  0.92,  0.96,  1.  ]),\n",
              " <BarContainer object of 50 artists>)"
            ]
          },
          "metadata": {},
          "execution_count": 80
        },
        {
          "output_type": "display_data",
          "data": {
            "text/plain": [
              "<Figure size 640x480 with 1 Axes>"
            ],
            "image/png": "[encoded data removed]"
          },
          "metadata": {}
        }
      ]
    },
    {
      "cell_type": "markdown",
      "source": [
        "Most activations are $-1$ or $1$, which are in the flat regions of $\\tanh$ where gradients are very small, this makes it hard for the network to update weights and learn effectively."
      ],
      "metadata": {
        "id": "NhkinvWiF79n"
      }
    },
    {
      "cell_type": "markdown",
      "source": [
        "To understand which data samples are triggering this issue in specific neurons, let's plot all `h` activations (the $\\tanh$ outputs) with a magnitude greater than $0.99$, indicating they are at the extremes of the $\\tanh$ function:"
      ],
      "metadata": {
        "id": "C1NyOm5url-9"
      }
    },
    {
      "cell_type": "code",
      "source": [
        "plt.figure(figsize=(20, 10))\n",
        "plt.imshow(h.abs() > 0.99, cmap=\"gray\")"
      ],
      "metadata": {
        "colab": {
          "base_uri": "https://localhost:8080/",
          "height": 327
        },
        "id": "8ruVnI2GeRpb",
        "outputId": "a438a50a-241d-4d2f-9963-a62e9bf0601e"
      },
      "execution_count": 81,
      "outputs": [
        {
          "output_type": "execute_result",
          "data": {
            "text/plain": [
              "<matplotlib.image.AxesImage at 0x792869b76020>"
            ]
          },
          "metadata": {},
          "execution_count": 81
        },
        {
          "output_type": "display_data",
          "data": {
            "text/plain": [
              "<Figure size 2000x1000 with 1 Axes>"
            ],
            "image/png": "[encoded data removed]"
          },
          "metadata": {}
        }
      ]
    },
    {
      "cell_type": "markdown",
      "source": [
        "In the plot above, the $Y$ axis shows $30$ mini-batch inputs, and the $X$ axis represents $200$ hidden layer neurons.\n",
        "\n",
        "White pixels indicate saturated $\\tanh$ activations (magnitude is bigger than $0.99$), while black pixels show non-saturated activations.\n",
        "\n",
        "A fully white column would indicate a \"dead\" neuron, where all inputs lead to zero gradients. This would prevent the neuron from learning and disrupt gradient flow to earlier layers, slowing their learning.\n",
        "\n",
        "Fortunately, there are no fully white columns, so all neurons are learning from at least some inputs. However, most neurons are saturated, meaning many inputs produce extreme activations, resulting in small gradients and minimal learning. Reducing saturation would improve gradient flow and accelerate learning, especially early in training."
      ],
      "metadata": {
        "id": "5zsvv_IMfO2m"
      }
    },
    {
      "cell_type": "markdown",
      "source": [
        "---\n",
        "\n",
        "Let's examine the distribution of values in the hidden layer pre-activations\n",
        "(the values fed to the $\\tanh$ function):"
      ],
      "metadata": {
        "id": "_RCRT2rGNusL"
      }
    },
    {
      "cell_type": "code",
      "source": [
        "h_preact = result[\"h_preact\"]\n",
        "plt.hist(h_preact.view(-1).tolist(), 50)"
      ],
      "metadata": {
        "colab": {
          "base_uri": "https://localhost:8080/",
          "height": 760
        },
        "id": "IlPvq-USNtZC",
        "outputId": "354da10d-07b8-4670-f0d0-ea5c0b7a8fe4"
      },
      "execution_count": 82,
      "outputs": [
        {
          "output_type": "execute_result",
          "data": {
            "text/plain": [
              "(array([  3.,   3.,   9.,  14.,  13.,  18.,  25.,  41.,  66.,  87.,  72.,\n",
              "        108., 113., 143., 189., 212., 229., 241., 306., 335., 388., 411.,\n",
              "        388., 417., 351., 327., 291., 261., 269., 216., 168., 176., 110.,\n",
              "         82.,  72.,  60.,  50.,  28.,  39.,  17.,   5.,  24.,  10.,   5.,\n",
              "          2.,   1.,   2.,   0.,   0.,   3.]),\n",
              " array([-19.89199448, -18.99953369, -18.10707291, -17.21461212,\n",
              "        -16.32215134, -15.42969055, -14.53722977, -13.64476898,\n",
              "        -12.7523082 , -11.85984741, -10.96738663, -10.07492584,\n",
              "         -9.18246506,  -8.29000427,  -7.39754349,  -6.5050827 ,\n",
              "         -5.61262192,  -4.72016113,  -3.82770035,  -2.93523956,\n",
              "         -2.04277878,  -1.15031799,  -0.25785721,   0.63460358,\n",
              "          1.52706436,   2.41952515,   3.31198593,   4.20444672,\n",
              "          5.0969075 ,   5.98936829,   6.88182907,   7.77428986,\n",
              "          8.66675064,   9.55921143,  10.45167221,  11.344133  ,\n",
              "         12.23659378,  13.12905457,  14.02151535,  14.91397614,\n",
              "         15.80643692,  16.69889771,  17.59135849,  18.48381927,\n",
              "         19.37628006,  20.26874084,  21.16120163,  22.05366241,\n",
              "         22.9461232 ,  23.83858398,  24.73104477]),\n",
              " <BarContainer object of 50 artists>)"
            ]
          },
          "metadata": {},
          "execution_count": 82
        },
        {
          "output_type": "display_data",
          "data": {
            "text/plain": [
              "<Figure size 640x480 with 1 Axes>"
            ],
            "image/png": "[encoded data removed]"
          },
          "metadata": {}
        }
      ]
    },
    {
      "cell_type": "markdown",
      "source": [
        "The wide range of pre-activations explains why $\\tanh$ becomes saturated at the extremes. Values outside $[-2, 2]$ are squashed to $-1$ or $1$, where the gradient is zero. Since most values fall between $[-20, 20]$, the majority are compressed into these extremes, resulting in zero gradient and no learning from those inputs.\n",
        "\n",
        "By scaling down the hidden layer pre-activation values by an order of magnitude, they would more often fall within $[-2, 2]$, avoiding $\\tanh$ saturation, resulting in larger gradients, and therefore improving learning:"
      ],
      "metadata": {
        "id": "XH3RQMAWfDGy"
      }
    },
    {
      "cell_type": "code",
      "source": [
        "h_preact = result[\"h_preact\"] * 0.1\n",
        "plt.hist(h_preact.view(-1).tolist(), 50)"
      ],
      "metadata": {
        "colab": {
          "base_uri": "https://localhost:8080/",
          "height": 725
        },
        "id": "T5MALNXFHyq0",
        "outputId": "55b8e8bc-b125-4075-d22b-60e8e3aababd"
      },
      "execution_count": 83,
      "outputs": [
        {
          "output_type": "execute_result",
          "data": {
            "text/plain": [
              "(array([  3.,   3.,   9.,  14.,  13.,  18.,  25.,  41.,  66.,  87.,  72.,\n",
              "        108., 113., 143., 189., 212., 229., 241., 306., 335., 388., 411.,\n",
              "        388., 417., 351., 327., 291., 261., 269., 216., 168., 176., 110.,\n",
              "         82.,  72.,  60.,  50.,  28.,  39.,  17.,   5.,  24.,  10.,   5.,\n",
              "          2.,   1.,   2.,   0.,   0.,   3.]),\n",
              " array([-1.98919952, -1.89995344, -1.81070736, -1.72146128, -1.6322152 ,\n",
              "        -1.54296912, -1.45372304, -1.36447696, -1.27523088, -1.1859848 ,\n",
              "        -1.09673872, -1.00749264, -0.91824656, -0.82900048, -0.7397544 ,\n",
              "        -0.65050832, -0.56126224, -0.47201616, -0.38277008, -0.293524  ,\n",
              "        -0.20427792, -0.11503184, -0.02578576,  0.06346032,  0.1527064 ,\n",
              "         0.24195248,  0.33119856,  0.42044464,  0.50969072,  0.5989368 ,\n",
              "         0.68818288,  0.77742896,  0.86667504,  0.95592112,  1.0451672 ,\n",
              "         1.13441328,  1.22365936,  1.31290544,  1.40215152,  1.4913976 ,\n",
              "         1.58064368,  1.66988976,  1.75913584,  1.84838192,  1.937628  ,\n",
              "         2.02687408,  2.11612016,  2.20536624,  2.29461232,  2.3838584 ,\n",
              "         2.47310448]),\n",
              " <BarContainer object of 50 artists>)"
            ]
          },
          "metadata": {},
          "execution_count": 83
        },
        {
          "output_type": "display_data",
          "data": {
            "text/plain": [
              "<Figure size 640x480 with 1 Axes>"
            ],
            "image/png": "[encoded data removed]"
          },
          "metadata": {}
        }
      ]
    },
    {
      "cell_type": "markdown",
      "source": [
        "The hidden layer pre-activations are now all in a safe range, so most values will not fall into the extremes of the $tanh$ anymore."
      ],
      "metadata": {
        "id": "rAIoaRo4G17F"
      }
    },
    {
      "cell_type": "markdown",
      "source": [
        "Let's apply this scaling factor to the hidden layer's weights `W1` and check what happens to its activations as a result:"
      ],
      "metadata": {
        "id": "7lD3zm9GgNyR"
      }
    },
    {
      "cell_type": "code",
      "source": [
        "model = build_model(init_scales={\"W1\": 0.1, \"b1\" : 0.01, \"W2\": 0.01, \"b2\" : 0.0})\n",
        "result = train(training_set, model, 1)\n",
        "h = result[\"h\"]\n",
        "plt.figure(figsize=(20, 10))\n",
        "plt.imshow(h.abs() > 0.99, cmap=\"gray\")"
      ],
      "metadata": {
        "colab": {
          "base_uri": "https://localhost:8080/",
          "height": 345
        },
        "id": "wH6iJ7EFgPDH",
        "outputId": "b3751574-6035-46c9-f3ae-8967b35697bd"
      },
      "execution_count": 84,
      "outputs": [
        {
          "output_type": "stream",
          "name": "stdout",
          "text": [
            "      0/      1: 3.294898\n"
          ]
        },
        {
          "output_type": "execute_result",
          "data": {
            "text/plain": [
              "<matplotlib.image.AxesImage at 0x792869baab90>"
            ]
          },
          "metadata": {},
          "execution_count": 84
        },
        {
          "output_type": "display_data",
          "data": {
            "text/plain": [
              "<Figure size 2000x1000 with 1 Axes>"
            ],
            "image/png": "[encoded data removed]"
          },
          "metadata": {}
        }
      ]
    },
    {
      "cell_type": "markdown",
      "source": [
        "All pixels are black, meaning no hidden layer activations are falling into the flat regions of the $\\tanh$ function. This indicates that gradients are being calculated for every neuron, allowing the entire network to learn from each example during the early stages of training."
      ],
      "metadata": {
        "id": "ycNEUIRugiN5"
      }
    },
    {
      "cell_type": "markdown",
      "source": [
        "Let's do a long training run with these parameters:"
      ],
      "metadata": {
        "id": "vFuowBoDNzzM"
      }
    },
    {
      "cell_type": "code",
      "source": [
        "model = build_model(init_scales={\"W1\": 0.1, \"b1\" : 0.00, \"W2\": 0.01, \"b2\" : 0.0})\n",
        "result = train(training_set, model, 50_000)\n",
        "calculate_dataset_split_loss(model, \"training\")\n",
        "calculate_dataset_split_loss(model, \"validation\")"
      ],
      "metadata": {
        "colab": {
          "base_uri": "https://localhost:8080/"
        },
        "id": "JqpIGDLxN2i1",
        "outputId": "980a9289-da75-4818-bafa-05c5bd222acd"
      },
      "execution_count": 85,
      "outputs": [
        {
          "output_type": "stream",
          "name": "stdout",
          "text": [
            "      0/  50000: 3.294705\n",
            "  10000/  50000: 2.262302\n",
            "  20000/  50000: 2.428632\n",
            "  30000/  50000: 2.250552\n",
            "  40000/  50000: 1.943440\n",
            "training: 2.1586\n",
            "validation: 2.1903\n"
          ]
        }
      ]
    },
    {
      "cell_type": "markdown",
      "source": [
        "The resulting loss has improved again! Let's update our benchmark table with the results:\n",
        "\n",
        "| Experiment                    | Train Loss          | Validation Loss     |\n",
        "| ------------------------------| ------------------- | ------------------- |\n",
        "| Before optimizations | 2.5357            |2.5471            |\n",
        "| `{\"W2\" : 0.01, \"b2\": 0.0}`       |  2.2408           | 2.2859            |\n",
        "| `{\"W1\": 0.1, \"b1\" : 0.00, \"W2\": 0.01, \"b2\" : 0.0}`       |  2.1586           | 2.1903            |"
      ],
      "metadata": {
        "id": "kZRstCiNIPzw"
      }
    },
    {
      "cell_type": "markdown",
      "source": [
        "While initializing the weights to prevent any $\\tanh$ activation may work, it might be better to enable the model to use some non-linear expressivity from the start. Let's slightly increase the `W1` weights to allow some inputs to saturate the $\\tanh$, and add a small bias to `b1` for similar reasons:"
      ],
      "metadata": {
        "id": "LMZjBDeBIfC1"
      }
    },
    {
      "cell_type": "code",
      "source": [
        "model = build_model(init_scales={\"W1\": 0.2, \"b1\" : 0.01, \"W2\": 0.01, \"b2\" : 0.0})\n",
        "result = train(training_set, model, 1)\n",
        "h = result[\"h\"]\n",
        "plt.figure(figsize=(20, 10))\n",
        "plt.imshow(h.abs() > 0.99, cmap=\"gray\")"
      ],
      "metadata": {
        "id": "31K1L6GDhEBP",
        "colab": {
          "base_uri": "https://localhost:8080/",
          "height": 345
        },
        "outputId": "498a81e7-6466-47b3-f998-571abf350e29"
      },
      "execution_count": 86,
      "outputs": [
        {
          "output_type": "stream",
          "name": "stdout",
          "text": [
            "      0/      1: 3.290241\n"
          ]
        },
        {
          "output_type": "execute_result",
          "data": {
            "text/plain": [
              "<matplotlib.image.AxesImage at 0x792867aa2b30>"
            ]
          },
          "metadata": {},
          "execution_count": 86
        },
        {
          "output_type": "display_data",
          "data": {
            "text/plain": [
              "<Figure size 2000x1000 with 1 Axes>"
            ],
            "image/png": "[encoded data removed]"
          },
          "metadata": {}
        }
      ]
    },
    {
      "cell_type": "markdown",
      "source": [
        "Now let's do another run:"
      ],
      "metadata": {
        "id": "R7x-0t-ZhIIH"
      }
    },
    {
      "cell_type": "code",
      "source": [
        "model = build_model(init_scales={\"W1\": 0.2, \"b1\" : 0.01, \"W2\": 0.01, \"b2\" : 0.0})\n",
        "result = train(training_set, model, 50_000)\n",
        "calculate_dataset_split_loss(model, \"training\")\n",
        "calculate_dataset_split_loss(model, \"validation\")"
      ],
      "metadata": {
        "colab": {
          "base_uri": "https://localhost:8080/"
        },
        "id": "k8ySTC3yI2kL",
        "outputId": "17bcd4b9-ca28-4ecf-d813-67d1addfdfc7"
      },
      "execution_count": 87,
      "outputs": [
        {
          "output_type": "stream",
          "name": "stdout",
          "text": [
            "      0/  50000: 3.290241\n",
            "  10000/  50000: 2.190086\n",
            "  20000/  50000: 2.365613\n",
            "  30000/  50000: 2.217246\n",
            "  40000/  50000: 2.029909\n",
            "training: 2.1584\n",
            "validation: 2.1963\n"
          ]
        }
      ]
    },
    {
      "cell_type": "markdown",
      "source": [
        "The results were slightly worse, but very similar. They could have been better, depending on the problem and the randomness involved. The key idea remains: striking a balance between ensuring some non-linear expressivity at initialization while avoiding saturating the activations to maintain gradient flow. Let's log the experiment result:\n",
        "\n",
        "| Experiment                    | Train Loss          | Validation Loss     |\n",
        "| ------------------------------| ------------------- | ------------------- |\n",
        "| Before optimizations | 2.5357            |2.5471            |\n",
        "| `{\"W2\" : 0.01, \"b2\": 0.0}`       |  2.2408           | 2.2859            |\n",
        "| `{\"W1\": 0.1, \"b1\" : 0.00, \"W2\": 0.01, \"b2\" : 0.0}`       |  2.1586           | 2.1903            |\n",
        "| `{\"W1\": 0.2, \"b1\" : 0.01, \"W2\": 0.01, \"b2\" : 0.0}`       |  2.1584          |  2.1963            |"
      ],
      "metadata": {
        "id": "YgEfmyC3I3xV"
      }
    },
    {
      "cell_type": "markdown",
      "source": [
        "## Kaiming Initialization 🚀🔧\n",
        "\n",
        "Manual weight initialization can be tedious and error-prone, especially as networks grow more complex. [Kaiming Initialization](https://paperswithcode.com/method/he-initialization) simplifies this process by providing formulas to set initial weights that help maintain stable gradients during training. Let's explore how this method works and apply it to our model.\n",
        "\n",
        "We'll start with a simple example by simulating a forward pass through a layer (without bias or non-linear activation) and analyze how the input distributions affect the output distributions:"
      ],
      "metadata": {
        "id": "Fjsbzx36S0Yc"
      }
    },
    {
      "cell_type": "code",
      "source": [
        "import torch\n",
        "import matplotlib.pyplot as plt\n",
        "\n",
        "def _test_activations(init_scales = {}):\n",
        "    # Generate an input tensor of 1000 inputs with 10 values each\n",
        "    x = torch.randn(1000, 10) * init_scales.get('x', 1.0)\n",
        "\n",
        "    # Generate a weight matrix that stores the weights for the\n",
        "    # 10 values in each input to be forwarded to 200 neurons\n",
        "    w = torch.randn(10, 200) * init_scales.get('w', 1.0)\n",
        "\n",
        "    # Perform forward pass\n",
        "    y = x @ w\n",
        "\n",
        "    # Print the statistics of the inputs and outputs\n",
        "    print(f\"X - mean: {x.mean():.4f}, std: {x.std():.4f}\")\n",
        "    print(f\"Y - mean: {y.mean():.4f}, std: {y.std():.4f}\")\n",
        "\n",
        "    # Plot an histogram for X (50 bins)\n",
        "    plt.figure(figsize=(20, 5))\n",
        "    plt.subplot(121)\n",
        "    plt.hist(x.view(-1).tolist(), 50, density=True)\n",
        "    plt.title('Histogram of X')\n",
        "    plt.xlabel('Value')\n",
        "    plt.ylabel('Density')\n",
        "\n",
        "    # Plot an histogram for Y (50 bins) with dark green color\n",
        "    plt.subplot(122)\n",
        "    plt.hist(y.view(-1).tolist(), 50, density=True, color='darkgreen')\n",
        "    plt.title('Histogram of Y')\n",
        "    plt.xlabel('Value')\n",
        "    plt.ylabel('Density')\n",
        "\n",
        "    # Display the plots\n",
        "    plt.show()\n",
        "\n",
        "_test_activations()"
      ],
      "metadata": {
        "id": "7Jv43PQcS6f5",
        "colab": {
          "base_uri": "https://localhost:8080/",
          "height": 522
        },
        "outputId": "421cb6ba-501a-42c8-e487-48473fad361f"
      },
      "execution_count": 88,
      "outputs": [
        {
          "output_type": "stream",
          "name": "stdout",
          "text": [
            "X - mean: -0.0032, std: 1.0052\n",
            "Y - mean: 0.0044, std: 3.0927\n"
          ]
        },
        {
          "output_type": "display_data",
          "data": {
            "text/plain": [
              "<Figure size 2000x500 with 2 Axes>"
            ],
            "image/png": "[encoded data removed]"
          },
          "metadata": {}
        }
      ]
    },
    {
      "cell_type": "markdown",
      "source": [
        "The left plot shows the histogram for tensor $X$, which follows a *standard normal distribution* with a *mean* of $0.0$ ($\\mu=0$) and a *standard deviation* of $1.0$ ($\\sigma=1$).\n",
        "\n",
        "The right plot shows the histogram for tensor $Y$, which is also a *normal distribution* with a *mean* of $0.0$ ($\\mu=0$), but with a *standard deviation* of $3$ ($\\sigma=3$).\n",
        "\n",
        "Now, let's see what happens when we scale up the values of `w`:"
      ],
      "metadata": {
        "id": "P6_M5w-y2aaB"
      }
    },
    {
      "cell_type": "code",
      "source": [
        "_test_activations({'w' : 5})"
      ],
      "metadata": {
        "colab": {
          "base_uri": "https://localhost:8080/",
          "height": 522
        },
        "id": "IhqRv2FI3KQh",
        "outputId": "181a01f0-d4e0-40d8-b8dc-c95f72ee7514"
      },
      "execution_count": 89,
      "outputs": [
        {
          "output_type": "stream",
          "name": "stdout",
          "text": [
            "X - mean: 0.0143, std: 0.9924\n",
            "Y - mean: 0.0025, std: 15.8297\n"
          ]
        },
        {
          "output_type": "display_data",
          "data": {
            "text/plain": [
              "<Figure size 2000x500 with 2 Axes>"
            ],
            "image/png": "[encoded data removed]"
          },
          "metadata": {}
        }
      ]
    },
    {
      "cell_type": "markdown",
      "source": [
        "Scaling the weights by $5.0$ increased the *standard deviation* of $Y$ from $3$ to $16$ ($\\mu=0$, $\\sigma=16$).\n",
        "\n",
        "Now, let's scale down `w`:"
      ],
      "metadata": {
        "id": "dqkayl5Z3OxK"
      }
    },
    {
      "cell_type": "code",
      "source": [
        "_test_activations({'w' : 0.1})"
      ],
      "metadata": {
        "colab": {
          "base_uri": "https://localhost:8080/",
          "height": 522
        },
        "id": "kcSPChRP3dCn",
        "outputId": "1e10cefa-d5a0-4ccc-9b95-e3d3a597ff09"
      },
      "execution_count": 90,
      "outputs": [
        {
          "output_type": "stream",
          "name": "stdout",
          "text": [
            "X - mean: -0.0084, std: 1.0022\n",
            "Y - mean: -0.0000, std: 0.3245\n"
          ]
        },
        {
          "output_type": "display_data",
          "data": {
            "text/plain": [
              "<Figure size 2000x500 with 2 Axes>"
            ],
            "image/png": "[encoded data removed]"
          },
          "metadata": {}
        }
      ]
    },
    {
      "cell_type": "markdown",
      "source": [
        "Scaling down the weights by $0.1$ decreased the *standard deviation* of $Y$ from $3$ to $0.3$ ($\\mu=0$, $\\sigma=0.3$).\n",
        "\n",
        "Now that we understand how scaling affects the *standard deviation*, the question is: what value will make $Y$ have a *standard deviation* of $1.0$ ($\\mu=0$, $\\sigma=1$)?\n",
        "\n",
        "The answer is to divide the weights by the square root of the *fan-in*, which is the first dimension of the tensor. Since the shape of the tensor `w` is $(10, 200)$, its *fan-in* is $10$, so we need to divide all the tensor values by $\\sqrt{10}$."
      ],
      "metadata": {
        "id": "v7lRW53o3Z0h"
      }
    },
    {
      "cell_type": "code",
      "source": [
        "_test_activations({'w' : 1 / 10**0.5}) # square root of 10 is the same as pow(10, 0.5); also multiplying by 1/10**0.5 is the same as dividing by 10**0.5"
      ],
      "metadata": {
        "colab": {
          "base_uri": "https://localhost:8080/",
          "height": 522
        },
        "id": "dOKyD_924LN8",
        "outputId": "427479c4-634b-4a78-a009-de7780e2c941"
      },
      "execution_count": 91,
      "outputs": [
        {
          "output_type": "stream",
          "name": "stdout",
          "text": [
            "X - mean: 0.0013, std: 1.0020\n",
            "Y - mean: 0.0007, std: 0.9946\n"
          ]
        },
        {
          "output_type": "display_data",
          "data": {
            "text/plain": [
              "<Figure size 2000x500 with 2 Axes>"
            ],
            "image/png": "[encoded data removed]"
          },
          "metadata": {}
        }
      ]
    },
    {
      "cell_type": "markdown",
      "source": [
        "We now know how to initialize the model's parameters so that the layer outputs follow a *standard normal distribution* ($\\mu=0$, $\\sigma=1$), reducing the risk of vanishing or exploding gradients.\n",
        "\n",
        "*Kaiming Initialization* improves on this by specifying different gains for each non-linearity. For example, $tanh$ progressively compresses values, so multiplying weights by a gain can counteract this effect.\n",
        "\n",
        "However, precise initialization is less critical now, thanks to techniques like [Batch Normalization](https://paperswithcode.com/method/batch-normalization), [Residual Connections](https://paperswithcode.com/method/residual-connection), and optimizers like [Adam](https://paperswithcode.com/method/adam), which help networks overcome imperfect initialization.\n",
        "\n",
        "Therefore, dividing the weights by the square root of the layer's fan-in is a solid starting point.\n",
        "\n",
        "Let's update the `build_model()` method for proper initialization and retrain:"
      ],
      "metadata": {
        "id": "7SQbx3iF6Hkr"
      }
    },
    {
      "cell_type": "code",
      "source": [
        "import inspect\n",
        "from functools import wraps\n",
        "\n",
        "# Applies the default kwargs from the specified function\n",
        "# into the provided kwargs (for undefined values); we'll\n",
        "# require this to be able to redefine the behavior of\n",
        "# the build_model() function (and others) without fully\n",
        "# re-implementing it (see below)\n",
        "def apply_kwargs_defaults(func, kwargs):\n",
        "    # Get the default argument values for the function\n",
        "    signature = inspect.signature(func)\n",
        "    default_kwargs = {\n",
        "        k: v.default\n",
        "        for k, v in signature.parameters.items()\n",
        "        if v.default is not inspect.Parameter.empty\n",
        "    }\n",
        "    # Update default kwargs with provided kwargs\n",
        "    default_kwargs.update(kwargs)\n",
        "    return default_kwargs\n",
        "\n",
        "# Redefine build_model() without rewriting the whole function.\n",
        "# We just change the keyword arguments and call the original function.\n",
        "def build_model(*args, init_gain=1, **kwargs):\n",
        "  # Apply the defaults from the original build_model function\n",
        "  kwargs = apply_kwargs_defaults(_build_model_1, kwargs)\n",
        "\n",
        "  # Calculate the proper scales for each layer\n",
        "  # and set them in the keyword arguments\n",
        "  embedding_size = kwargs[\"embedding_size\"]\n",
        "  n_hidden = kwargs[\"n_hidden\"]\n",
        "  block_size = kwargs[\"block_size\"]\n",
        "  kwargs[\"init_scales\"] = {\n",
        "      \"C\" : 1.0 / (vocabulary_size ** 0.5),\n",
        "      \"W1\" : init_gain / ((embedding_size * block_size) ** 0.5),\n",
        "      \"b1\" : 1.0 / (n_hidden ** 0.5),\n",
        "      \"W2\" : init_gain / (n_hidden ** 0.5),\n",
        "      \"b2\" : 1.0 / (vocabulary_size ** 0.5)\n",
        "  }\n",
        "\n",
        "  # Invoke the original build_model function\n",
        "  # with the updated keyword arguments\n",
        "  return _build_model_1(*args, **kwargs)\n",
        "\n",
        "# Store the reference of this new build_model()\n",
        "# version so we can extend it further later on\n",
        "_build_model_2 = build_model\n",
        "\n",
        "# Calculate the initial training loss and compare it to our target\n",
        "model = build_model()\n",
        "result = train(training_set, model, 1)\n",
        "initial_loss = result[\"losses\"][0]\n",
        "initial_loss, expected_initial_loss"
      ],
      "metadata": {
        "colab": {
          "base_uri": "https://localhost:8080/"
        },
        "id": "pSARtHAZ66Yo",
        "outputId": "85da5ea7-e156-4de4-d2d4-ac8200e9a12a"
      },
      "execution_count": 92,
      "outputs": [
        {
          "output_type": "stream",
          "name": "stdout",
          "text": [
            "      0/      1: 3.427603\n"
          ]
        },
        {
          "output_type": "execute_result",
          "data": {
            "text/plain": [
              "(3.427603244781494, tensor(3.2958))"
            ]
          },
          "metadata": {},
          "execution_count": 92
        }
      ]
    },
    {
      "cell_type": "markdown",
      "source": [
        "Notice how, without any manual adjustments, we achieved an initial loss very close to the expected value for a perfect uniform probability distribution at initialization.\n",
        "\n",
        "Now, let's run a long training session and observe the results:"
      ],
      "metadata": {
        "id": "Ujupn03c_l4y"
      }
    },
    {
      "cell_type": "code",
      "source": [
        "model = build_model()\n",
        "result = train(training_set, model, 50_000)\n",
        "calculate_dataset_split_loss(model, \"training\")\n",
        "calculate_dataset_split_loss(model, \"validation\")"
      ],
      "metadata": {
        "id": "4Lf24YTr_gbd",
        "colab": {
          "base_uri": "https://localhost:8080/"
        },
        "outputId": "fa5b9a43-c044-431d-fdc2-0f058432cced"
      },
      "execution_count": 93,
      "outputs": [
        {
          "output_type": "stream",
          "name": "stdout",
          "text": [
            "      0/  50000: 3.427603\n",
            "  10000/  50000: 2.375229\n",
            "  20000/  50000: 2.432935\n",
            "  30000/  50000: 2.204496\n",
            "  40000/  50000: 1.993320\n",
            "training: 2.1782\n",
            "validation: 2.2021\n"
          ]
        }
      ]
    },
    {
      "cell_type": "markdown",
      "source": [
        "Although these aren't the best results so far, they're much better than an uninitialized model.\n",
        "\n",
        "| Experiment                    | Train Loss          | Validation Loss     |\n",
        "| ------------------------------| ------------------- | ------------------- |\n",
        "| Before optimizations | 2.5357            |2.5471            |\n",
        "| `{\"W2\" : 0.01, \"b2\": 0.0}`       |  2.2408           | 2.2859            |\n",
        "| `{\"W1\": 0.1, \"b1\" : 0.00, \"W2\": 0.01, \"b2\" : 0.0}`       |  2.1586           | 2.1903            |\n",
        "| `{\"W1\": 0.2, \"b1\" : 0.00, \"W2\": 0.01, \"b2\" : 0.0}`       |  2.1594          |  2.1979            |\n",
        "| `{\"W1\": 0.2, \"b1\" : 0.01, \"W2\": 0.01, \"b2\" : 0.0}`       |  2.1584           |  2.1963          |\n",
        "| Kaiming Initialization (without gain)       |  2.1782           |  2.2021            |\n"
      ],
      "metadata": {
        "id": "7JcHhQhw_RZo"
      }
    },
    {
      "cell_type": "markdown",
      "source": [
        "But what if we followed the paper exactly and applied the correct gain for the non-linearity we're using, $\\tanh$?"
      ],
      "metadata": {
        "id": "PQnvqBIl64Ta"
      }
    },
    {
      "cell_type": "code",
      "source": [
        "import math\n",
        "\n",
        "# Redefine build_model() without rewriting the whole function.\n",
        "# We just change the keyword arguments and call the original function.\n",
        "def build_model(*args, **kwargs):\n",
        "    # Apply the defaults from the original build_model function\n",
        "    kwargs = apply_kwargs_defaults(_build_model_1, kwargs)\n",
        "\n",
        "    # Apply gain factor for tanh based\n",
        "    # on Kaiming Init paper recommendation\n",
        "    tanh_gain = 5 / 3\n",
        "    kwargs[\"init_gain\"] = tanh_gain\n",
        "\n",
        "    # Invoke the original build_model function\n",
        "    # with the updated keyword arguments\n",
        "    return _build_model_2(*args, **kwargs)\n",
        "\n",
        "# Store the reference of this new build_model()\n",
        "# version so we can extend it further later on\n",
        "_build_model_3 = build_model\n",
        "\n",
        "# Calculate the initial training loss and compare it to our target\n",
        "model = build_model()\n",
        "result = train(training_set, model, 1)\n",
        "initial_loss = result[\"losses\"][0]\n",
        "initial_loss, expected_initial_loss"
      ],
      "metadata": {
        "colab": {
          "base_uri": "https://localhost:8080/"
        },
        "id": "nJVLAvlI5zG9",
        "outputId": "246d15e6-54a1-42b8-9e15-85abd2a6f8aa"
      },
      "execution_count": 94,
      "outputs": [
        {
          "output_type": "stream",
          "name": "stdout",
          "text": [
            "      0/      1: 3.544665\n"
          ]
        },
        {
          "output_type": "execute_result",
          "data": {
            "text/plain": [
              "(3.5446648597717285, tensor(3.2958))"
            ]
          },
          "metadata": {},
          "execution_count": 94
        }
      ]
    },
    {
      "cell_type": "markdown",
      "source": [
        "The initial loss isn't as good as it was without the gain. Let's set that aside and run a long training session to see the final outcome:"
      ],
      "metadata": {
        "id": "NVG2Vozp8NUb"
      }
    },
    {
      "cell_type": "code",
      "source": [
        "model = build_model()\n",
        "result = train(training_set, model, 50_000)\n",
        "calculate_dataset_split_loss(model, \"training\")\n",
        "calculate_dataset_split_loss(model, \"validation\")"
      ],
      "metadata": {
        "colab": {
          "base_uri": "https://localhost:8080/"
        },
        "id": "QfyqKdny6CtB",
        "outputId": "629ebbdf-5716-4670-9fec-8ddb03aa5ea4"
      },
      "execution_count": 95,
      "outputs": [
        {
          "output_type": "stream",
          "name": "stdout",
          "text": [
            "      0/  50000: 3.544665\n",
            "  10000/  50000: 2.383607\n",
            "  20000/  50000: 2.466025\n",
            "  30000/  50000: 2.272717\n",
            "  40000/  50000: 1.975847\n",
            "training: 2.1696\n",
            "validation: 2.1977\n"
          ]
        }
      ]
    },
    {
      "cell_type": "markdown",
      "source": [
        "Using proper initialization gave us the best results so far, but they aren't significantly different from not applying the gain. This reinforces the idea that skipping the gain is likely good enough while being simpler. Let's log the outcome of this experiment:\n",
        "\n",
        "| Experiment                    | Train Loss          | Validation Loss     |\n",
        "| ------------------------------| ------------------- | ------------------- |\n",
        "| Before optimizations | 2.5357            |2.5471            |\n",
        "| `{\"W2\" : 0.01, \"b2\": 0.0}`       |  2.2408           | 2.2859            |\n",
        "| `{\"W1\": 0.1, \"b1\" : 0.00, \"W2\": 0.01, \"b2\" : 0.0}`       |  2.1586           | 2.1903            |\n",
        "| `{\"W1\": 0.2, \"b1\" : 0.00, \"W2\": 0.01, \"b2\" : 0.0}`       |  2.1594          |  2.1979            |\n",
        "| `{\"W1\": 0.2, \"b1\" : 0.01, \"W2\": 0.01, \"b2\" : 0.0}`       |  2.1584           |  2.1963          |\n",
        "| Kaiming Initialization (without gain)       |  2.1782           |  2.2021            |\n",
        "| Kaiming Initialization (with $tanh$ gain)       |  2.1696          |   2.1977            |\n"
      ],
      "metadata": {
        "id": "kLL6-fTc62U3"
      }
    },
    {
      "cell_type": "markdown",
      "source": [
        "## Batch Normalization ⚙️📏\n",
        "\n",
        "Even with proper initialization, neural networks can have unstable training due to fluctuating activation distributions. Batch Normalization addresses this by normalizing pre-activations, leading to faster convergence and better performance.\n",
        "\n",
        "We want the hidden layer pre-activations to be roughly normal—neither too low (to avoid under-activating $\\tanh$) nor too high (to avoid saturating it).\n",
        "\n",
        "Let's apply this to the `h_preact` tensor and first check its shape:"
      ],
      "metadata": {
        "id": "5_69XArsLrqW"
      }
    },
    {
      "cell_type": "code",
      "source": [
        "h_preact = result[\"h_preact\"]\n",
        "h_preact.shape"
      ],
      "metadata": {
        "id": "h2AX7DKV8MSr",
        "colab": {
          "base_uri": "https://localhost:8080/"
        },
        "outputId": "f4d7cc5a-e013-4438-a50f-2db3fea5667c"
      },
      "execution_count": 96,
      "outputs": [
        {
          "output_type": "execute_result",
          "data": {
            "text/plain": [
              "torch.Size([32, 200])"
            ]
          },
          "metadata": {},
          "execution_count": 96
        }
      ]
    },
    {
      "cell_type": "markdown",
      "source": [
        "The `h_preact` tensor contains activations for $32$ examples from the mini-batch, propagated to $200$ neurons in the hidden layer. To normalize these activations, we'll calculate the mean across each example's rows, resulting in a tensor of shape $(1, 200)$:"
      ],
      "metadata": {
        "id": "p6eFLvuummpd"
      }
    },
    {
      "cell_type": "code",
      "source": [
        "h_preact.mean(0, keepdim=True).shape, h_preact.mean(0, keepdim=True)"
      ],
      "metadata": {
        "id": "gkVOiK0k8QIM",
        "colab": {
          "base_uri": "https://localhost:8080/"
        },
        "outputId": "f65aca31-7ac7-4d23-96c7-231e7cb76a03"
      },
      "execution_count": 97,
      "outputs": [
        {
          "output_type": "execute_result",
          "data": {
            "text/plain": [
              "(torch.Size([1, 200]),\n",
              " tensor([[ 0.5054,  0.1299, -0.1330, -0.0058, -0.8016, -0.2010,  0.0056,  0.1707,\n",
              "          -0.3012,  0.4277,  0.3122, -0.2107,  0.3962, -0.3493,  1.1691,  0.2888,\n",
              "          -0.1592,  0.0426, -0.1716, -0.7665, -0.0756, -0.1291, -0.3633, -0.1604,\n",
              "           0.2597,  0.4800,  0.2269, -0.0887,  0.6783, -0.3219,  0.2792, -0.2367,\n",
              "           0.2121, -0.0894, -0.2116, -0.6583,  1.1220, -0.7861, -0.2389, -0.2466,\n",
              "          -0.3013,  0.0988,  0.3214, -0.4488,  0.1489,  0.4595,  0.0811,  0.4243,\n",
              "           0.4313, -0.3156,  0.6376,  0.0057, -0.2650, -0.3665,  0.3177, -0.3037,\n",
              "           0.4737,  0.1357,  0.2952, -0.2821,  0.5165,  0.4213, -1.2157,  0.1839,\n",
              "           0.0394, -0.4026,  0.0873,  0.4416,  0.4015,  0.0919, -0.3484,  0.2952,\n",
              "           0.3902, -0.3297,  0.2275, -0.4024, -0.0472,  0.0750,  0.1438, -0.4120,\n",
              "          -0.4320, -0.0067, -0.1962,  0.9684,  0.3712,  0.0859,  0.0261, -0.2596,\n",
              "          -0.4837,  0.5147, -0.1544,  0.0635, -0.0830,  0.5315, -0.0528,  0.0961,\n",
              "           0.1498, -0.5786, -0.1010, -0.2644,  0.0596, -0.0039, -0.0903, -0.1024,\n",
              "          -0.1116,  0.6481,  0.1428, -0.1967,  0.2613, -0.1557,  0.3173, -0.3784,\n",
              "          -0.5931, -0.2240,  0.2359, -0.2655, -0.3658,  0.2776, -0.1395,  0.4576,\n",
              "           0.4816,  0.5871,  0.6006,  0.1253,  1.0556, -0.1799,  0.4070, -0.0504,\n",
              "          -0.8069,  0.0341,  0.6685, -0.0230,  0.0484,  0.2751, -0.1250,  0.4559,\n",
              "           0.2492,  1.1280, -0.2419, -0.3178, -0.6379, -0.6326,  0.2993,  0.1975,\n",
              "          -0.8177,  0.3502,  0.3188,  0.7677, -0.0181,  0.0113, -0.3662,  0.2082,\n",
              "          -0.2234,  0.6712, -0.1936, -1.1264,  0.3486, -0.0066,  0.4780,  1.0925,\n",
              "          -0.4033, -1.2019,  0.1169,  0.2261, -0.5766, -0.3472,  0.7887, -1.5991,\n",
              "           0.3572,  0.7207,  1.2768,  0.3474, -0.5337, -0.3663, -0.2658, -0.1271,\n",
              "           0.1907, -0.4301, -0.0765,  0.2247,  0.4260, -0.4522, -0.2730, -0.3857,\n",
              "           0.2046,  0.4223,  0.3893, -0.4879,  0.0139,  0.6957,  1.0146,  0.0500,\n",
              "          -0.0196, -0.4327, -0.8205,  1.0231,  0.5783,  0.0038, -0.0765,  0.2637]],\n",
              "        grad_fn=<MeanBackward1>))"
            ]
          },
          "metadata": {},
          "execution_count": 97
        }
      ]
    },
    {
      "cell_type": "markdown",
      "source": [
        "We can use the same approach to calculate the standard deviation:"
      ],
      "metadata": {
        "id": "0vD3Ld0Em2vg"
      }
    },
    {
      "cell_type": "code",
      "source": [
        "h_preact.std(0, keepdim=True).shape, h_preact.mean(0, keepdim=True)"
      ],
      "metadata": {
        "id": "M5aMwy8Z8VoW",
        "colab": {
          "base_uri": "https://localhost:8080/"
        },
        "outputId": "61af798a-5da3-423c-de45-5ac1e94fbdc2"
      },
      "execution_count": 98,
      "outputs": [
        {
          "output_type": "execute_result",
          "data": {
            "text/plain": [
              "(torch.Size([1, 200]),\n",
              " tensor([[ 0.5054,  0.1299, -0.1330, -0.0058, -0.8016, -0.2010,  0.0056,  0.1707,\n",
              "          -0.3012,  0.4277,  0.3122, -0.2107,  0.3962, -0.3493,  1.1691,  0.2888,\n",
              "          -0.1592,  0.0426, -0.1716, -0.7665, -0.0756, -0.1291, -0.3633, -0.1604,\n",
              "           0.2597,  0.4800,  0.2269, -0.0887,  0.6783, -0.3219,  0.2792, -0.2367,\n",
              "           0.2121, -0.0894, -0.2116, -0.6583,  1.1220, -0.7861, -0.2389, -0.2466,\n",
              "          -0.3013,  0.0988,  0.3214, -0.4488,  0.1489,  0.4595,  0.0811,  0.4243,\n",
              "           0.4313, -0.3156,  0.6376,  0.0057, -0.2650, -0.3665,  0.3177, -0.3037,\n",
              "           0.4737,  0.1357,  0.2952, -0.2821,  0.5165,  0.4213, -1.2157,  0.1839,\n",
              "           0.0394, -0.4026,  0.0873,  0.4416,  0.4015,  0.0919, -0.3484,  0.2952,\n",
              "           0.3902, -0.3297,  0.2275, -0.4024, -0.0472,  0.0750,  0.1438, -0.4120,\n",
              "          -0.4320, -0.0067, -0.1962,  0.9684,  0.3712,  0.0859,  0.0261, -0.2596,\n",
              "          -0.4837,  0.5147, -0.1544,  0.0635, -0.0830,  0.5315, -0.0528,  0.0961,\n",
              "           0.1498, -0.5786, -0.1010, -0.2644,  0.0596, -0.0039, -0.0903, -0.1024,\n",
              "          -0.1116,  0.6481,  0.1428, -0.1967,  0.2613, -0.1557,  0.3173, -0.3784,\n",
              "          -0.5931, -0.2240,  0.2359, -0.2655, -0.3658,  0.2776, -0.1395,  0.4576,\n",
              "           0.4816,  0.5871,  0.6006,  0.1253,  1.0556, -0.1799,  0.4070, -0.0504,\n",
              "          -0.8069,  0.0341,  0.6685, -0.0230,  0.0484,  0.2751, -0.1250,  0.4559,\n",
              "           0.2492,  1.1280, -0.2419, -0.3178, -0.6379, -0.6326,  0.2993,  0.1975,\n",
              "          -0.8177,  0.3502,  0.3188,  0.7677, -0.0181,  0.0113, -0.3662,  0.2082,\n",
              "          -0.2234,  0.6712, -0.1936, -1.1264,  0.3486, -0.0066,  0.4780,  1.0925,\n",
              "          -0.4033, -1.2019,  0.1169,  0.2261, -0.5766, -0.3472,  0.7887, -1.5991,\n",
              "           0.3572,  0.7207,  1.2768,  0.3474, -0.5337, -0.3663, -0.2658, -0.1271,\n",
              "           0.1907, -0.4301, -0.0765,  0.2247,  0.4260, -0.4522, -0.2730, -0.3857,\n",
              "           0.2046,  0.4223,  0.3893, -0.4879,  0.0139,  0.6957,  1.0146,  0.0500,\n",
              "          -0.0196, -0.4327, -0.8205,  1.0231,  0.5783,  0.0038, -0.0765,  0.2637]],\n",
              "        grad_fn=<MeanBackward1>))"
            ]
          },
          "metadata": {},
          "execution_count": 98
        }
      ]
    },
    {
      "cell_type": "markdown",
      "source": [
        "To standardize the `h_preact` tensor, we subtract the mean and divide by the standard deviation. Since neural network pre-activations typically follow a normal distribution (especially in deeper networks), this transforms them into a *standard normal distribution* ($\\mu=0.0$, $\\sigma=1.0$).\n",
        "\n",
        "Let's normalize the hidden layer pre-activations:"
      ],
      "metadata": {
        "id": "3HxdvUANm-oZ"
      }
    },
    {
      "cell_type": "code",
      "source": [
        "h_preact_norm = (h_preact - h_preact.mean(0, keepdim=True)) / h_preact.std(0, keepdim=True)\n",
        "h_preact_norm.shape, h_preact_norm"
      ],
      "metadata": {
        "id": "ljFWq7TE8j0Z",
        "colab": {
          "base_uri": "https://localhost:8080/"
        },
        "outputId": "fbbf92cd-e6c7-495d-9c54-0cc48dbf2f29"
      },
      "execution_count": 99,
      "outputs": [
        {
          "output_type": "execute_result",
          "data": {
            "text/plain": [
              "(torch.Size([32, 200]),\n",
              " tensor([[ 0.9158,  1.0258,  0.8119,  ...,  0.3498,  0.6431, -0.4056],\n",
              "         [ 0.5320,  0.6898,  0.3573,  ..., -0.1710, -0.2316, -0.3683],\n",
              "         [-1.4102, -0.3794, -1.8487,  ...,  0.4938,  0.9886,  1.2783],\n",
              "         ...,\n",
              "         [ 0.5320,  0.6898,  0.3573,  ..., -0.1710, -0.2316, -0.3683],\n",
              "         [-2.6332, -0.0215, -0.7828,  ..., -0.1133, -0.5769,  0.6678],\n",
              "         [ 0.3081, -0.5379, -0.0467,  ...,  2.0543,  0.0831,  1.8138]],\n",
              "        grad_fn=<DivBackward0>))"
            ]
          },
          "metadata": {},
          "execution_count": 99
        }
      ]
    },
    {
      "cell_type": "markdown",
      "source": [
        "Let's run a long training session where we normalize the hidden layer's pre-activations and measure the resulting loss:"
      ],
      "metadata": {
        "id": "RvrKw_mo9Ffy"
      }
    },
    {
      "cell_type": "code",
      "source": [
        "def train(*args, **kwargs):\n",
        "  kwargs = apply_kwargs_defaults(_train_1, kwargs)\n",
        "  kwargs[\"posthook_h_preact\"] = lambda h_preact: (h_preact - h_preact.mean(0, keepdim=True)) / h_preact.std(0, keepdim=True)\n",
        "  return _train_1(*args, **kwargs)\n",
        "\n",
        "model = build_model()\n",
        "result = train(training_set, model, 50_000)\n",
        "calculate_dataset_split_loss(model, \"training\")\n",
        "calculate_dataset_split_loss(model, \"validation\")"
      ],
      "metadata": {
        "id": "hyRpVO-j9QVn",
        "colab": {
          "base_uri": "https://localhost:8080/"
        },
        "outputId": "f38265f1-72fe-44a7-ec52-356a2ad4f449"
      },
      "execution_count": 100,
      "outputs": [
        {
          "output_type": "stream",
          "name": "stdout",
          "text": [
            "      0/  50000: 3.945647\n",
            "  10000/  50000: 2.209810\n",
            "  20000/  50000: 2.387540\n",
            "  30000/  50000: 2.260013\n",
            "  40000/  50000: 1.997651\n",
            "training: 2.3224\n",
            "validation: 2.3449\n"
          ]
        }
      ]
    },
    {
      "cell_type": "markdown",
      "source": [
        "Looking at our previous experiments, the loss we got this time is significantly worse!\n",
        "\n",
        "| Experiment                    | Train Loss          | Validation Loss     |\n",
        "| ------------------------------| ------------------- | ------------------- |\n",
        "| Before optimizations | 2.5357            |2.5471            |\n",
        "| `{\"W2\" : 0.01, \"b2\": 0.0}`       |  2.2408           | 2.2859            |\n",
        "| `{\"W1\": 0.1, \"b1\" : 0.00, \"W2\": 0.01, \"b2\" : 0.0}`       |  2.1586           | 2.1903            |\n",
        "| `{\"W1\": 0.2, \"b1\" : 0.00, \"W2\": 0.01, \"b2\" : 0.0}`       |  2.1594          |  2.1979            |\n",
        "| `{\"W1\": 0.2, \"b1\" : 0.01, \"W2\": 0.01, \"b2\" : 0.0}`       |  2.1584           |  2.1963          |\n",
        "| Kaiming Initialization (without gain)       |  2.1782           |  2.2021            |\n",
        "| Kaiming Initialization (with $tanh$ gain)       |  2.1696          |   2.1977            |\n",
        "| Kaiming (with gain) + Batch Normalization (broken)      |  2.3224           |  2.3449            |\n"
      ],
      "metadata": {
        "id": "_9JGnvBeqRPp"
      }
    },
    {
      "cell_type": "markdown",
      "source": [
        "The loss wasn't great because we don't just want to normalize the activations; we need a normalization that can be scaled and shifted to make the activations more flexible during training.\n",
        "\n",
        "To achieve this, we add two learnable parameters: **gamma** (gain, initialized to $1$) and **beta** (bias, initialized to $0$). These allow the network to adjust how much the activations are amplified or suppressed and where the baseline activation level should be.\n",
        "\n",
        "By applying these parameters to the normalization function, the network gains control over the activation distribution, making it more robust and adaptable.\n",
        "\n",
        "This flexibility helps prevent issues like *vanishing gradients* and enables better overall learning."
      ],
      "metadata": {
        "id": "5M6vKG3-906A"
      }
    },
    {
      "cell_type": "code",
      "source": [
        "def build_model(*args, **kwargs):\n",
        "  kwargs = apply_kwargs_defaults(_build_model_1, kwargs)\n",
        "\n",
        "  n_hidden = kwargs[\"n_hidden\"]\n",
        "  bn_gain = torch.ones((1, n_hidden)) # Batch normalization parameter: How much to scale up and down each activation\n",
        "  bn_bias = torch.zeros((1, n_hidden)) # Batch normalization parameter: How much to shift each activation\n",
        "  kwargs[\"extra_parameters\"] = [bn_gain, bn_bias]\n",
        "\n",
        "  return _build_model_3(*args, **kwargs)\n",
        "\n",
        "# Store reference to allow overriding later\n",
        "_build_model_4 = build_model\n",
        "\n",
        "def train(*args, **kwargs):\n",
        "  kwargs = apply_kwargs_defaults(_train_1, kwargs)\n",
        "\n",
        "  # Add a step in the feed forward process where hidden layer pre-activations are standardized\n",
        "  # before being fed to the activation function from that layer (aka batch normalization)\n",
        "  model = args[1]\n",
        "  (C, W1, b1, W2, b2, bn_gain, bn_bias), _ = model\n",
        "  kwargs[\"posthook_h_preact\"] = lambda h_preact: bn_gain * ((h_preact - h_preact.mean(0, keepdim=True)) / h_preact.std(0, keepdim=True)) + bn_bias\n",
        "\n",
        "  return _train_1(*args, **kwargs)\n",
        "\n",
        "def calculate_dataset_split_loss(*args, **kwargs):\n",
        "  kwargs = apply_kwargs_defaults(_calculate_dataset_split_loss_1, kwargs)\n",
        "\n",
        "  # Add a step in the feed forward process where hidden layer pre-activations are standardized\n",
        "  # before being fed to the activation function from that layer (aka batch normalization)\n",
        "  model = args[0]\n",
        "  (C, W1, b1, W2, b2, bn_gain, bn_bias), _ = model\n",
        "  kwargs[\"posthook_h_preact\"] = lambda h_preact: bn_gain * ((h_preact - h_preact.mean(0, keepdim=True)) / h_preact.std(0, keepdim=True)) + bn_bias\n",
        "\n",
        "  return _calculate_dataset_split_loss_1(*args, **kwargs)\n",
        "\n",
        "# Train again for 50k steps\n",
        "model = build_model()\n",
        "result = train(training_set, model, 50_000)\n",
        "calculate_dataset_split_loss(model, \"training\")\n",
        "calculate_dataset_split_loss(model, \"validation\")"
      ],
      "metadata": {
        "id": "nW3nhf5y-Tfa",
        "colab": {
          "base_uri": "https://localhost:8080/"
        },
        "outputId": "be20ddb3-6071-4e79-bffd-43308dd01f8b"
      },
      "execution_count": 101,
      "outputs": [
        {
          "output_type": "stream",
          "name": "stdout",
          "text": [
            "      0/  50000: 3.945647\n",
            "  10000/  50000: 2.176545\n",
            "  20000/  50000: 2.373841\n",
            "  30000/  50000: 2.183329\n",
            "  40000/  50000: 1.940192\n",
            "training: 2.1760\n",
            "validation: 2.1993\n"
          ]
        }
      ]
    },
    {
      "cell_type": "markdown",
      "source": [
        "Let's update our benchmarks:\n",
        "\n",
        "| Experiment                    | Train Loss          | Validation Loss     |\n",
        "| ------------------------------| ------------------- | ------------------- |\n",
        "| Before optimizations | 2.5357            |2.5471            |\n",
        "| `{\"W2\" : 0.01, \"b2\": 0.0}`       |  2.2408           | 2.2859            |\n",
        "| `{\"W1\": 0.1, \"b1\" : 0.00, \"W2\": 0.01, \"b2\" : 0.0}`       |  2.1586           | 2.1903            |\n",
        "| `{\"W1\": 0.2, \"b1\" : 0.00, \"W2\": 0.01, \"b2\" : 0.0}`       |  2.1594          |  2.1979            |\n",
        "| `{\"W1\": 0.2, \"b1\" : 0.01, \"W2\": 0.01, \"b2\" : 0.0}`       |  2.1584           |  2.1963          |\n",
        "| Kaiming Initialization (without gain)       |  2.1782           |  2.2021            |\n",
        "| Kaiming Initialization (with $tanh$ gain)       |  2.1696          |   2.1977            |\n",
        "| Kaiming (with gain) + Batch Normalization (broken)      |  2.3224           |  2.3449            |\n",
        "| Kaiming (with gain) + Batch Normalization      |  2.1760           |  2.1993            |\n"
      ],
      "metadata": {
        "id": "4jbgFB7gBm_c"
      }
    },
    {
      "cell_type": "markdown",
      "source": [
        "We saw a significant improvement compared to our previous broken implementation of Batch Normalization, where the model lacked control over the gain and bias of the distribution.\n",
        "\n",
        "However, the improvement is underwhelming compared to other experiments. Don't discount it yet—batch normalization is much more impactful in deeper networks, where it helps control the scale of activations and gradients, which initialization alone can't fully manage.\n"
      ],
      "metadata": {
        "id": "FP3lZ6_DA2n0"
      }
    },
    {
      "cell_type": "markdown",
      "source": [
        "There's still an issue to address: the learned *gain* and *bias* are tailored to specific batch sizes used during training. However, during inference, batch sizes may differ, or individual examples may be used, making the training statistics unsuitable. To fix this, we calculate average statistics over the entire training set for use during inference:"
      ],
      "metadata": {
        "id": "6A5yVG6jOth1"
      }
    },
    {
      "cell_type": "code",
      "source": [
        "# Calculate the batch normalization mean and std for the whole dataset split\n",
        "@torch.no_grad()\n",
        "def calculate_batch_norm_statistics(dataset, model):\n",
        "  parameters, _ = model\n",
        "  C, W1, b1, W2, b2, bngain, bnbias = parameters # Unpack model parameters\n",
        "  X, _ = dataset # Get inputs from dataset\n",
        "  emb = C[X] # Fetch embeddings\n",
        "  embcat = emb.view(emb.shape[0], -1) # Concatenate embeddings\n",
        "  h_preact = embcat @ W1 + b1 # Calculate hidden layer pre-activation\n",
        "  bn_mean = h_preact.mean(0, keepdim=True) # Calculate the mean for the hidden layer pre-activation\n",
        "  bn_std = h_preact.std(0, keepdim=True) # Calculate the standard deviation for the hidden layer pre-activation\n",
        "  return (bn_mean, bn_std) # Return the statistics\n",
        "\n",
        "# Calculate the batch normalization statistics for the entire training set\n",
        "batch_norm_statistics = calculate_batch_norm_statistics(training_set, model)\n",
        "\n",
        "def calculate_dataset_split_loss(*args, **kwargs):\n",
        "  kwargs = apply_kwargs_defaults(_calculate_dataset_split_loss_1, kwargs)\n",
        "\n",
        "  # In case batch norm statistics were provided, normalize the\n",
        "  # hidden layer pre-activations using the provided mean\n",
        "  batch_norm_statistics = kwargs.get(\"batch_norm_statistics\")\n",
        "  if batch_norm_statistics:\n",
        "    del kwargs[\"batch_norm_statistics\"]\n",
        "    model = args[0]\n",
        "    (C, W1, b1, W2, b2, bn_gain, bn_bias), _ = model\n",
        "    bn_mean, bn_std = batch_norm_statistics\n",
        "    kwargs[\"posthook_h_preact\"] = lambda h_preact: bn_gain * ((h_preact - bn_mean) / bn_std) + bn_bias\n",
        "  # Otherwise use the mean and standard deviation from the inputs themselves\n",
        "  # (this is just to illustrate how this will not perform well, because we\n",
        "  # if we use the validation set statistics, the model will not perform the\n",
        "  # same as during training because statistics will be different, and if we\n",
        "  # use the ones from a single example, it will be too noisy to represent\n",
        "  # anything at all)\n",
        "  else:\n",
        "    model = args[0]\n",
        "    (C, W1, b1, W2, b2, bn_gain, bn_bias), _ = model\n",
        "    bn_mean = h_preact.mean(0, keepdim=True)\n",
        "    bn_std = h_preact.std(0, keepdim=True)\n",
        "    kwargs[\"posthook_h_preact\"] = lambda h_preact: bn_gain * ((h_preact - bn_mean) / bn_std) + bn_bias\n",
        "\n",
        "  return _calculate_dataset_split_loss_1(*args, **kwargs)\n",
        "\n",
        "calculate_dataset_split_loss(model, \"training\")\n",
        "calculate_dataset_split_loss(model, \"training\", batch_norm_statistics=batch_norm_statistics)\n",
        "calculate_dataset_split_loss(model, \"validation\")\n",
        "calculate_dataset_split_loss(model, \"validation\", batch_norm_statistics=batch_norm_statistics)"
      ],
      "metadata": {
        "id": "yb_LuJKRFfTX",
        "colab": {
          "base_uri": "https://localhost:8080/"
        },
        "outputId": "5e81b5a3-4360-4bc3-e02c-3701b55b8ae9"
      },
      "execution_count": 102,
      "outputs": [
        {
          "output_type": "stream",
          "name": "stdout",
          "text": [
            "training: 2.1760\n",
            "training: 2.6042\n",
            "validation: 2.1989\n",
            "validation: 2.6186\n"
          ]
        }
      ]
    },
    {
      "cell_type": "markdown",
      "source": [
        "Notice how we get significantly better losses when using the statistics calculated from the entire training set instead of those learned during training.\n",
        "\n",
        "This works, but requires an additional calibration step after training. We can avoid this by maintaining running averages of the *Batch Normalization* statistics during training. These running averages should approximate the full training set statistics well enough to produce the same result:"
      ],
      "metadata": {
        "id": "MhYt5qukWLcR"
      }
    },
    {
      "cell_type": "code",
      "source": [
        "def build_model(*args, **kwargs):\n",
        "  kwargs = apply_kwargs_defaults(_build_model_1, kwargs)\n",
        "\n",
        "  # Make build model return running average buffers for the\n",
        "  # batch normalization statistics (to be used during inference)\n",
        "  n_hidden = kwargs[\"n_hidden\"]\n",
        "  bn_mean_running = torch.zeros((1, n_hidden))\n",
        "  bn_std_running = torch.ones((1, n_hidden))\n",
        "  kwargs[\"statistics\"] = [bn_mean_running, bn_std_running]\n",
        "\n",
        "  return _build_model_4(*args, **kwargs)\n",
        "\n",
        "def train(*args, **kwargs):\n",
        "  kwargs = apply_kwargs_defaults(_train_1, kwargs)\n",
        "\n",
        "  model = args[1]\n",
        "  parameters, statistics = model\n",
        "  C, W1, b1, W2, b2, bn_gain, bn_bias = parameters # Unpack model parameters\n",
        "  bn_mean_running, bn_std_running = statistics # Unpack batch norm statistics running averages\n",
        "\n",
        "  def _posthook_h_preact(h_preact):\n",
        "    nonlocal bn_mean_running, bn_std_running  # Use nonlocal to modify the outer variables\n",
        "\n",
        "    # Calculate the mean/std for this batch\n",
        "    bn_mean_i = h_preact.mean(0, keepdim=True)\n",
        "    bn_std_i = h_preact.std(0, keepdim=True)\n",
        "\n",
        "    # Normalize the hidden layer activations using current batch statistics + learned gain and bias model parameters\n",
        "    h_preact = bn_gain * ((h_preact - bn_mean_i) / bn_std_i) + bn_bias\n",
        "\n",
        "    # Update the running averages for the batch normalization statistics, where\n",
        "    # add a fraction of the current batch statistics in each iteration; this\n",
        "    # fraction is defined by the momentum, which should be low when batch sizes\n",
        "    # are low due to the statistics of the batches being noisier the smaller they are\n",
        "    with torch.no_grad():\n",
        "      momentum = 0.001 # Small momentum due to small batch size\n",
        "      bn_mean_running.mul_(1 - momentum).add_(momentum * bn_mean_i)\n",
        "      bn_std_running.mul_(1 - momentum).add_(momentum * bn_std_i)\n",
        "\n",
        "      return h_preact\n",
        "\n",
        "  kwargs[\"posthook_h_preact\"] = _posthook_h_preact\n",
        "\n",
        "  return _train_1(*args, **kwargs)\n",
        "\n",
        "model = build_model()\n",
        "result = train(training_set, model, 50_000)"
      ],
      "metadata": {
        "id": "0nlIyjINHTr3",
        "colab": {
          "base_uri": "https://localhost:8080/"
        },
        "outputId": "64252012-6152-4160-f2bf-34370c92638b"
      },
      "execution_count": 103,
      "outputs": [
        {
          "output_type": "stream",
          "name": "stdout",
          "text": [
            "      0/  50000: 3.945647\n",
            "  10000/  50000: 2.176545\n",
            "  20000/  50000: 2.373841\n",
            "  30000/  50000: 2.183329\n",
            "  40000/  50000: 1.940192\n"
          ]
        }
      ]
    },
    {
      "cell_type": "markdown",
      "source": [
        "Let's verify that the running average statistics from *Batch Normalization* are consistent with those we would calculate across the entire training set:"
      ],
      "metadata": {
        "id": "jEzi5tqaJkKQ"
      }
    },
    {
      "cell_type": "code",
      "source": [
        "bn_mean, bn_std = calculate_batch_norm_statistics(training_set, model) # Calculate mean and standard deviation of the entire dataset\n",
        "_, (bn_mean_running, bn_std_running) = model # Retrieve mean and standard deviation running averages calculated during training\n",
        "(bn_mean_running - bn_mean).abs().mean(), (bn_std_running - bn_std).abs().mean() # Calculate difference between bulk calculation and running averages"
      ],
      "metadata": {
        "id": "s2Gm6fXtJ7Br",
        "colab": {
          "base_uri": "https://localhost:8080/"
        },
        "outputId": "c7b14370-a2cd-49dc-bc7c-7ca73d8b9eff"
      },
      "execution_count": 104,
      "outputs": [
        {
          "output_type": "execute_result",
          "data": {
            "text/plain": [
              "(tensor(0.0229), tensor(0.0241))"
            ]
          },
          "metadata": {},
          "execution_count": 104
        }
      ]
    },
    {
      "cell_type": "markdown",
      "source": [
        "We obtained nearly identical values, so we can trust the running averages. Let's patch `calculate_dataset_split_loss()` to use the running averages instead:"
      ],
      "metadata": {
        "id": "9f2vIdeKJqNV"
      }
    },
    {
      "cell_type": "code",
      "source": [
        "def calculate_dataset_split_loss(*args, **kwargs):\n",
        "  kwargs = apply_kwargs_defaults(_calculate_dataset_split_loss_1, kwargs)\n",
        "\n",
        "  parameters, statistics = model\n",
        "  C, W1, b1, W2, b2, bn_gain, bn_bias = parameters\n",
        "  bn_mean_running, bn_std_running = statistics\n",
        "  kwargs[\"posthook_h_preact\"] = lambda h_preact: bn_gain * ((h_preact - bn_mean_running) / bn_std_running) + bn_bias\n",
        "\n",
        "  return _calculate_dataset_split_loss_1(*args, **kwargs)\n",
        "\n",
        "calculate_dataset_split_loss(model, \"training\")\n",
        "calculate_dataset_split_loss(model, \"validation\")"
      ],
      "metadata": {
        "id": "7hiFUbBsKOZL",
        "colab": {
          "base_uri": "https://localhost:8080/"
        },
        "outputId": "a5373e88-1895-4b7f-ccd8-d6ca3924d8f5"
      },
      "execution_count": 105,
      "outputs": [
        {
          "output_type": "stream",
          "name": "stdout",
          "text": [
            "training: 2.1767\n",
            "validation: 2.2004\n"
          ]
        }
      ]
    },
    {
      "cell_type": "markdown",
      "source": [
        "## Test the Optimized Model 🧪📈\n",
        "\n",
        "We fixed the model's parameter initialization using *Kaiming Initialization* and stabilized training with *Batch Normalization*. Let's now dump the final, cleaned-up code without any function overrides, run the training, and compare the results against all previous experiments:"
      ],
      "metadata": {
        "id": "Iut3KqDfHeV1"
      }
    },
    {
      "cell_type": "code",
      "source": [
        "def build_model(\n",
        "    block_size=BLOCK_SIZE, # Number of previous characters used to predict the next character\n",
        "    embedding_size=10, # Size of the dense vector used to represent each character\n",
        "    n_hidden=200, # Number of neurons in the hidden layer\n",
        "    seed=SEED # The RNG seed to use when initializing parameters (for reproducibility)\n",
        "):\n",
        "  # Initialize the generator with the provided seed\n",
        "  generator = torch.Generator().manual_seed(seed)\n",
        "\n",
        "  # Create the embedding lookup table\n",
        "  C = torch.randn((vocabulary_size, embedding_size), generator=generator) / (vocabulary_size ** 0.5)\n",
        "\n",
        "  # Create the weight matrix for the hidden layer\n",
        "  tanh_gain = 5/3  # Kaiming init gain for tanh non-linearity\n",
        "  W1 = torch.randn((embedding_size * block_size, n_hidden), generator=generator) / ((embedding_size * block_size) ** 0.5) * tanh_gain\n",
        "\n",
        "  # Create the biases for the hidden layer\n",
        "  #b1 = torch.randn(n_hidden, generator=generator) / (n_hidden ** 0.5) # NOTE: commented it out because batch normalization made this parameter irrelevant\n",
        "\n",
        "  # Create the weight matrix for the output layer\n",
        "  W2 = torch.randn((n_hidden, vocabulary_size), generator=generator) / (n_hidden ** 0.5)\n",
        "\n",
        "  # Create the biases for the output layer\n",
        "  b2 = torch.randn(vocabulary_size, generator=generator)/ (vocabulary_size ** 0.5)\n",
        "\n",
        "  # Create the batch normalization gain (how much to scale the activations by)\n",
        "  bn_gain = torch.ones((1, n_hidden))\n",
        "\n",
        "  # Create the batch normalization bias (how much to shift the activations by)\n",
        "  bn_bias = torch.zeros((1, n_hidden))\n",
        "\n",
        "  # Create a list with all the parameters\n",
        "  parameters = [C, W1, W2, b2, bn_gain, bn_bias]\n",
        "\n",
        "  # Enable gradient tracking for all model parameters\n",
        "  for p in parameters: p.requires_grad = True\n",
        "\n",
        "  bn_mean_running = torch.zeros((1, n_hidden))\n",
        "  bn_std_running = torch.ones((1, n_hidden))\n",
        "  statistics = (bn_mean_running, bn_std_running)\n",
        "\n",
        "  return parameters, statistics\n",
        "\n",
        "def train(\n",
        "    dataset, # The dataset to train on (a tuple with a list of inputs and a list of respective outputs)\n",
        "    model, # The model parameters\n",
        "    n_steps, # Train for N steps\n",
        "    learning_rate=0.1, # The scale at which gradients should be applied to the parameters at each step\n",
        "    batch_size=32, # The size of the mini-batch to randomly sample in each step\n",
        "    log_steps=10_000, # How frequently should training progress be logged\n",
        "    seed=SEED # The RNG seed to use when sampling mini-batches (for reproducibility)\n",
        "):\n",
        "  # Unpack the dataset\n",
        "  X, Y = dataset\n",
        "\n",
        "  # Unpack the model parameters\n",
        "  parameters, statistics = model\n",
        "  C, W1, W2, b2, bn_gain, bn_bias = parameters\n",
        "  bn_mean_running, bn_std_running = statistics\n",
        "\n",
        "  # Initialize RNG for reproducibility\n",
        "  generator = torch.Generator().manual_seed(seed)\n",
        "\n",
        "  # Train for N steps\n",
        "  losses = []\n",
        "  for step in range(n_steps):\n",
        "    # Sample a mini-batch\n",
        "    batch_indexes = torch.randint(0, X.shape[0], (batch_size,), generator=generator)\n",
        "    Xbt, Ybt = X[batch_indexes], Y[batch_indexes]\n",
        "\n",
        "    # Perform forward pass\n",
        "    Xemb = C[Xbt] # Embed characters into vectors\n",
        "    Xembcat = Xemb.view(Xemb.shape[0], -1) # Concatenate the vectors\n",
        "    h_preact = Xembcat @ W1 + b1 # Hidden layer pre-activation\n",
        "\n",
        "    # Calculate the mean/std for this batch\n",
        "    bn_mean_i = h_preact.mean(0, keepdim=True)\n",
        "    bn_std_i = h_preact.std(0, keepdim=True)\n",
        "\n",
        "    # Normalize the hidden layer activations using current batch statistics + learned gain and bias model parameters\n",
        "    h_preact_norm = bn_gain * ((h_preact - bn_mean_i) / bn_std_i) + bn_bias\n",
        "\n",
        "    # Update the running averages for the batch normalization statistics, where\n",
        "    # add a fraction of the current batch statistics in each iteration; this\n",
        "    # fraction is defined by the momentum, which should be low when batch sizes\n",
        "    # are low due to the statistics of the batches being noisier the smaller they are\n",
        "    with torch.no_grad():\n",
        "        momentum = 0.001  # Small momentum due to small batch size\n",
        "        bn_mean_running.mul_(1 - momentum).add_(momentum * bn_mean_i)\n",
        "        bn_std_running.mul_(1 - momentum).add_(momentum * bn_std_i)\n",
        "\n",
        "    h = torch.tanh(h_preact_norm) # Hidden layer activation\n",
        "    logits = h @ W2 + b2 # Output layer activation\n",
        "    loss = F.cross_entropy(logits, Ybt) # Calculate loss\n",
        "\n",
        "    # Perform backpropagation\n",
        "    for p in parameters: p.grad = None # Reset gradients from previous step\n",
        "    loss.backward() # Perform backward pass\n",
        "\n",
        "    # Perform gradient descent\n",
        "    learning_rate = 0.1 if step < n_steps * 0.9 else 0.01\n",
        "    for p in parameters: p.data -= learning_rate * p.grad\n",
        "\n",
        "    # Track stats\n",
        "    if step % log_steps == 0: print(f\"{step:7d}/{n_steps:7d}: {loss.item():4f}\")\n",
        "    losses.append(loss.item())\n",
        "\n",
        "  # Return training losses and last step activations\n",
        "  return {\n",
        "      \"losses\" : losses,\n",
        "      \"Xemb\" : Xemb,\n",
        "      \"Xembcat\" : Xembcat,\n",
        "      \"h_preact\" : h_preact,\n",
        "      \"h\" : h,\n",
        "      \"logits\" : logits\n",
        "  }\n",
        "\n",
        "@torch.no_grad()\n",
        "def calculate_dataset_split_loss(model, split):\n",
        "  # Unpack the model parameters\n",
        "  parameters, statistics = model\n",
        "  C, W1, W2, b2, bn_gain, bn_bias = parameters\n",
        "  bn_mean_running, bn_std_running = statistics\n",
        "\n",
        "  # Retrieve the specified dataset split\n",
        "  x, y = {\n",
        "      \"training\" : training_set,\n",
        "      \"validation\" : validation_set,\n",
        "      \"test\" : test_set\n",
        "  }[split]\n",
        "\n",
        "  # Calculate the loss for the specified dataset split\n",
        "  emb = C[x] # Fetch the embeddings for each character sequence\n",
        "  embcat = emb.view(emb.shape[0], -1) # Concatenate the embeddings for each character sequence\n",
        "  h_preact = embcat @ W1 + b1 # Forward pass through hidden layer\n",
        "  h_preact_norm = bn_gain * ((h_preact - bn_mean_running) / bn_std_running) + bn_bias\n",
        "  h = torch.tanh(h_preact_norm) # Run activation on hidden layer pre-activations\n",
        "  logits = h @ W2 + b2 # Forward pass through output layer to calculate the logits\n",
        "  loss = F.cross_entropy(logits, y) # Calculate the loss\n",
        "\n",
        "  # Print the loss for the specified dataset split\n",
        "  print(split, f\"{loss.item():.4f}\")\n",
        "\n",
        "model = build_model()\n",
        "result = train(training_set, model, 50_000)\n",
        "calculate_dataset_split_loss(model, \"training\")\n",
        "calculate_dataset_split_loss(model, \"validation\")"
      ],
      "metadata": {
        "id": "zRlR3_yvbvrk",
        "colab": {
          "base_uri": "https://localhost:8080/"
        },
        "outputId": "20ac2be2-054a-48da-acea-22c66ca03b91"
      },
      "execution_count": 106,
      "outputs": [
        {
          "output_type": "stream",
          "name": "stdout",
          "text": [
            "      0/  50000: 3.604365\n",
            "  10000/  50000: 2.240003\n",
            "  20000/  50000: 2.350254\n",
            "  30000/  50000: 2.341674\n",
            "  40000/  50000: 2.022647\n",
            "training 2.1120\n",
            "validation 2.1349\n"
          ]
        }
      ]
    },
    {
      "cell_type": "markdown",
      "source": [
        "A minor change worth highlighting in the code above, is that `b1` was removed because biases before *Batch Normalization* are unnecessary since the normalization cancels them out. The *Batch Normalization* layer now performs the same functionality through it's own *bias* parameter."
      ],
      "metadata": {
        "id": "5L3U9kniK4Bi"
      }
    },
    {
      "cell_type": "markdown",
      "source": [
        "Let's log our final results:\n",
        "\n",
        "| Experiment                    | Train Loss          | Validation Loss     |\n",
        "| ------------------------------| ------------------- | ------------------- |\n",
        "| Before any initialization tweaking | 2.3003              | 2.3512              |\n",
        "| `{\"W2\" : 0.01, \"b2\": 0.0}`       |  2.1098           | 2.1571            |\n",
        "| `{\"W1\": 0.1, \"b1\" : 0.00, \"W2\": 0.01, \"b2\" : 0.0}`       |  2.1029           | 2.1358            |\n",
        "| `{\"W1\": 0.2, \"b1\" : 0.00, \"W2\": 0.01, \"b2\" : 0.0}`       |  2.0810           |  2.1234            |\n",
        "| `{\"W1\": 0.2, \"b1\" : 0.01, \"W2\": 0.01, \"b2\" : 0.0}`       |  2.0811           |  2.1227            |\n",
        "| Kaiming Initialization (without gain)       |  2.1223           |  2.1470            |\n",
        "| Kaiming Initialization (with $tanh$ gain)       |  2.1083           |  2.1365            |\n",
        "| Kaiming (with gain) + Batch Normalization (broken)      |  2.2655           |  2.2886            |\n",
        "| Kaiming (with gain) + Batch Normalization      |  2.1179           |  2.1420            |\n",
        "| **Final model (Kaiming + Batch Norm)**      |  **2.1120**         |  **2.1349**            |\n"
      ],
      "metadata": {
        "id": "74mEd58cJLhW"
      }
    },
    {
      "cell_type": "markdown",
      "source": [
        "Now that the model is trained, let's write the sampling code and sample some names:"
      ],
      "metadata": {
        "id": "JWpu82aqy1j9"
      }
    },
    {
      "cell_type": "code",
      "source": [
        "def sample_words(model, num_words, block_size=BLOCK_SIZE, seed=SEED):\n",
        "  (C, W1, W2, b2, bn_gain, bn_bias), (bn_mean_running, bn_std_running) = model # Unpack the model parameters\n",
        "  generator = torch.Generator().manual_seed(seed) # Use generator for reproducibility\n",
        "\n",
        "  # Sample N words\n",
        "  words = []\n",
        "  for _ in range(num_words):\n",
        "    char_indexes = []\n",
        "    context = [0] * block_size\n",
        "    while True:\n",
        "      emb = C[torch.tensor([context])] # Lookup embedding for character sequence\n",
        "      embcat = emb.view(1, -1) # Embedding has shape (1, block_size, embedding_size), we need to reshape to (1, block_size * embedding_size)\n",
        "      h_preact = embcat @ W1 + b1 # Forward pass through hidden layer to calculate pre-activations\n",
        "      h_preact_norm = bn_gain * ((h_preact - bn_mean_running) / bn_std_running) + bn_bias # Normalize the pre-activations using batch normalization statistics\n",
        "      h = torch.tanh(h_preact_norm) # Activate the hidden layer\n",
        "      logits = h @ W2 + b2 # Forward pass through output layer to get the logits\n",
        "      probs = F.softmax(logits, dim=1) # Normalize the logits into a probability distribution\n",
        "      char_i = torch.multinomial(probs, num_samples=1, generator=generator).item() # Sample the next character using the probability distribution inferred from the last character sequence\n",
        "      context = context[1:] + [char_i] # Pop out oldest character and add sampled character to previous character sequence (FIFO queue)\n",
        "      char_indexes.append(char_i) # Add to list of sampled characters\n",
        "      if char_i == EOS_CHAR_INDEX: break # If EOS character was sampled, word is finished so break loop\n",
        "    word = \"\".join([itos_map[i] for i in char_indexes]) # Convert sampled character indexes back to characters and join to create word\n",
        "    words.append(word) # Add word to list of sampled words\n",
        "\n",
        "  # Return sampled words\n",
        "  return words\n",
        "\n",
        "sample_words(model, 20)"
      ],
      "metadata": {
        "colab": {
          "base_uri": "https://localhost:8080/"
        },
        "id": "dcrDLdZMyE_e",
        "outputId": "004eb2be-9fb8-472d-ee2b-ba493def2e08"
      },
      "execution_count": 107,
      "outputs": [
        {
          "output_type": "execute_result",
          "data": {
            "text/plain": [
              "['yansyah.',\n",
              " 'malin.',\n",
              " 'dlee.',\n",
              " 'khalei.',\n",
              " 'jyani.',\n",
              " 'yawdan.',\n",
              " 'eliena.',\n",
              " 'daya.',\n",
              " 'jian.',\n",
              " 'abkeyma.',\n",
              " 'lou.',\n",
              " 'tophelitai.',\n",
              " 'pupoltnnezike.',\n",
              " 'shahlan.',\n",
              " 'xaina.',\n",
              " 'luna.',\n",
              " 'adari.',\n",
              " 'zerianne.',\n",
              " 'nehidsemole.',\n",
              " 'eiliony.']"
            ]
          },
          "metadata": {},
          "execution_count": 107
        }
      ]
    },
    {
      "cell_type": "markdown",
      "source": [
        "Name generation is still not fantastic, but not too bad. The block size may need to be increased, or we may be limited by the constraints of the *Multilayer Perceptron* architecture we're using. We'll improve on these results in future notebooks."
      ],
      "metadata": {
        "id": "BOCDmFRNUyFq"
      }
    },
    {
      "cell_type": "markdown",
      "source": [
        "## THE END\n",
        "\n",
        "For more **AI/ML** notebooks, check my repo: 🔗 https://github.com/tsilva/aiml-notebooks"
      ],
      "metadata": {
        "id": "BCiyf3mwVZJV"
      }
    }
  ]
}