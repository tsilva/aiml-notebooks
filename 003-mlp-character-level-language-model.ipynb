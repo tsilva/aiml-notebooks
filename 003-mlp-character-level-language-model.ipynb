{
  "nbformat": 4,
  "nbformat_minor": 0,
  "metadata": {
    "colab": {
      "provenance": [],
      "gpuType": "T4",
      "authorship_tag": "ABX9TyPbouEmMaClr2LCi0M2hh4d",
      "include_colab_link": true
    },
    "kernelspec": {
      "name": "python3",
      "display_name": "Python 3"
    },
    "language_info": {
      "name": "python"
    },
    "accelerator": "GPU"
  },
  "cells": [
    {
      "cell_type": "markdown",
      "metadata": {
        "id": "view-in-github",
        "colab_type": "text"
      },
      "source": [
        "<a href=\"https://colab.research.google.com/github/tsilva/aiml-notebooks/blob/main/003-mlp-character-level-language-model.ipynb\" target=\"_parent\"><img src=\"https://colab.research.google.com/assets/colab-badge.svg\" alt=\"Open In Colab\"/></a>"
      ]
    },
    {
      "cell_type": "markdown",
      "source": [
        "# MLP Character-Level Language Model\n",
        "\n",
        "This notebook is a personal reconstruction of Andrej Karpathy's lesson, [Building makemore Part 2: MLP](https://www.youtube.com/watch?v=TCH_1BHY58I). In this lesson, he improves on his previous lesson by building a flexible autoregressive character-level bigram language model using a [Multilayer Perceptron (MLP)](https://en.wikipedia.org/wiki/Multilayer_perceptron).\n",
        "\n",
        "*The purpose of this notebook is for my own self-learning, and shouldn't add much to the original lesson beyond extra verbosity. Parts of the notebook, namely the code snippets, may have been copied from the source lesson verbatim.*"
      ],
      "metadata": {
        "id": "4GxViqUuxgJj"
      }
    },
    {
      "cell_type": "markdown",
      "source": [
        "## Build the Dataset 🛠️\n",
        "\n",
        "First, let's download a list of names:"
      ],
      "metadata": {
        "id": "W8-wMFzdKtn6"
      }
    },
    {
      "cell_type": "code",
      "source": [
        "!wget https://raw.githubusercontent.com/karpathy/makemore/master/names.txt"
      ],
      "metadata": {
        "colab": {
          "base_uri": "https://localhost:8080/"
        },
        "id": "IddmTztXHEzj",
        "outputId": "a1bef397-67ba-4d78-f8ed-4508669fcbfb"
      },
      "execution_count": 522,
      "outputs": [
        {
          "output_type": "stream",
          "name": "stdout",
          "text": [
            "--2024-09-04 15:31:59--  https://raw.githubusercontent.com/karpathy/makemore/master/names.txt\n",
            "Resolving raw.githubusercontent.com (raw.githubusercontent.com)... 185.199.111.133, 185.199.110.133, 185.199.108.133, ...\n",
            "Connecting to raw.githubusercontent.com (raw.githubusercontent.com)|185.199.111.133|:443... connected.\n",
            "HTTP request sent, awaiting response... 200 OK\n",
            "Length: 228145 (223K) [text/plain]\n",
            "Saving to: ‘names.txt.7’\n",
            "\n",
            "\rnames.txt.7           0%[                    ]       0  --.-KB/s               \rnames.txt.7         100%[===================>] 222.80K  --.-KB/s    in 0.004s  \n",
            "\n",
            "2024-09-04 15:31:59 (50.7 MB/s) - ‘names.txt.7’ saved [228145/228145]\n",
            "\n"
          ]
        }
      ]
    },
    {
      "cell_type": "markdown",
      "source": [
        "And now parse them into a list:"
      ],
      "metadata": {
        "id": "nQrinie1fxVR"
      }
    },
    {
      "cell_type": "code",
      "source": [
        "words = open(\"names.txt\", \"r\").read().splitlines()\n",
        "words[:5]"
      ],
      "metadata": {
        "id": "dW5sxH_aHEOC",
        "colab": {
          "base_uri": "https://localhost:8080/"
        },
        "outputId": "e466974a-a793-4f5e-c1e5-13e4629c4c63"
      },
      "execution_count": 523,
      "outputs": [
        {
          "output_type": "execute_result",
          "data": {
            "text/plain": [
              "['emma', 'olivia', 'ava', 'isabella', 'sophia']"
            ]
          },
          "metadata": {},
          "execution_count": 523
        }
      ]
    },
    {
      "cell_type": "markdown",
      "source": [
        "Let's assign a unique integer to each possible character found in the names we parsed:"
      ],
      "metadata": {
        "id": "Edljhq88fy_Z"
      }
    },
    {
      "cell_type": "code",
      "source": [
        "# Create list with all unique characters found in the raw data (sorted alphabetically)\n",
        "chars = sorted(list(set(''.join(words))))\n",
        "\n",
        "# Create lookup table for converting each possible character to a unique integer\n",
        "stoi_map = {s:i+1 for i,s in enumerate(chars)}\n",
        "EOS_CHAR = \".\" # The character used to represent the end of a word\n",
        "EOS_CHAR_INDEX = 0\n",
        "stoi_map[EOS_CHAR] = EOS_CHAR_INDEX # Assign index zero to EOS char\n",
        "\n",
        "len(stoi_map), stoi_map"
      ],
      "metadata": {
        "id": "ITcKi_P9HN_h",
        "colab": {
          "base_uri": "https://localhost:8080/"
        },
        "outputId": "9266cf71-a2e4-4981-9f0e-795750ec3317"
      },
      "execution_count": 524,
      "outputs": [
        {
          "output_type": "execute_result",
          "data": {
            "text/plain": [
              "(27,\n",
              " {'a': 1,\n",
              "  'b': 2,\n",
              "  'c': 3,\n",
              "  'd': 4,\n",
              "  'e': 5,\n",
              "  'f': 6,\n",
              "  'g': 7,\n",
              "  'h': 8,\n",
              "  'i': 9,\n",
              "  'j': 10,\n",
              "  'k': 11,\n",
              "  'l': 12,\n",
              "  'm': 13,\n",
              "  'n': 14,\n",
              "  'o': 15,\n",
              "  'p': 16,\n",
              "  'q': 17,\n",
              "  'r': 18,\n",
              "  's': 19,\n",
              "  't': 20,\n",
              "  'u': 21,\n",
              "  'v': 22,\n",
              "  'w': 23,\n",
              "  'x': 24,\n",
              "  'y': 25,\n",
              "  'z': 26,\n",
              "  '.': 0})"
            ]
          },
          "metadata": {},
          "execution_count": 524
        }
      ]
    },
    {
      "cell_type": "markdown",
      "source": [
        "And now create a reverse lookup table to be able to convert the integers that represent each character back to the character itself:"
      ],
      "metadata": {
        "id": "--owMPBAmSe4"
      }
    },
    {
      "cell_type": "code",
      "source": [
        "itos_map = {i:s for s,i in stoi_map.items()}\n",
        "itos_map"
      ],
      "metadata": {
        "colab": {
          "base_uri": "https://localhost:8080/"
        },
        "id": "o1xHf4whmXzC",
        "outputId": "6b618383-677a-48ee-d4d8-6b55b7ca6560"
      },
      "execution_count": 525,
      "outputs": [
        {
          "output_type": "execute_result",
          "data": {
            "text/plain": [
              "{1: 'a',\n",
              " 2: 'b',\n",
              " 3: 'c',\n",
              " 4: 'd',\n",
              " 5: 'e',\n",
              " 6: 'f',\n",
              " 7: 'g',\n",
              " 8: 'h',\n",
              " 9: 'i',\n",
              " 10: 'j',\n",
              " 11: 'k',\n",
              " 12: 'l',\n",
              " 13: 'm',\n",
              " 14: 'n',\n",
              " 15: 'o',\n",
              " 16: 'p',\n",
              " 17: 'q',\n",
              " 18: 'r',\n",
              " 19: 's',\n",
              " 20: 't',\n",
              " 21: 'u',\n",
              " 22: 'v',\n",
              " 23: 'w',\n",
              " 24: 'x',\n",
              " 25: 'y',\n",
              " 26: 'z',\n",
              " 0: '.'}"
            ]
          },
          "metadata": {},
          "execution_count": 525
        }
      ]
    },
    {
      "cell_type": "markdown",
      "source": [
        "We can now create the dataset we're going to use to train our model with. Given a sequence of $N$ characters, we want the model to predict the next character. Therefore, the input is going to be a list of $N$ characters, where each value in the list is the integer assigned to that character, and the output is the integer representing the next character.\n",
        "\n",
        "Let's create a dataset where the input is a sequence of $3$ characters. Let's use only a portion of the dataset to begin with, in this case with only the first $5$ words, as it will make experimentation faster for now:"
      ],
      "metadata": {
        "id": "C7Mu7qLrf0cV"
      }
    },
    {
      "cell_type": "code",
      "source": [
        "import torch\n",
        "\n",
        "# The default number of characters to use to predict the next character\n",
        "BLOCK_SIZE = 3\n",
        "\n",
        "def build_dataset(words, block_size=BLOCK_SIZE, verbose=False):\n",
        "  X, Y = [], [] # Initialize the dataset\n",
        "  for word in words:\n",
        "    if verbose: print(word)\n",
        "    context = [0] * block_size # Initialize the context with EOS characters\n",
        "    for char in word + EOS_CHAR: # For each character in the current word (plus the EOS stop character)\n",
        "      X.append(context) # Add the context accumulated so far as the input\n",
        "      char_i = stoi_map[char] # Convert the current character to an integer\n",
        "      Y.append(char_i) # Add the current character as the output (previous context must predict current character)\n",
        "      if verbose: print(f\"{''.join([itos_map[i] for i in context])} => {char}\")\n",
        "      context = context[1:] + [char_i] # Update the context by popping out the oldest character and pushing in the current one (FIFO buffer)\n",
        "\n",
        "  # Convert the dataset to tensors and return them\n",
        "  X = torch.tensor(X)\n",
        "  Y = torch.tensor(Y)\n",
        "  return X, Y\n",
        "\n",
        "# Create a dataset where each character is to be predicted based on\n",
        "# the last 3 characters, create it only using 5 words from the total dataset\n",
        "X, Y = build_dataset(words[:5], block_size=3, verbose=True)"
      ],
      "metadata": {
        "colab": {
          "base_uri": "https://localhost:8080/"
        },
        "id": "PI-cBxHbHejL",
        "outputId": "081b2c34-482f-4382-db1c-3e13b3f949b3"
      },
      "execution_count": 526,
      "outputs": [
        {
          "output_type": "stream",
          "name": "stdout",
          "text": [
            "emma\n",
            "... => e\n",
            "..e => m\n",
            ".em => m\n",
            "emm => a\n",
            "mma => .\n",
            "olivia\n",
            "... => o\n",
            "..o => l\n",
            ".ol => i\n",
            "oli => v\n",
            "liv => i\n",
            "ivi => a\n",
            "via => .\n",
            "ava\n",
            "... => a\n",
            "..a => v\n",
            ".av => a\n",
            "ava => .\n",
            "isabella\n",
            "... => i\n",
            "..i => s\n",
            ".is => a\n",
            "isa => b\n",
            "sab => e\n",
            "abe => l\n",
            "bel => l\n",
            "ell => a\n",
            "lla => .\n",
            "sophia\n",
            "... => s\n",
            "..s => o\n",
            ".so => p\n",
            "sop => h\n",
            "oph => i\n",
            "phi => a\n",
            "hia => .\n"
          ]
        }
      ]
    },
    {
      "cell_type": "markdown",
      "source": [
        "The input tensor $X$ is of shape $(32, 3)$ because the parsing of the $5$ words resulted in the collection of $32$ trigrams:"
      ],
      "metadata": {
        "id": "WW0Pe_JlP1km"
      }
    },
    {
      "cell_type": "code",
      "source": [
        "X.shape, X"
      ],
      "metadata": {
        "colab": {
          "base_uri": "https://localhost:8080/"
        },
        "id": "EJV8ObAIPxgx",
        "outputId": "531f96af-cfa9-4d3b-e7ed-f1005cc06f72"
      },
      "execution_count": 527,
      "outputs": [
        {
          "output_type": "execute_result",
          "data": {
            "text/plain": [
              "(torch.Size([32, 3]),\n",
              " tensor([[ 0,  0,  0],\n",
              "         [ 0,  0,  5],\n",
              "         [ 0,  5, 13],\n",
              "         [ 5, 13, 13],\n",
              "         [13, 13,  1],\n",
              "         [ 0,  0,  0],\n",
              "         [ 0,  0, 15],\n",
              "         [ 0, 15, 12],\n",
              "         [15, 12,  9],\n",
              "         [12,  9, 22],\n",
              "         [ 9, 22,  9],\n",
              "         [22,  9,  1],\n",
              "         [ 0,  0,  0],\n",
              "         [ 0,  0,  1],\n",
              "         [ 0,  1, 22],\n",
              "         [ 1, 22,  1],\n",
              "         [ 0,  0,  0],\n",
              "         [ 0,  0,  9],\n",
              "         [ 0,  9, 19],\n",
              "         [ 9, 19,  1],\n",
              "         [19,  1,  2],\n",
              "         [ 1,  2,  5],\n",
              "         [ 2,  5, 12],\n",
              "         [ 5, 12, 12],\n",
              "         [12, 12,  1],\n",
              "         [ 0,  0,  0],\n",
              "         [ 0,  0, 19],\n",
              "         [ 0, 19, 15],\n",
              "         [19, 15, 16],\n",
              "         [15, 16,  8],\n",
              "         [16,  8,  9],\n",
              "         [ 8,  9,  1]]))"
            ]
          },
          "metadata": {},
          "execution_count": 527
        }
      ]
    },
    {
      "cell_type": "markdown",
      "source": [
        "The output $Y$ tensor has shape $(32)$, containing one value representing the next character for each of the $32$ character sequences found in the input tensor $X$:"
      ],
      "metadata": {
        "id": "wV78_iW5P3IB"
      }
    },
    {
      "cell_type": "code",
      "source": [
        "Y.shape, Y"
      ],
      "metadata": {
        "colab": {
          "base_uri": "https://localhost:8080/"
        },
        "id": "Zk6c9QliP4tt",
        "outputId": "169ce193-1be6-428e-af5d-dd7eb441cb83"
      },
      "execution_count": 528,
      "outputs": [
        {
          "output_type": "execute_result",
          "data": {
            "text/plain": [
              "(torch.Size([32]),\n",
              " tensor([ 5, 13, 13,  1,  0, 15, 12,  9, 22,  9,  1,  0,  1, 22,  1,  0,  9, 19,\n",
              "          1,  2,  5, 12, 12,  1,  0, 19, 15, 16,  8,  9,  1,  0]))"
            ]
          },
          "metadata": {},
          "execution_count": 528
        }
      ]
    },
    {
      "cell_type": "markdown",
      "source": [
        "## Create Embeddings 🔍\n",
        "\n",
        "To prepare character sequences for a neural network, it's important to avoid biases that can arise from sequential integer encoding, where higher numbers could imply greater importance (e.g., by propagating a stronger signal) or similarity (e.g., characters with close alphabetical positions might incorrectly be treated as more similar).\n",
        "\n",
        "One-hot encoding addresses this issue by representing each character with a unique binary vector where only one element is \"hot\" (set to $1$), and all others are \"cold\" (set to $0$). However, this method cannot capture any meaningful relationships between characters (e.g., the distinction between vowels and consonants) because each vector is orthogonal to the others and can't be adjusted during training.\n",
        "\n",
        "A more effective solution is to represent each character as a dense vector (embedding), where each character is mapped to a continuous vector with a smaller number of dimensions. Unlike one-hot encoding, these embeddings are not predefined but are instead learned during the training process along with other parameters, allowing the model to capture relationships and patterns within the data.\n",
        "\n",
        "Let's create a tensor `C` of shape $(27, 2)$ to serve as an embedding lookup table for the $27$ possible characters:"
      ],
      "metadata": {
        "id": "Xmcr4s48gDgR"
      }
    },
    {
      "cell_type": "code",
      "source": [
        "C = torch.randn((27, 2))\n",
        "C"
      ],
      "metadata": {
        "colab": {
          "base_uri": "https://localhost:8080/"
        },
        "id": "da47Co5ZJUVe",
        "outputId": "b90a143a-d016-4ee8-bbfd-d80daa3ad0f2"
      },
      "execution_count": 529,
      "outputs": [
        {
          "output_type": "execute_result",
          "data": {
            "text/plain": [
              "tensor([[-4.2061e-01, -2.2788e+00],\n",
              "        [-1.4616e-03,  9.9255e-01],\n",
              "        [ 1.8368e+00, -1.1358e+00],\n",
              "        [-4.3288e-01,  4.1514e-01],\n",
              "        [-1.9333e+00, -2.0084e-01],\n",
              "        [ 1.3398e+00,  9.7887e-01],\n",
              "        [ 2.5040e-01, -1.0362e+00],\n",
              "        [ 8.1175e-02,  1.7372e+00],\n",
              "        [-1.6380e-01,  2.8204e-01],\n",
              "        [-4.8332e-01,  1.0488e+00],\n",
              "        [ 1.6645e-01,  2.6210e-04],\n",
              "        [ 1.3086e+00, -1.3141e+00],\n",
              "        [ 3.1752e+00, -7.3441e-01],\n",
              "        [-1.8286e+00,  4.1638e-01],\n",
              "        [-6.1599e-01, -4.1060e-03],\n",
              "        [-1.3372e+00,  1.1549e+00],\n",
              "        [ 1.8801e+00, -4.0999e-01],\n",
              "        [ 2.4247e-01, -1.9184e+00],\n",
              "        [-1.3885e+00, -1.0694e+00],\n",
              "        [-9.1898e-01, -2.4123e+00],\n",
              "        [ 1.4326e+00, -3.0937e-01],\n",
              "        [ 4.5064e-01,  1.6974e+00],\n",
              "        [-4.8061e-01, -2.3162e+00],\n",
              "        [-4.0470e-01, -3.4926e-01],\n",
              "        [ 2.9875e+00, -1.3158e+00],\n",
              "        [ 1.1077e-01,  5.4974e-01],\n",
              "        [ 2.2322e+00,  1.2555e+00]])"
            ]
          },
          "metadata": {},
          "execution_count": 529
        }
      ]
    },
    {
      "cell_type": "markdown",
      "source": [
        "We could manually iterate through our $X$ tensor and swap all integer encoded characters with their respective embeddings, but it's much easier to do that with the power of PyTorch indexing, in fact, you can perform this replacement operation in a single call, let's learn how!"
      ],
      "metadata": {
        "id": "jGOCWLGAq1bU"
      }
    },
    {
      "cell_type": "markdown",
      "source": [
        "We know it's trivial to retrieve the embedding for a specific character:"
      ],
      "metadata": {
        "id": "lUt8Zo0QQm0I"
      }
    },
    {
      "cell_type": "code",
      "source": [
        "C[5] # character \"e\" is represented by number \"5\""
      ],
      "metadata": {
        "colab": {
          "base_uri": "https://localhost:8080/"
        },
        "id": "CbCEIRkNJb8a",
        "outputId": "9ecf4b4b-8e75-4ee2-f547-526bfa2ed6af"
      },
      "execution_count": 530,
      "outputs": [
        {
          "output_type": "execute_result",
          "data": {
            "text/plain": [
              "tensor([1.3398, 0.9789])"
            ]
          },
          "metadata": {},
          "execution_count": 530
        }
      ]
    },
    {
      "cell_type": "markdown",
      "source": [
        "And PyTorch allows retrieving multiple characters in one operation by providing a list of the indexes:"
      ],
      "metadata": {
        "id": "c9ZlbZhsQ92x"
      }
    },
    {
      "cell_type": "code",
      "source": [
        "C[[5,6,7]] # retrieve embeddings for character sequence: \"efg\""
      ],
      "metadata": {
        "colab": {
          "base_uri": "https://localhost:8080/"
        },
        "id": "p8mBBESW1ZsU",
        "outputId": "871e5f30-d9c8-4601-dfba-0849b9eb7104"
      },
      "execution_count": 531,
      "outputs": [
        {
          "output_type": "execute_result",
          "data": {
            "text/plain": [
              "tensor([[ 1.3398,  0.9789],\n",
              "        [ 0.2504, -1.0362],\n",
              "        [ 0.0812,  1.7372]])"
            ]
          },
          "metadata": {},
          "execution_count": 531
        }
      ]
    },
    {
      "cell_type": "markdown",
      "source": [
        "This index list could also be a tensor:"
      ],
      "metadata": {
        "id": "mnQ0iBaHRHJr"
      }
    },
    {
      "cell_type": "code",
      "source": [
        "C[torch.tensor([5,6,7])] # retrieve embeddings for character sequence: \"efg\""
      ],
      "metadata": {
        "colab": {
          "base_uri": "https://localhost:8080/"
        },
        "id": "VWaoB29D1f25",
        "outputId": "d060175a-51ca-49bd-99da-d5ca0ab690a5"
      },
      "execution_count": 532,
      "outputs": [
        {
          "output_type": "execute_result",
          "data": {
            "text/plain": [
              "tensor([[ 1.3398,  0.9789],\n",
              "        [ 0.2504, -1.0362],\n",
              "        [ 0.0812,  1.7372]])"
            ]
          },
          "metadata": {},
          "execution_count": 532
        }
      ]
    },
    {
      "cell_type": "markdown",
      "source": [
        "And the same value can be retrieved multiple times:"
      ],
      "metadata": {
        "id": "u0uhajsARJkZ"
      }
    },
    {
      "cell_type": "code",
      "source": [
        "C[torch.tensor([5,6,7,7,7])] # retrieve embeddings for character sequence: \"efggg\""
      ],
      "metadata": {
        "colab": {
          "base_uri": "https://localhost:8080/"
        },
        "id": "yNgcfonB13km",
        "outputId": "09938b27-852d-4aca-a616-6694b1e3dd6b"
      },
      "execution_count": 533,
      "outputs": [
        {
          "output_type": "execute_result",
          "data": {
            "text/plain": [
              "tensor([[ 1.3398,  0.9789],\n",
              "        [ 0.2504, -1.0362],\n",
              "        [ 0.0812,  1.7372],\n",
              "        [ 0.0812,  1.7372],\n",
              "        [ 0.0812,  1.7372]])"
            ]
          },
          "metadata": {},
          "execution_count": 533
        }
      ]
    },
    {
      "cell_type": "markdown",
      "source": [
        "PyTorch's powerful indexing allows you to work with N-dimensional tensors. The values in the lowest dimension of an indexing tensor are used as the indexes to access the target tensor:"
      ],
      "metadata": {
        "id": "yikpdJMFRNit"
      }
    },
    {
      "cell_type": "code",
      "source": [
        "C[torch.tensor([[[5,6,7], [8,9,10]]])] # retrieve embeddings for character sequences: \"efg\", \"hij\""
      ],
      "metadata": {
        "colab": {
          "base_uri": "https://localhost:8080/"
        },
        "id": "SGtCTpQ915rN",
        "outputId": "dd50d697-b1ae-4573-b683-066143f71811"
      },
      "execution_count": 534,
      "outputs": [
        {
          "output_type": "execute_result",
          "data": {
            "text/plain": [
              "tensor([[[[ 1.3398e+00,  9.7887e-01],\n",
              "          [ 2.5040e-01, -1.0362e+00],\n",
              "          [ 8.1175e-02,  1.7372e+00]],\n",
              "\n",
              "         [[-1.6380e-01,  2.8204e-01],\n",
              "          [-4.8332e-01,  1.0488e+00],\n",
              "          [ 1.6645e-01,  2.6210e-04]]]])"
            ]
          },
          "metadata": {},
          "execution_count": 534
        }
      ]
    },
    {
      "cell_type": "markdown",
      "source": [
        "We can use N-dimensional indexing to replace the integer encodings in our input tensor $X$ (which contains character sequences) with their corresponding embeddings. To demonstrate this, let's retrieve the embedding for a specific character from a single example sequence in tensor $X$:"
      ],
      "metadata": {
        "id": "8y8IC0d4RfzB"
      }
    },
    {
      "cell_type": "code",
      "source": [
        "(\n",
        "  X[13, 2], # retrieve integer encoding for 2nd character of 13th input character sequence\n",
        "  C[X][13, 2] # retrieve embedding for 2nd character of 13th input character sequence\n",
        ")"
      ],
      "metadata": {
        "colab": {
          "base_uri": "https://localhost:8080/"
        },
        "id": "DhHcJob62FdI",
        "outputId": "30e16c3f-59ca-452a-b954-749cd586c668"
      },
      "execution_count": 535,
      "outputs": [
        {
          "output_type": "execute_result",
          "data": {
            "text/plain": [
              "(tensor(1), tensor([-0.0015,  0.9925]))"
            ]
          },
          "metadata": {},
          "execution_count": 535
        }
      ]
    },
    {
      "cell_type": "markdown",
      "source": [
        "Let's now swap all our integer encodings with embeddings in one pass:"
      ],
      "metadata": {
        "id": "_nNMXzu-R44-"
      }
    },
    {
      "cell_type": "code",
      "source": [
        "Xemb = C[X]\n",
        "X.shape, Xemb.shape"
      ],
      "metadata": {
        "colab": {
          "base_uri": "https://localhost:8080/"
        },
        "id": "Is4eUjsH2bJD",
        "outputId": "9f4f38ab-59fa-45ce-cb20-07f4f238e3d4"
      },
      "execution_count": 536,
      "outputs": [
        {
          "output_type": "execute_result",
          "data": {
            "text/plain": [
              "(torch.Size([32, 3]), torch.Size([32, 3, 2]))"
            ]
          },
          "metadata": {},
          "execution_count": 536
        }
      ]
    },
    {
      "cell_type": "markdown",
      "source": [
        "We started with a `X` tensor of shape $(32, 3)$, that had $32$ character sequences, where each sequence had $3$ characters, each represented by an integer. As a result of the embedding lookup operation, we now have a `Xemb` tensor of shape $(32, 3, 2)$ because each of those integer encodings was replaced with its corresponding $2$-dimensional embedding."
      ],
      "metadata": {
        "id": "2WPi5InWSPL1"
      }
    },
    {
      "cell_type": "markdown",
      "source": [
        "## Create the MLP 🧠\n",
        "\n",
        "A *Multilayer Perceptron* is a neural network that has at least one hidden layer. The one we're going to create will just have a single hidden layer, making it a $2$-layer network (hidden layer + output layer).\n",
        "\n",
        "The hidden layer will have $100$ neurons (this is an arbitrary value that can be adjusted), where each neuron is connected to $6$ inputs. The $6$ inputs are derived from sequences of $3$ characters, where each character is represented by a 2-dimensional embedding vector. This requires us to create a weight matrix `W1` of shape $(6, 100)$, which holds the weights for the connections between the inputs and the neurons. Additionally, we'll create a bias vector `b1` of shape $(100)$, containing a bias value for each neuron:"
      ],
      "metadata": {
        "id": "cpXWtkniSnlp"
      }
    },
    {
      "cell_type": "code",
      "source": [
        "W1 = torch.randn((6, 100)) # 6 inputs (3 characters * 2 dimensional embeddings) * 100 hidden neurons\n",
        "b1 = torch.randn(100) # number of biases equal to number of neurons"
      ],
      "metadata": {
        "id": "cOydxbEbMlXZ"
      },
      "execution_count": 537,
      "outputs": []
    },
    {
      "cell_type": "markdown",
      "source": [
        "Let's try running the *forward pass* through this layer:"
      ],
      "metadata": {
        "id": "f9h6eXfCTXwZ"
      }
    },
    {
      "cell_type": "code",
      "source": [
        "try: Xemb @ W1 + b1\n",
        "except Exception as e: print(e)"
      ],
      "metadata": {
        "colab": {
          "base_uri": "https://localhost:8080/"
        },
        "id": "e_IA7HSONWhw",
        "outputId": "2af123f8-4017-48d0-8c69-08aa4c8b8e4f"
      },
      "execution_count": 538,
      "outputs": [
        {
          "output_type": "stream",
          "name": "stdout",
          "text": [
            "mat1 and mat2 shapes cannot be multiplied (96x2 and 6x100)\n"
          ]
        }
      ]
    },
    {
      "cell_type": "markdown",
      "source": [
        "The *forward pass* didn't work because the input has shape $(32, 3, 2)$ and the the layer has shape $(6, 100)$. If a matrix $A$ has shape $(m, n)$ and matrix $B$ has shape $(p, q)$, it is only possible to perform matrix multiplication $A \\times B$ if $n = p$, meaning that our input shape must be $(32, 6)$ for this operation to be possible."
      ],
      "metadata": {
        "id": "4Z79VTIVTcIY"
      }
    },
    {
      "cell_type": "markdown",
      "source": [
        "We aim to create a vector of length $6$ for the second dimension, which will contain all the embedding values for a $3$-character sequence in order.\n",
        "\n",
        "To retrieve the embedding for the first character in all sequences with a single call, recall that the `embeddings` tensor has a shape of $(32, 3, 2)$. The second dimension, with a length of $3$, represents the position of the characters in the sequence. By indexing a specific value in this dimension, we can extract the embeddings for that particular character position across all examples, without collapsing the other dimensions:"
      ],
      "metadata": {
        "id": "gZQi-PrmT4an"
      }
    },
    {
      "cell_type": "code",
      "source": [
        "t1 = Xemb[:, 0, :] # Grab embeddings for 1st character from all 3-character input sequences\n",
        "t1.shape, t1"
      ],
      "metadata": {
        "colab": {
          "base_uri": "https://localhost:8080/"
        },
        "id": "BaOkXxfWOZey",
        "outputId": "7a8ec9ab-52c0-4526-c222-34b5ef482b74"
      },
      "execution_count": 539,
      "outputs": [
        {
          "output_type": "execute_result",
          "data": {
            "text/plain": [
              "(torch.Size([32, 2]),\n",
              " tensor([[-4.2061e-01, -2.2788e+00],\n",
              "         [-4.2061e-01, -2.2788e+00],\n",
              "         [-4.2061e-01, -2.2788e+00],\n",
              "         [ 1.3398e+00,  9.7887e-01],\n",
              "         [-1.8286e+00,  4.1638e-01],\n",
              "         [-4.2061e-01, -2.2788e+00],\n",
              "         [-4.2061e-01, -2.2788e+00],\n",
              "         [-4.2061e-01, -2.2788e+00],\n",
              "         [-1.3372e+00,  1.1549e+00],\n",
              "         [ 3.1752e+00, -7.3441e-01],\n",
              "         [-4.8332e-01,  1.0488e+00],\n",
              "         [-4.8061e-01, -2.3162e+00],\n",
              "         [-4.2061e-01, -2.2788e+00],\n",
              "         [-4.2061e-01, -2.2788e+00],\n",
              "         [-4.2061e-01, -2.2788e+00],\n",
              "         [-1.4616e-03,  9.9255e-01],\n",
              "         [-4.2061e-01, -2.2788e+00],\n",
              "         [-4.2061e-01, -2.2788e+00],\n",
              "         [-4.2061e-01, -2.2788e+00],\n",
              "         [-4.8332e-01,  1.0488e+00],\n",
              "         [-9.1898e-01, -2.4123e+00],\n",
              "         [-1.4616e-03,  9.9255e-01],\n",
              "         [ 1.8368e+00, -1.1358e+00],\n",
              "         [ 1.3398e+00,  9.7887e-01],\n",
              "         [ 3.1752e+00, -7.3441e-01],\n",
              "         [-4.2061e-01, -2.2788e+00],\n",
              "         [-4.2061e-01, -2.2788e+00],\n",
              "         [-4.2061e-01, -2.2788e+00],\n",
              "         [-9.1898e-01, -2.4123e+00],\n",
              "         [-1.3372e+00,  1.1549e+00],\n",
              "         [ 1.8801e+00, -4.0999e-01],\n",
              "         [-1.6380e-01,  2.8204e-01]]))"
            ]
          },
          "metadata": {},
          "execution_count": 539
        }
      ]
    },
    {
      "cell_type": "markdown",
      "source": [
        "The result is a tensor of shape $(32, 2)$, representing the embeddings for the first character in each of the $32$ $3$-character sequences in the embedded input tensor. To retrieve the embeddings for all three characters in each sequence, we could simply perform this operation for each of the $3$ characters:"
      ],
      "metadata": {
        "id": "iMukBDP-3LGV"
      }
    },
    {
      "cell_type": "code",
      "source": [
        "c0 = Xemb[:, 0, :] # For all character sequences, grab the embedding for the 1st character in the sequence\n",
        "c1 = Xemb[:, 1, :] # For all character sequences, grab the embedding for the 2nd character in the sequence\n",
        "c2 = Xemb[:, 2, :] # For all character sequences, grab the embedding for the 3rd character in the sequence\n",
        "c0.shape, c0"
      ],
      "metadata": {
        "colab": {
          "base_uri": "https://localhost:8080/"
        },
        "id": "JeBXIEvg54YS",
        "outputId": "b4c7c3e3-191b-4b1d-c2e3-2d85391f4c5d"
      },
      "execution_count": 540,
      "outputs": [
        {
          "output_type": "execute_result",
          "data": {
            "text/plain": [
              "(torch.Size([32, 2]),\n",
              " tensor([[-4.2061e-01, -2.2788e+00],\n",
              "         [-4.2061e-01, -2.2788e+00],\n",
              "         [-4.2061e-01, -2.2788e+00],\n",
              "         [ 1.3398e+00,  9.7887e-01],\n",
              "         [-1.8286e+00,  4.1638e-01],\n",
              "         [-4.2061e-01, -2.2788e+00],\n",
              "         [-4.2061e-01, -2.2788e+00],\n",
              "         [-4.2061e-01, -2.2788e+00],\n",
              "         [-1.3372e+00,  1.1549e+00],\n",
              "         [ 3.1752e+00, -7.3441e-01],\n",
              "         [-4.8332e-01,  1.0488e+00],\n",
              "         [-4.8061e-01, -2.3162e+00],\n",
              "         [-4.2061e-01, -2.2788e+00],\n",
              "         [-4.2061e-01, -2.2788e+00],\n",
              "         [-4.2061e-01, -2.2788e+00],\n",
              "         [-1.4616e-03,  9.9255e-01],\n",
              "         [-4.2061e-01, -2.2788e+00],\n",
              "         [-4.2061e-01, -2.2788e+00],\n",
              "         [-4.2061e-01, -2.2788e+00],\n",
              "         [-4.8332e-01,  1.0488e+00],\n",
              "         [-9.1898e-01, -2.4123e+00],\n",
              "         [-1.4616e-03,  9.9255e-01],\n",
              "         [ 1.8368e+00, -1.1358e+00],\n",
              "         [ 1.3398e+00,  9.7887e-01],\n",
              "         [ 3.1752e+00, -7.3441e-01],\n",
              "         [-4.2061e-01, -2.2788e+00],\n",
              "         [-4.2061e-01, -2.2788e+00],\n",
              "         [-4.2061e-01, -2.2788e+00],\n",
              "         [-9.1898e-01, -2.4123e+00],\n",
              "         [-1.3372e+00,  1.1549e+00],\n",
              "         [ 1.8801e+00, -4.0999e-01],\n",
              "         [-1.6380e-01,  2.8204e-01]]))"
            ]
          },
          "metadata": {},
          "execution_count": 540
        }
      ]
    },
    {
      "cell_type": "markdown",
      "source": [
        "Now that we have three tensors, each of shape $(32, 2)$, representing the embeddings for each character across all sequences, we can concatenate them along the columns (dimension $1$). This operation will combine the embeddings for each sequence into a single tensor of shape $(32, 6)$:"
      ],
      "metadata": {
        "id": "sNZxFk4iUgZv"
      }
    },
    {
      "cell_type": "code",
      "source": [
        "chars_embedded = torch.cat([c0, c1, c2], dim=1) # Concatenate all tensors of shape (32, 2) along dimension 1, resulting in shape (32, 6) -- 2 + 2 + 2 = 6\n",
        "chars_embedded.shape, chars_embedded"
      ],
      "metadata": {
        "colab": {
          "base_uri": "https://localhost:8080/"
        },
        "id": "KpiqlNJgOl9k",
        "outputId": "a06eb419-a72a-4f34-8c33-e598c1095ab8"
      },
      "execution_count": 541,
      "outputs": [
        {
          "output_type": "execute_result",
          "data": {
            "text/plain": [
              "(torch.Size([32, 6]),\n",
              " tensor([[-4.2061e-01, -2.2788e+00, -4.2061e-01, -2.2788e+00, -4.2061e-01,\n",
              "          -2.2788e+00],\n",
              "         [-4.2061e-01, -2.2788e+00, -4.2061e-01, -2.2788e+00,  1.3398e+00,\n",
              "           9.7887e-01],\n",
              "         [-4.2061e-01, -2.2788e+00,  1.3398e+00,  9.7887e-01, -1.8286e+00,\n",
              "           4.1638e-01],\n",
              "         [ 1.3398e+00,  9.7887e-01, -1.8286e+00,  4.1638e-01, -1.8286e+00,\n",
              "           4.1638e-01],\n",
              "         [-1.8286e+00,  4.1638e-01, -1.8286e+00,  4.1638e-01, -1.4616e-03,\n",
              "           9.9255e-01],\n",
              "         [-4.2061e-01, -2.2788e+00, -4.2061e-01, -2.2788e+00, -4.2061e-01,\n",
              "          -2.2788e+00],\n",
              "         [-4.2061e-01, -2.2788e+00, -4.2061e-01, -2.2788e+00, -1.3372e+00,\n",
              "           1.1549e+00],\n",
              "         [-4.2061e-01, -2.2788e+00, -1.3372e+00,  1.1549e+00,  3.1752e+00,\n",
              "          -7.3441e-01],\n",
              "         [-1.3372e+00,  1.1549e+00,  3.1752e+00, -7.3441e-01, -4.8332e-01,\n",
              "           1.0488e+00],\n",
              "         [ 3.1752e+00, -7.3441e-01, -4.8332e-01,  1.0488e+00, -4.8061e-01,\n",
              "          -2.3162e+00],\n",
              "         [-4.8332e-01,  1.0488e+00, -4.8061e-01, -2.3162e+00, -4.8332e-01,\n",
              "           1.0488e+00],\n",
              "         [-4.8061e-01, -2.3162e+00, -4.8332e-01,  1.0488e+00, -1.4616e-03,\n",
              "           9.9255e-01],\n",
              "         [-4.2061e-01, -2.2788e+00, -4.2061e-01, -2.2788e+00, -4.2061e-01,\n",
              "          -2.2788e+00],\n",
              "         [-4.2061e-01, -2.2788e+00, -4.2061e-01, -2.2788e+00, -1.4616e-03,\n",
              "           9.9255e-01],\n",
              "         [-4.2061e-01, -2.2788e+00, -1.4616e-03,  9.9255e-01, -4.8061e-01,\n",
              "          -2.3162e+00],\n",
              "         [-1.4616e-03,  9.9255e-01, -4.8061e-01, -2.3162e+00, -1.4616e-03,\n",
              "           9.9255e-01],\n",
              "         [-4.2061e-01, -2.2788e+00, -4.2061e-01, -2.2788e+00, -4.2061e-01,\n",
              "          -2.2788e+00],\n",
              "         [-4.2061e-01, -2.2788e+00, -4.2061e-01, -2.2788e+00, -4.8332e-01,\n",
              "           1.0488e+00],\n",
              "         [-4.2061e-01, -2.2788e+00, -4.8332e-01,  1.0488e+00, -9.1898e-01,\n",
              "          -2.4123e+00],\n",
              "         [-4.8332e-01,  1.0488e+00, -9.1898e-01, -2.4123e+00, -1.4616e-03,\n",
              "           9.9255e-01],\n",
              "         [-9.1898e-01, -2.4123e+00, -1.4616e-03,  9.9255e-01,  1.8368e+00,\n",
              "          -1.1358e+00],\n",
              "         [-1.4616e-03,  9.9255e-01,  1.8368e+00, -1.1358e+00,  1.3398e+00,\n",
              "           9.7887e-01],\n",
              "         [ 1.8368e+00, -1.1358e+00,  1.3398e+00,  9.7887e-01,  3.1752e+00,\n",
              "          -7.3441e-01],\n",
              "         [ 1.3398e+00,  9.7887e-01,  3.1752e+00, -7.3441e-01,  3.1752e+00,\n",
              "          -7.3441e-01],\n",
              "         [ 3.1752e+00, -7.3441e-01,  3.1752e+00, -7.3441e-01, -1.4616e-03,\n",
              "           9.9255e-01],\n",
              "         [-4.2061e-01, -2.2788e+00, -4.2061e-01, -2.2788e+00, -4.2061e-01,\n",
              "          -2.2788e+00],\n",
              "         [-4.2061e-01, -2.2788e+00, -4.2061e-01, -2.2788e+00, -9.1898e-01,\n",
              "          -2.4123e+00],\n",
              "         [-4.2061e-01, -2.2788e+00, -9.1898e-01, -2.4123e+00, -1.3372e+00,\n",
              "           1.1549e+00],\n",
              "         [-9.1898e-01, -2.4123e+00, -1.3372e+00,  1.1549e+00,  1.8801e+00,\n",
              "          -4.0999e-01],\n",
              "         [-1.3372e+00,  1.1549e+00,  1.8801e+00, -4.0999e-01, -1.6380e-01,\n",
              "           2.8204e-01],\n",
              "         [ 1.8801e+00, -4.0999e-01, -1.6380e-01,  2.8204e-01, -4.8332e-01,\n",
              "           1.0488e+00],\n",
              "         [-1.6380e-01,  2.8204e-01, -4.8332e-01,  1.0488e+00, -1.4616e-03,\n",
              "           9.9255e-01]]))"
            ]
          },
          "metadata": {},
          "execution_count": 541
        }
      ]
    },
    {
      "cell_type": "markdown",
      "source": [
        "The main issue with this approach is that it's hardcoded for sequences that are exactly $3$ characters long. To make it more flexible and generalize it to sequences of any length, we can use `torch.unbind()` to split a tensor along a specified dimension:"
      ],
      "metadata": {
        "id": "JaNtGKglUoVN"
      }
    },
    {
      "cell_type": "code",
      "source": [
        "cn = torch.unbind(Xemb, dim=1)\n",
        "len(cn), cn[0].shape"
      ],
      "metadata": {
        "colab": {
          "base_uri": "https://localhost:8080/"
        },
        "id": "muPhyv6O7tOw",
        "outputId": "96f76e2e-3779-4aeb-8134-e7e26e83a47b"
      },
      "execution_count": 542,
      "outputs": [
        {
          "output_type": "execute_result",
          "data": {
            "text/plain": [
              "(3, torch.Size([32, 2]))"
            ]
          },
          "metadata": {},
          "execution_count": 542
        }
      ]
    },
    {
      "cell_type": "markdown",
      "source": [
        "We now have the same $3$ tensors of shape $(32, 2)$ with a single call. Let's concatenate their rows:"
      ],
      "metadata": {
        "id": "mi5XzTUbU8_2"
      }
    },
    {
      "cell_type": "code",
      "source": [
        "chars_embedded = torch.cat(cn, dim=1) # Concatenate all tensors of shape (32, 2) along dimension 1 (columns), resulting in shape (32, 6) -- 2 + 2 + 2 = 6\n",
        "chars_embedded.shape, chars_embedded"
      ],
      "metadata": {
        "colab": {
          "base_uri": "https://localhost:8080/"
        },
        "id": "dAUynQxpPG-P",
        "outputId": "a7201eec-f988-4939-d65d-25914f9445ae"
      },
      "execution_count": 543,
      "outputs": [
        {
          "output_type": "execute_result",
          "data": {
            "text/plain": [
              "(torch.Size([32, 6]),\n",
              " tensor([[-4.2061e-01, -2.2788e+00, -4.2061e-01, -2.2788e+00, -4.2061e-01,\n",
              "          -2.2788e+00],\n",
              "         [-4.2061e-01, -2.2788e+00, -4.2061e-01, -2.2788e+00,  1.3398e+00,\n",
              "           9.7887e-01],\n",
              "         [-4.2061e-01, -2.2788e+00,  1.3398e+00,  9.7887e-01, -1.8286e+00,\n",
              "           4.1638e-01],\n",
              "         [ 1.3398e+00,  9.7887e-01, -1.8286e+00,  4.1638e-01, -1.8286e+00,\n",
              "           4.1638e-01],\n",
              "         [-1.8286e+00,  4.1638e-01, -1.8286e+00,  4.1638e-01, -1.4616e-03,\n",
              "           9.9255e-01],\n",
              "         [-4.2061e-01, -2.2788e+00, -4.2061e-01, -2.2788e+00, -4.2061e-01,\n",
              "          -2.2788e+00],\n",
              "         [-4.2061e-01, -2.2788e+00, -4.2061e-01, -2.2788e+00, -1.3372e+00,\n",
              "           1.1549e+00],\n",
              "         [-4.2061e-01, -2.2788e+00, -1.3372e+00,  1.1549e+00,  3.1752e+00,\n",
              "          -7.3441e-01],\n",
              "         [-1.3372e+00,  1.1549e+00,  3.1752e+00, -7.3441e-01, -4.8332e-01,\n",
              "           1.0488e+00],\n",
              "         [ 3.1752e+00, -7.3441e-01, -4.8332e-01,  1.0488e+00, -4.8061e-01,\n",
              "          -2.3162e+00],\n",
              "         [-4.8332e-01,  1.0488e+00, -4.8061e-01, -2.3162e+00, -4.8332e-01,\n",
              "           1.0488e+00],\n",
              "         [-4.8061e-01, -2.3162e+00, -4.8332e-01,  1.0488e+00, -1.4616e-03,\n",
              "           9.9255e-01],\n",
              "         [-4.2061e-01, -2.2788e+00, -4.2061e-01, -2.2788e+00, -4.2061e-01,\n",
              "          -2.2788e+00],\n",
              "         [-4.2061e-01, -2.2788e+00, -4.2061e-01, -2.2788e+00, -1.4616e-03,\n",
              "           9.9255e-01],\n",
              "         [-4.2061e-01, -2.2788e+00, -1.4616e-03,  9.9255e-01, -4.8061e-01,\n",
              "          -2.3162e+00],\n",
              "         [-1.4616e-03,  9.9255e-01, -4.8061e-01, -2.3162e+00, -1.4616e-03,\n",
              "           9.9255e-01],\n",
              "         [-4.2061e-01, -2.2788e+00, -4.2061e-01, -2.2788e+00, -4.2061e-01,\n",
              "          -2.2788e+00],\n",
              "         [-4.2061e-01, -2.2788e+00, -4.2061e-01, -2.2788e+00, -4.8332e-01,\n",
              "           1.0488e+00],\n",
              "         [-4.2061e-01, -2.2788e+00, -4.8332e-01,  1.0488e+00, -9.1898e-01,\n",
              "          -2.4123e+00],\n",
              "         [-4.8332e-01,  1.0488e+00, -9.1898e-01, -2.4123e+00, -1.4616e-03,\n",
              "           9.9255e-01],\n",
              "         [-9.1898e-01, -2.4123e+00, -1.4616e-03,  9.9255e-01,  1.8368e+00,\n",
              "          -1.1358e+00],\n",
              "         [-1.4616e-03,  9.9255e-01,  1.8368e+00, -1.1358e+00,  1.3398e+00,\n",
              "           9.7887e-01],\n",
              "         [ 1.8368e+00, -1.1358e+00,  1.3398e+00,  9.7887e-01,  3.1752e+00,\n",
              "          -7.3441e-01],\n",
              "         [ 1.3398e+00,  9.7887e-01,  3.1752e+00, -7.3441e-01,  3.1752e+00,\n",
              "          -7.3441e-01],\n",
              "         [ 3.1752e+00, -7.3441e-01,  3.1752e+00, -7.3441e-01, -1.4616e-03,\n",
              "           9.9255e-01],\n",
              "         [-4.2061e-01, -2.2788e+00, -4.2061e-01, -2.2788e+00, -4.2061e-01,\n",
              "          -2.2788e+00],\n",
              "         [-4.2061e-01, -2.2788e+00, -4.2061e-01, -2.2788e+00, -9.1898e-01,\n",
              "          -2.4123e+00],\n",
              "         [-4.2061e-01, -2.2788e+00, -9.1898e-01, -2.4123e+00, -1.3372e+00,\n",
              "           1.1549e+00],\n",
              "         [-9.1898e-01, -2.4123e+00, -1.3372e+00,  1.1549e+00,  1.8801e+00,\n",
              "          -4.0999e-01],\n",
              "         [-1.3372e+00,  1.1549e+00,  1.8801e+00, -4.0999e-01, -1.6380e-01,\n",
              "           2.8204e-01],\n",
              "         [ 1.8801e+00, -4.0999e-01, -1.6380e-01,  2.8204e-01, -4.8332e-01,\n",
              "           1.0488e+00],\n",
              "         [-1.6380e-01,  2.8204e-01, -4.8332e-01,  1.0488e+00, -1.4616e-03,\n",
              "           9.9255e-01]]))"
            ]
          },
          "metadata": {},
          "execution_count": 543
        }
      ]
    },
    {
      "cell_type": "markdown",
      "source": [
        "We obtained our desired tensor of shape $(32, 6)$ using a straightforward method, but there's an even more efficient way to achieve this by utilizing the `view()` function in tensors.\n",
        "\n",
        "Let's create a simpler example to illustrate how this works:"
      ],
      "metadata": {
        "id": "doO9fdBVVILZ"
      }
    },
    {
      "cell_type": "code",
      "source": [
        "t = torch.arange(18)\n",
        "t.shape, t"
      ],
      "metadata": {
        "colab": {
          "base_uri": "https://localhost:8080/"
        },
        "id": "w5Ed70TUPejU",
        "outputId": "3f779751-e7a6-47e2-b8b0-ce6b2ab561cf"
      },
      "execution_count": 544,
      "outputs": [
        {
          "output_type": "execute_result",
          "data": {
            "text/plain": [
              "(torch.Size([18]),\n",
              " tensor([ 0,  1,  2,  3,  4,  5,  6,  7,  8,  9, 10, 11, 12, 13, 14, 15, 16, 17]))"
            ]
          },
          "metadata": {},
          "execution_count": 544
        }
      ]
    },
    {
      "cell_type": "markdown",
      "source": [
        "This tensor `t` has a shape of $(18)$, but it can easily be reshaped to any other form, as long as the product of all dimensions still equals $18$. For example, we can reshape it to have a shape of $(2, 9)$:"
      ],
      "metadata": {
        "id": "PqNiyD1_5Wbk"
      }
    },
    {
      "cell_type": "code",
      "source": [
        "t.view(2, 9)"
      ],
      "metadata": {
        "colab": {
          "base_uri": "https://localhost:8080/"
        },
        "id": "dOjYTRqZPjC3",
        "outputId": "fc427c31-9820-4fcb-a463-82560f556eb8"
      },
      "execution_count": 545,
      "outputs": [
        {
          "output_type": "execute_result",
          "data": {
            "text/plain": [
              "tensor([[ 0,  1,  2,  3,  4,  5,  6,  7,  8],\n",
              "        [ 9, 10, 11, 12, 13, 14, 15, 16, 17]])"
            ]
          },
          "metadata": {},
          "execution_count": 545
        }
      ]
    },
    {
      "cell_type": "markdown",
      "source": [
        "Or reshape it to $(9, 2)$:"
      ],
      "metadata": {
        "id": "1NFrkUlf6pX2"
      }
    },
    {
      "cell_type": "code",
      "source": [
        "t.view(9, 2)"
      ],
      "metadata": {
        "id": "zAsxs-iL6z84",
        "colab": {
          "base_uri": "https://localhost:8080/"
        },
        "outputId": "dee64b61-94df-4cc5-e7cb-e87459fe0341"
      },
      "execution_count": 546,
      "outputs": [
        {
          "output_type": "execute_result",
          "data": {
            "text/plain": [
              "tensor([[ 0,  1],\n",
              "        [ 2,  3],\n",
              "        [ 4,  5],\n",
              "        [ 6,  7],\n",
              "        [ 8,  9],\n",
              "        [10, 11],\n",
              "        [12, 13],\n",
              "        [14, 15],\n",
              "        [16, 17]])"
            ]
          },
          "metadata": {},
          "execution_count": 546
        }
      ]
    },
    {
      "cell_type": "markdown",
      "source": [
        "Or even reshape it to $(3, 3, 2)$:"
      ],
      "metadata": {
        "id": "I9r_wLRh6sJO"
      }
    },
    {
      "cell_type": "code",
      "source": [
        "t.view(3, 3, 2)"
      ],
      "metadata": {
        "id": "qe7FyZA66urr",
        "colab": {
          "base_uri": "https://localhost:8080/"
        },
        "outputId": "081fc36c-eaef-4569-ceaf-9fdf115707eb"
      },
      "execution_count": 547,
      "outputs": [
        {
          "output_type": "execute_result",
          "data": {
            "text/plain": [
              "tensor([[[ 0,  1],\n",
              "         [ 2,  3],\n",
              "         [ 4,  5]],\n",
              "\n",
              "        [[ 6,  7],\n",
              "         [ 8,  9],\n",
              "         [10, 11]],\n",
              "\n",
              "        [[12, 13],\n",
              "         [14, 15],\n",
              "         [16, 17]]])"
            ]
          },
          "metadata": {},
          "execution_count": 547
        }
      ]
    },
    {
      "cell_type": "markdown",
      "source": [
        "This operation not only simplifies the process but is also highly efficient because it doesn't create any new tensors, thus avoiding additional memory allocation.\n",
        "\n",
        "The reason this works is that tensors are stored in memory as sequential arrays and are accessed differently based on certain parameters that dictate how the data is interpreted. For more details on how tensors work internally, you can refer to this blog post: [PyTorch Internals](https://blog.ezyang.com/2019/05/pytorch-internals/).\n",
        "\n",
        "You can inspect a tensor's raw values using the `storage()` function:"
      ],
      "metadata": {
        "id": "DoPV4qbF62uv"
      }
    },
    {
      "cell_type": "code",
      "source": [
        "t.shape, t.storage()"
      ],
      "metadata": {
        "colab": {
          "base_uri": "https://localhost:8080/"
        },
        "id": "HdlCbvpuPurj",
        "outputId": "14e3cfdd-77f5-4135-f08a-1f425ef4a62d"
      },
      "execution_count": 548,
      "outputs": [
        {
          "output_type": "execute_result",
          "data": {
            "text/plain": [
              "(torch.Size([18]),\n",
              "  0\n",
              "  1\n",
              "  2\n",
              "  3\n",
              "  4\n",
              "  5\n",
              "  6\n",
              "  7\n",
              "  8\n",
              "  9\n",
              "  10\n",
              "  11\n",
              "  12\n",
              "  13\n",
              "  14\n",
              "  15\n",
              "  16\n",
              "  17\n",
              " [torch.storage.TypedStorage(dtype=torch.int64, device=cpu) of size 18])"
            ]
          },
          "metadata": {},
          "execution_count": 548
        }
      ]
    },
    {
      "cell_type": "markdown",
      "source": [
        "We can apply the reshaping operation again using each of previous strategies and compare their results to ensure they produce equivalent outcomes:"
      ],
      "metadata": {
        "id": "cWxpOLal7XXY"
      }
    },
    {
      "cell_type": "code",
      "source": [
        "t1 = torch.cat([Xemb[:, 0, :], Xemb[:, 1, :], Xemb[:, 2, :]], dim=1) # inefficient\n",
        "t2 = torch.cat(torch.unbind(Xemb, 1), dim=1) # inefficient\n",
        "t3 = Xemb.view(32, 6) # efficient\n",
        "torch.equal(t1, t2), torch.equal(t2, t3)"
      ],
      "metadata": {
        "colab": {
          "base_uri": "https://localhost:8080/"
        },
        "id": "G9_YCQIZQKbq",
        "outputId": "6893c514-a3f5-40cc-c785-3c03bd617464"
      },
      "execution_count": 549,
      "outputs": [
        {
          "output_type": "execute_result",
          "data": {
            "text/plain": [
              "(True, True)"
            ]
          },
          "metadata": {},
          "execution_count": 549
        }
      ]
    },
    {
      "cell_type": "markdown",
      "source": [
        "One important detail to explore is how to make the reshaping process more flexible. Currently, it's hardcoded for $32$ examples, but we can make it adaptable by softcoding it as follows:"
      ],
      "metadata": {
        "id": "lKVb_zt18DRU"
      }
    },
    {
      "cell_type": "code",
      "source": [
        "Xemb.view(Xemb.shape[0], 6)"
      ],
      "metadata": {
        "id": "_cINn9sY8OIT",
        "colab": {
          "base_uri": "https://localhost:8080/"
        },
        "outputId": "4cc1adae-39d0-4adc-9682-23a6877f325a"
      },
      "execution_count": 550,
      "outputs": [
        {
          "output_type": "execute_result",
          "data": {
            "text/plain": [
              "tensor([[-4.2061e-01, -2.2788e+00, -4.2061e-01, -2.2788e+00, -4.2061e-01,\n",
              "         -2.2788e+00],\n",
              "        [-4.2061e-01, -2.2788e+00, -4.2061e-01, -2.2788e+00,  1.3398e+00,\n",
              "          9.7887e-01],\n",
              "        [-4.2061e-01, -2.2788e+00,  1.3398e+00,  9.7887e-01, -1.8286e+00,\n",
              "          4.1638e-01],\n",
              "        [ 1.3398e+00,  9.7887e-01, -1.8286e+00,  4.1638e-01, -1.8286e+00,\n",
              "          4.1638e-01],\n",
              "        [-1.8286e+00,  4.1638e-01, -1.8286e+00,  4.1638e-01, -1.4616e-03,\n",
              "          9.9255e-01],\n",
              "        [-4.2061e-01, -2.2788e+00, -4.2061e-01, -2.2788e+00, -4.2061e-01,\n",
              "         -2.2788e+00],\n",
              "        [-4.2061e-01, -2.2788e+00, -4.2061e-01, -2.2788e+00, -1.3372e+00,\n",
              "          1.1549e+00],\n",
              "        [-4.2061e-01, -2.2788e+00, -1.3372e+00,  1.1549e+00,  3.1752e+00,\n",
              "         -7.3441e-01],\n",
              "        [-1.3372e+00,  1.1549e+00,  3.1752e+00, -7.3441e-01, -4.8332e-01,\n",
              "          1.0488e+00],\n",
              "        [ 3.1752e+00, -7.3441e-01, -4.8332e-01,  1.0488e+00, -4.8061e-01,\n",
              "         -2.3162e+00],\n",
              "        [-4.8332e-01,  1.0488e+00, -4.8061e-01, -2.3162e+00, -4.8332e-01,\n",
              "          1.0488e+00],\n",
              "        [-4.8061e-01, -2.3162e+00, -4.8332e-01,  1.0488e+00, -1.4616e-03,\n",
              "          9.9255e-01],\n",
              "        [-4.2061e-01, -2.2788e+00, -4.2061e-01, -2.2788e+00, -4.2061e-01,\n",
              "         -2.2788e+00],\n",
              "        [-4.2061e-01, -2.2788e+00, -4.2061e-01, -2.2788e+00, -1.4616e-03,\n",
              "          9.9255e-01],\n",
              "        [-4.2061e-01, -2.2788e+00, -1.4616e-03,  9.9255e-01, -4.8061e-01,\n",
              "         -2.3162e+00],\n",
              "        [-1.4616e-03,  9.9255e-01, -4.8061e-01, -2.3162e+00, -1.4616e-03,\n",
              "          9.9255e-01],\n",
              "        [-4.2061e-01, -2.2788e+00, -4.2061e-01, -2.2788e+00, -4.2061e-01,\n",
              "         -2.2788e+00],\n",
              "        [-4.2061e-01, -2.2788e+00, -4.2061e-01, -2.2788e+00, -4.8332e-01,\n",
              "          1.0488e+00],\n",
              "        [-4.2061e-01, -2.2788e+00, -4.8332e-01,  1.0488e+00, -9.1898e-01,\n",
              "         -2.4123e+00],\n",
              "        [-4.8332e-01,  1.0488e+00, -9.1898e-01, -2.4123e+00, -1.4616e-03,\n",
              "          9.9255e-01],\n",
              "        [-9.1898e-01, -2.4123e+00, -1.4616e-03,  9.9255e-01,  1.8368e+00,\n",
              "         -1.1358e+00],\n",
              "        [-1.4616e-03,  9.9255e-01,  1.8368e+00, -1.1358e+00,  1.3398e+00,\n",
              "          9.7887e-01],\n",
              "        [ 1.8368e+00, -1.1358e+00,  1.3398e+00,  9.7887e-01,  3.1752e+00,\n",
              "         -7.3441e-01],\n",
              "        [ 1.3398e+00,  9.7887e-01,  3.1752e+00, -7.3441e-01,  3.1752e+00,\n",
              "         -7.3441e-01],\n",
              "        [ 3.1752e+00, -7.3441e-01,  3.1752e+00, -7.3441e-01, -1.4616e-03,\n",
              "          9.9255e-01],\n",
              "        [-4.2061e-01, -2.2788e+00, -4.2061e-01, -2.2788e+00, -4.2061e-01,\n",
              "         -2.2788e+00],\n",
              "        [-4.2061e-01, -2.2788e+00, -4.2061e-01, -2.2788e+00, -9.1898e-01,\n",
              "         -2.4123e+00],\n",
              "        [-4.2061e-01, -2.2788e+00, -9.1898e-01, -2.4123e+00, -1.3372e+00,\n",
              "          1.1549e+00],\n",
              "        [-9.1898e-01, -2.4123e+00, -1.3372e+00,  1.1549e+00,  1.8801e+00,\n",
              "         -4.0999e-01],\n",
              "        [-1.3372e+00,  1.1549e+00,  1.8801e+00, -4.0999e-01, -1.6380e-01,\n",
              "          2.8204e-01],\n",
              "        [ 1.8801e+00, -4.0999e-01, -1.6380e-01,  2.8204e-01, -4.8332e-01,\n",
              "          1.0488e+00],\n",
              "        [-1.6380e-01,  2.8204e-01, -4.8332e-01,  1.0488e+00, -1.4616e-03,\n",
              "          9.9255e-01]])"
            ]
          },
          "metadata": {},
          "execution_count": 550
        }
      ]
    },
    {
      "cell_type": "markdown",
      "source": [
        "There's an even more flexible approach: by setting `-1` in the first dimension, we let PyTorch automatically calculate its size. With $192$ elements and the second dimension fixed at $6$, PyTorch determines the first dimension should be $32$ since $32 \\times 6 = 192$:"
      ],
      "metadata": {
        "id": "veNX1bHh8SxE"
      }
    },
    {
      "cell_type": "code",
      "source": [
        "Xemb.view(-1, 6)"
      ],
      "metadata": {
        "id": "V50cgzmc8cCy",
        "colab": {
          "base_uri": "https://localhost:8080/"
        },
        "outputId": "0b7cdcb4-6274-4334-e3e9-18ae367b0df3"
      },
      "execution_count": 551,
      "outputs": [
        {
          "output_type": "execute_result",
          "data": {
            "text/plain": [
              "tensor([[-4.2061e-01, -2.2788e+00, -4.2061e-01, -2.2788e+00, -4.2061e-01,\n",
              "         -2.2788e+00],\n",
              "        [-4.2061e-01, -2.2788e+00, -4.2061e-01, -2.2788e+00,  1.3398e+00,\n",
              "          9.7887e-01],\n",
              "        [-4.2061e-01, -2.2788e+00,  1.3398e+00,  9.7887e-01, -1.8286e+00,\n",
              "          4.1638e-01],\n",
              "        [ 1.3398e+00,  9.7887e-01, -1.8286e+00,  4.1638e-01, -1.8286e+00,\n",
              "          4.1638e-01],\n",
              "        [-1.8286e+00,  4.1638e-01, -1.8286e+00,  4.1638e-01, -1.4616e-03,\n",
              "          9.9255e-01],\n",
              "        [-4.2061e-01, -2.2788e+00, -4.2061e-01, -2.2788e+00, -4.2061e-01,\n",
              "         -2.2788e+00],\n",
              "        [-4.2061e-01, -2.2788e+00, -4.2061e-01, -2.2788e+00, -1.3372e+00,\n",
              "          1.1549e+00],\n",
              "        [-4.2061e-01, -2.2788e+00, -1.3372e+00,  1.1549e+00,  3.1752e+00,\n",
              "         -7.3441e-01],\n",
              "        [-1.3372e+00,  1.1549e+00,  3.1752e+00, -7.3441e-01, -4.8332e-01,\n",
              "          1.0488e+00],\n",
              "        [ 3.1752e+00, -7.3441e-01, -4.8332e-01,  1.0488e+00, -4.8061e-01,\n",
              "         -2.3162e+00],\n",
              "        [-4.8332e-01,  1.0488e+00, -4.8061e-01, -2.3162e+00, -4.8332e-01,\n",
              "          1.0488e+00],\n",
              "        [-4.8061e-01, -2.3162e+00, -4.8332e-01,  1.0488e+00, -1.4616e-03,\n",
              "          9.9255e-01],\n",
              "        [-4.2061e-01, -2.2788e+00, -4.2061e-01, -2.2788e+00, -4.2061e-01,\n",
              "         -2.2788e+00],\n",
              "        [-4.2061e-01, -2.2788e+00, -4.2061e-01, -2.2788e+00, -1.4616e-03,\n",
              "          9.9255e-01],\n",
              "        [-4.2061e-01, -2.2788e+00, -1.4616e-03,  9.9255e-01, -4.8061e-01,\n",
              "         -2.3162e+00],\n",
              "        [-1.4616e-03,  9.9255e-01, -4.8061e-01, -2.3162e+00, -1.4616e-03,\n",
              "          9.9255e-01],\n",
              "        [-4.2061e-01, -2.2788e+00, -4.2061e-01, -2.2788e+00, -4.2061e-01,\n",
              "         -2.2788e+00],\n",
              "        [-4.2061e-01, -2.2788e+00, -4.2061e-01, -2.2788e+00, -4.8332e-01,\n",
              "          1.0488e+00],\n",
              "        [-4.2061e-01, -2.2788e+00, -4.8332e-01,  1.0488e+00, -9.1898e-01,\n",
              "         -2.4123e+00],\n",
              "        [-4.8332e-01,  1.0488e+00, -9.1898e-01, -2.4123e+00, -1.4616e-03,\n",
              "          9.9255e-01],\n",
              "        [-9.1898e-01, -2.4123e+00, -1.4616e-03,  9.9255e-01,  1.8368e+00,\n",
              "         -1.1358e+00],\n",
              "        [-1.4616e-03,  9.9255e-01,  1.8368e+00, -1.1358e+00,  1.3398e+00,\n",
              "          9.7887e-01],\n",
              "        [ 1.8368e+00, -1.1358e+00,  1.3398e+00,  9.7887e-01,  3.1752e+00,\n",
              "         -7.3441e-01],\n",
              "        [ 1.3398e+00,  9.7887e-01,  3.1752e+00, -7.3441e-01,  3.1752e+00,\n",
              "         -7.3441e-01],\n",
              "        [ 3.1752e+00, -7.3441e-01,  3.1752e+00, -7.3441e-01, -1.4616e-03,\n",
              "          9.9255e-01],\n",
              "        [-4.2061e-01, -2.2788e+00, -4.2061e-01, -2.2788e+00, -4.2061e-01,\n",
              "         -2.2788e+00],\n",
              "        [-4.2061e-01, -2.2788e+00, -4.2061e-01, -2.2788e+00, -9.1898e-01,\n",
              "         -2.4123e+00],\n",
              "        [-4.2061e-01, -2.2788e+00, -9.1898e-01, -2.4123e+00, -1.3372e+00,\n",
              "          1.1549e+00],\n",
              "        [-9.1898e-01, -2.4123e+00, -1.3372e+00,  1.1549e+00,  1.8801e+00,\n",
              "         -4.0999e-01],\n",
              "        [-1.3372e+00,  1.1549e+00,  1.8801e+00, -4.0999e-01, -1.6380e-01,\n",
              "          2.8204e-01],\n",
              "        [ 1.8801e+00, -4.0999e-01, -1.6380e-01,  2.8204e-01, -4.8332e-01,\n",
              "          1.0488e+00],\n",
              "        [-1.6380e-01,  2.8204e-01, -4.8332e-01,  1.0488e+00, -1.4616e-03,\n",
              "          9.9255e-01]])"
            ]
          },
          "metadata": {},
          "execution_count": 551
        }
      ]
    },
    {
      "cell_type": "markdown",
      "source": [
        "With that out of the way let's finally run the *forward pass* for the first layer (the hidden layer):"
      ],
      "metadata": {
        "id": "FFBMRyVN767e"
      }
    },
    {
      "cell_type": "code",
      "source": [
        "h1 = Xemb.view(-1, 6) @ W1 + b1\n",
        "h1.shape, h1"
      ],
      "metadata": {
        "id": "TOG9mfcROEJs",
        "colab": {
          "base_uri": "https://localhost:8080/"
        },
        "outputId": "29c1f7b2-42ac-4640-f055-d8cb52e50598"
      },
      "execution_count": 552,
      "outputs": [
        {
          "output_type": "execute_result",
          "data": {
            "text/plain": [
              "(torch.Size([32, 100]),\n",
              " tensor([[-4.5821,  3.3886,  8.3542,  ..., -1.6908, -1.4761, -1.3896],\n",
              "         [-0.7359,  4.3256,  5.5844,  ..., -2.0712,  0.9985,  4.1693],\n",
              "         [-4.4854,  6.9301, -1.6082,  ..., -3.2926,  2.7513, -1.7095],\n",
              "         ...,\n",
              "         [ 3.8118,  2.8222,  3.9976,  ..., -2.6320,  5.2659,  0.6684],\n",
              "         [-2.5701,  0.3696, -3.8014,  ...,  3.0659, -0.4773, -2.0006],\n",
              "         [-1.1837,  0.4894, -4.5214,  ..., -2.8452,  0.2084, -0.0983]]))"
            ]
          },
          "metadata": {},
          "execution_count": 552
        }
      ]
    },
    {
      "cell_type": "markdown",
      "source": [
        "We're still missing a non-linear function to squash the layer's activation, let's use `tanh`:"
      ],
      "metadata": {
        "id": "6tluD2mP8jDF"
      }
    },
    {
      "cell_type": "code",
      "source": [
        "h1 = torch.tanh(Xemb.view(-1, 6) @ W1 + b1)\n",
        "h1.shape, h1"
      ],
      "metadata": {
        "id": "3EqJAcDkQ06I",
        "colab": {
          "base_uri": "https://localhost:8080/"
        },
        "outputId": "8cbe040b-a5ca-4812-8326-6de1d6bd12b7"
      },
      "execution_count": 553,
      "outputs": [
        {
          "output_type": "execute_result",
          "data": {
            "text/plain": [
              "(torch.Size([32, 100]),\n",
              " tensor([[-0.9998,  0.9977,  1.0000,  ..., -0.9342, -0.9007, -0.8831],\n",
              "         [-0.6267,  0.9997,  1.0000,  ..., -0.9687,  0.7610,  0.9995],\n",
              "         [-0.9997,  1.0000, -0.9229,  ..., -0.9972,  0.9919, -0.9366],\n",
              "         ...,\n",
              "         [ 0.9990,  0.9930,  0.9993,  ..., -0.9897,  0.9999,  0.5839],\n",
              "         [-0.9884,  0.3536, -0.9990,  ...,  0.9957, -0.4440, -0.9641],\n",
              "         [-0.8286,  0.4537, -0.9998,  ..., -0.9933,  0.2054, -0.0980]]))"
            ]
          },
          "metadata": {},
          "execution_count": 553
        }
      ]
    },
    {
      "cell_type": "markdown",
      "source": [
        "Next, we'll create the second and final layer, the *output layer*.\n",
        "\n",
        "Since the previous layer has $100$ neurons, it outputs $100$ values, meaning the *output layer* will have $100$ inputs. To output probabilities for each of the $27$ possible characters, it will need $27$ neurons. Therefore, the weight matrix `W2` for the *output layer* will have a shape of $(100, 27)$, representing $100 \\times 27 = 2700$ weights.\n",
        "\n",
        "We'll also create a tensor `b2` of shape $(27)$ for the bias values of the output neurons:"
      ],
      "metadata": {
        "id": "OlgKynA48ttu"
      }
    },
    {
      "cell_type": "code",
      "source": [
        "W2 = torch.randn((100, 27)) # Create output layer (receives 100 inputs from previous layer, and outputs 27 for the possible next character)\n",
        "b2 = torch.randn(27) # Add a bias to each of the possible outputs"
      ],
      "metadata": {
        "id": "djpN6BvwQ5F7"
      },
      "execution_count": 554,
      "outputs": []
    },
    {
      "cell_type": "markdown",
      "source": [
        "We can now continue the *forward pass* through the *output layer* to get the logits:"
      ],
      "metadata": {
        "id": "SP_FzCzY9X92"
      }
    },
    {
      "cell_type": "code",
      "source": [
        "logits = h1 @ W2 + b2\n",
        "logits.shape"
      ],
      "metadata": {
        "id": "kta2nfO0RHi5",
        "colab": {
          "base_uri": "https://localhost:8080/"
        },
        "outputId": "d95bf270-e229-445a-a70e-0e662a8b0dec"
      },
      "execution_count": 555,
      "outputs": [
        {
          "output_type": "execute_result",
          "data": {
            "text/plain": [
              "torch.Size([32, 27])"
            ]
          },
          "metadata": {},
          "execution_count": 555
        }
      ]
    },
    {
      "cell_type": "markdown",
      "source": [
        "The `logits` tensor has a shape of $(32, 27)$ because it represents the unnormalized scores (raw predictions) for each possible next character across the $32$ input character sequences fed into the network.\n",
        "\n",
        "Let's inspect the `logits` tensor:"
      ],
      "metadata": {
        "id": "QffRdNIv9leL"
      }
    },
    {
      "cell_type": "code",
      "source": [
        "logits.shape, logits[0]"
      ],
      "metadata": {
        "colab": {
          "base_uri": "https://localhost:8080/"
        },
        "id": "Adm4fYKO90eZ",
        "outputId": "3b3677c0-a321-4119-d333-1bb914f315cc"
      },
      "execution_count": 556,
      "outputs": [
        {
          "output_type": "execute_result",
          "data": {
            "text/plain": [
              "(torch.Size([32, 27]),\n",
              " tensor([-17.1940,   3.4736, -13.7481,  18.1992, -12.1185,  18.9400, -11.9435,\n",
              "          -2.7839, -12.4418, -20.0452,  22.3156,  -6.9423, -15.3579,   3.3752,\n",
              "         -11.5236,   9.5172,  -7.9597,  -7.7149,   8.2347,  -8.1456,  -7.4891,\n",
              "          -2.1093,   8.4081,   4.7288,  -9.2167,  10.6841,   1.7673]))"
            ]
          },
          "metadata": {},
          "execution_count": 556
        }
      ]
    },
    {
      "cell_type": "markdown",
      "source": [
        "To convert the negative numbers into positive ones and prepare the logits for normalization into a probability distribution, we can exponentiate the logits. This will turn them positive (a requirement for normalization), while amplifying the differences between higher and lower values (for faster training):"
      ],
      "metadata": {
        "id": "Ja_Zhk8R91-q"
      }
    },
    {
      "cell_type": "code",
      "source": [
        "counts = logits.exp()\n",
        "counts.shape, counts[0]"
      ],
      "metadata": {
        "id": "K-HXPwX2RLlZ",
        "colab": {
          "base_uri": "https://localhost:8080/"
        },
        "outputId": "4fcaabd2-e3c4-476e-f5d7-5ec72fed6e31"
      },
      "execution_count": 557,
      "outputs": [
        {
          "output_type": "execute_result",
          "data": {
            "text/plain": [
              "(torch.Size([32, 27]),\n",
              " tensor([3.4097e-08, 3.2254e+01, 1.0697e-06, 8.0129e+07, 5.4574e-06, 1.6808e+08,\n",
              "         6.5012e-06, 6.1799e-02, 3.9500e-06, 1.9701e-09, 4.9153e+09, 9.6609e-04,\n",
              "         2.1387e-07, 2.9231e+01, 9.8940e-06, 1.3591e+04, 3.4927e-04, 4.4612e-04,\n",
              "         3.7696e+03, 2.9000e-04, 5.5917e-04, 1.2133e-01, 4.4832e+03, 1.1316e+02,\n",
              "         9.9361e-05, 4.3658e+04, 5.8551e+00]))"
            ]
          },
          "metadata": {},
          "execution_count": 557
        }
      ]
    },
    {
      "cell_type": "markdown",
      "source": [
        "We can now normalize the logits to obtain a probability distribution:"
      ],
      "metadata": {
        "id": "PG_e9vYl-Gs0"
      }
    },
    {
      "cell_type": "code",
      "source": [
        "probs = counts / counts.sum(1, keepdims=True)\n",
        "probs.shape, probs[0].sum(), probs[0]"
      ],
      "metadata": {
        "id": "9UHh59ehRPAo",
        "colab": {
          "base_uri": "https://localhost:8080/"
        },
        "outputId": "2991034d-cda2-4e28-fa25-76bb988a5fa4"
      },
      "execution_count": 558,
      "outputs": [
        {
          "output_type": "execute_result",
          "data": {
            "text/plain": [
              "(torch.Size([32, 27]),\n",
              " tensor(1.0000),\n",
              " tensor([6.6035e-18, 6.2464e-09, 2.0717e-16, 1.5518e-02, 1.0569e-15, 3.2552e-02,\n",
              "         1.2591e-15, 1.1968e-11, 7.6498e-16, 3.8153e-19, 9.5192e-01, 1.8710e-13,\n",
              "         4.1419e-17, 5.6610e-09, 1.9161e-15, 2.6322e-06, 6.7642e-14, 8.6398e-14,\n",
              "         7.3004e-07, 5.6162e-14, 1.0829e-13, 2.3497e-11, 8.6825e-07, 2.1915e-08,\n",
              "         1.9243e-14, 8.4551e-06, 1.1339e-09]))"
            ]
          },
          "metadata": {},
          "execution_count": 558
        }
      ]
    },
    {
      "cell_type": "markdown",
      "source": [
        "Using PyTorch's advanced indexing, we can retrieve the probability assigned by the model to the correct next character (found in $Y$) for each of the $32$ inputs:"
      ],
      "metadata": {
        "id": "HYqROZeT-OFo"
      }
    },
    {
      "cell_type": "code",
      "source": [
        "probs[torch.arange(32), Y] # Probability for each of the possible examples being the expected character"
      ],
      "metadata": {
        "id": "GxufUL3hRz--",
        "colab": {
          "base_uri": "https://localhost:8080/"
        },
        "outputId": "c3ec06f5-5eee-43cd-8051-60ed10b81428"
      },
      "execution_count": 559,
      "outputs": [
        {
          "output_type": "execute_result",
          "data": {
            "text/plain": [
              "tensor([3.2552e-02, 2.4674e-05, 1.4123e-07, 8.0032e-12, 2.8475e-10, 2.6322e-06,\n",
              "        2.2335e-11, 1.8446e-12, 2.4507e-07, 5.7547e-16, 6.6817e-15, 3.4337e-07,\n",
              "        6.2464e-09, 9.4887e-01, 1.3744e-09, 3.9650e-09, 3.8153e-19, 6.2392e-06,\n",
              "        7.5112e-09, 4.7126e-14, 9.2577e-06, 3.7270e-03, 1.6060e-07, 5.2157e-12,\n",
              "        2.1482e-04, 5.6162e-14, 6.8547e-06, 8.5558e-11, 1.4128e-10, 1.6863e-06,\n",
              "        2.6734e-11, 4.4876e-08])"
            ]
          },
          "metadata": {},
          "execution_count": 559
        }
      ]
    },
    {
      "cell_type": "markdown",
      "source": [
        "We can now calculate the *negative log likelihood* and use it as our loss function:"
      ],
      "metadata": {
        "id": "PPaQEWie-l_v"
      }
    },
    {
      "cell_type": "code",
      "source": [
        "nll_loss = -probs[torch.arange(32), Y].log().mean()\n",
        "nll_loss"
      ],
      "metadata": {
        "id": "2PWs633eSJ2j",
        "colab": {
          "base_uri": "https://localhost:8080/"
        },
        "outputId": "89333354-5fd2-44fc-dda0-305933103654"
      },
      "execution_count": 560,
      "outputs": [
        {
          "output_type": "execute_result",
          "data": {
            "text/plain": [
              "tensor(19.1288)"
            ]
          },
          "metadata": {},
          "execution_count": 560
        }
      ]
    },
    {
      "cell_type": "markdown",
      "source": [
        "## Improve Numerical Stability ⚖️\n",
        "\n",
        "Let's discuss the benefits of using `F.cross_entropy()` from PyTorch instead of manually calculating the *negative log likelihood*.\n",
        "\n",
        "First, let's define a `build_model()` function that allows us to recreate our model whenever needed with the same initial parameters when needed:"
      ],
      "metadata": {
        "id": "R2qse8k3_gFZ"
      }
    },
    {
      "cell_type": "code",
      "source": [
        "SEED = 42 # Default seed to initialize random number generators with, for reproducibility\n",
        "\n",
        "def build_model(seed=SEED):\n",
        "  generator = torch.Generator().manual_seed(seed) # Use a generator so that we always get the same model with the same parameters\n",
        "  C = torch.randn((27, 2), generator=generator)\n",
        "  W1 = torch.randn((6, 100), generator=generator)\n",
        "  b1 = torch.randn(100, generator=generator)\n",
        "  W2 = torch.randn((100, 27), generator=generator)\n",
        "  b2 = torch.randn(27, generator=generator)\n",
        "  parameters = [C, W1, b1, W2, b2]\n",
        "  for p in parameters: p.requires_grad = True # Enable gradient tracking\n",
        "  return parameters\n",
        "\n",
        "model = build_model() # Create the model\n",
        "C, W1, b1, W2, b2 = model # Unpack the model parameters\n",
        "\n",
        "# Count the number of parameters\n",
        "num_parameters = sum(p.nelement() for p in model)\n",
        "print(f\"Number of parameters: {num_parameters}\")"
      ],
      "metadata": {
        "id": "Qt3JdUhdSaDJ",
        "colab": {
          "base_uri": "https://localhost:8080/"
        },
        "outputId": "86277a52-b4a7-409e-a216-c1c81892c493"
      },
      "execution_count": 561,
      "outputs": [
        {
          "output_type": "stream",
          "name": "stdout",
          "text": [
            "Number of parameters: 3481\n"
          ]
        }
      ]
    },
    {
      "cell_type": "markdown",
      "source": [
        "Now, let's encapsulate the forward pass into a `forward()` method:"
      ],
      "metadata": {
        "id": "Xu_9XtjWAayp"
      }
    },
    {
      "cell_type": "code",
      "source": [
        "import torch.nn.functional as F\n",
        "\n",
        "def forward(dataset, model, loss_fn=\"F.cross_entropy\"):\n",
        "  X, Y = dataset # Unpack the dataset\n",
        "  C, W1, b1, W2, b2 = model # Unpack the model parameters\n",
        "\n",
        "  Xemb = C[X] # Embed X tensor (replaces character integer encoding with embeddings)\n",
        "  h = torch.tanh(Xemb.view(-1, 6) @ W1 + b1) # Activate hidden layer, resulting in (32, 100)\n",
        "  logits = h @ W2 + b2 # Activate output layer, resulting in (32, 27)\n",
        "\n",
        "  # Run efficient pytorch cross-entropy loss function by default\n",
        "  if loss_fn == \"F.cross_entropy\":\n",
        "    loss = F.cross_entropy(logits, Y)\n",
        "  # Otherwise calculate same loss function manually\n",
        "  else:\n",
        "    counts = logits.exp()\n",
        "    probs = counts / counts.sum(1, keepdims=True)\n",
        "    loss = -probs[torch.arange(Xemb.shape[0]), Y].log().mean()\n",
        "\n",
        "  return loss, logits"
      ],
      "metadata": {
        "id": "lvwPPu15AXB5"
      },
      "execution_count": 562,
      "outputs": []
    },
    {
      "cell_type": "markdown",
      "source": [
        "First we run the *forward pass* with our manual loss calculation:"
      ],
      "metadata": {
        "id": "gc32VjTnGf5x"
      }
    },
    {
      "cell_type": "code",
      "source": [
        "dataset = (X, Y)\n",
        "loss, _ = forward(dataset, model, loss_fn=\"manual\")\n",
        "loss"
      ],
      "metadata": {
        "id": "gpRE7GEDSzQT",
        "colab": {
          "base_uri": "https://localhost:8080/"
        },
        "outputId": "91fae4b1-1071-4901-d59a-9772a9870983"
      },
      "execution_count": 563,
      "outputs": [
        {
          "output_type": "execute_result",
          "data": {
            "text/plain": [
              "tensor(17.7758, grad_fn=<NegBackward0>)"
            ]
          },
          "metadata": {},
          "execution_count": 563
        }
      ]
    },
    {
      "cell_type": "markdown",
      "source": [
        "And now we use PyTorch's `F.cross_entropy` loss function:"
      ],
      "metadata": {
        "id": "Qzejubc2GjP4"
      }
    },
    {
      "cell_type": "code",
      "source": [
        "loss, _ = forward(dataset, model, loss_fn=\"F.cross_entropy\")\n",
        "loss"
      ],
      "metadata": {
        "id": "FxufdWcZS1-T",
        "colab": {
          "base_uri": "https://localhost:8080/"
        },
        "outputId": "98ae7cb4-3f84-426f-fef0-43d835e63965"
      },
      "execution_count": 564,
      "outputs": [
        {
          "output_type": "execute_result",
          "data": {
            "text/plain": [
              "tensor(17.7758, grad_fn=<NllLossBackward0>)"
            ]
          },
          "metadata": {},
          "execution_count": 564
        }
      ]
    },
    {
      "cell_type": "markdown",
      "source": [
        "We were fortunate to achieve the same loss with both approaches, but this might not always be the case. Let's explore an edge case where certain logits can cause numerical instability in our manual loss calculation.\n",
        "\n",
        "First, consider a stable example:"
      ],
      "metadata": {
        "id": "CCa0hWDZBAIq"
      }
    },
    {
      "cell_type": "code",
      "source": [
        "# Define temporary function to manually\n",
        "# calculate probabilities for testing purposes\n",
        "def _calc_probs(logits):\n",
        "  counts = logits.exp()\n",
        "  probs = counts / counts.sum()\n",
        "  return {\n",
        "      \"counts\" : counts,\n",
        "      \"probs\" : probs\n",
        "  }\n",
        "\n",
        "_calc_probs(torch.tensor([-2.0, -3.0, 0.0, -5.0]))"
      ],
      "metadata": {
        "colab": {
          "base_uri": "https://localhost:8080/"
        },
        "id": "vQsn9EYsAJtD",
        "outputId": "0881ce77-93cb-4a38-87a7-a8d5511b52e7"
      },
      "execution_count": 565,
      "outputs": [
        {
          "output_type": "execute_result",
          "data": {
            "text/plain": [
              "{'counts': tensor([0.1353, 0.0498, 1.0000, 0.0067]),\n",
              " 'probs': tensor([0.1135, 0.0418, 0.8390, 0.0057])}"
            ]
          },
          "metadata": {},
          "execution_count": 565
        }
      ]
    },
    {
      "cell_type": "markdown",
      "source": [
        "Everything was fine with the previous calculation, and everything should still be fine if we had big negative logits:"
      ],
      "metadata": {
        "id": "sGYypgOFBPwk"
      }
    },
    {
      "cell_type": "code",
      "source": [
        "_calc_probs(torch.tensor([-100.0, -3.0, 0.0, 5.0]))"
      ],
      "metadata": {
        "id": "GRa7AQgRT5Wn",
        "colab": {
          "base_uri": "https://localhost:8080/"
        },
        "outputId": "7a167a8a-6890-4c3a-cb58-0ea15ba1404a"
      },
      "execution_count": 566,
      "outputs": [
        {
          "output_type": "execute_result",
          "data": {
            "text/plain": [
              "{'counts': tensor([3.7835e-44, 4.9787e-02, 1.0000e+00, 1.4841e+02]),\n",
              " 'probs': tensor([0.0000e+00, 3.3311e-04, 6.6906e-03, 9.9298e-01])}"
            ]
          },
          "metadata": {},
          "execution_count": 566
        }
      ]
    },
    {
      "cell_type": "markdown",
      "source": [
        "But if we had big positive logits we would not be so lucky:"
      ],
      "metadata": {
        "id": "Vre8_rxRBV-u"
      }
    },
    {
      "cell_type": "code",
      "source": [
        "_calc_probs(torch.tensor([-100.0, -3.0, 0.0, 100.0]))"
      ],
      "metadata": {
        "colab": {
          "base_uri": "https://localhost:8080/"
        },
        "id": "HGbHhYFlAdog",
        "outputId": "7aa8d5ca-3c79-4a31-ba37-ff8ee4538575"
      },
      "execution_count": 567,
      "outputs": [
        {
          "output_type": "execute_result",
          "data": {
            "text/plain": [
              "{'counts': tensor([3.7835e-44, 4.9787e-02, 1.0000e+00,        inf]),\n",
              " 'probs': tensor([0., 0., 0., nan])}"
            ]
          },
          "metadata": {},
          "execution_count": 567
        }
      ]
    },
    {
      "cell_type": "markdown",
      "source": [
        "We observed that the `counts` tensor contains a positive infinity, and the `probs` tensor has a `NaN` value. This issue arises because the exponentiation of large numbers can lead to extremely large values, which may exceed the representable range of the data types, resulting in overflow.\n",
        "\n",
        "To illustrate this, let's plot the `exp()` function over the range $[-100, 100]$. This will help us visualize how exponentiating large numbers can lead to such overflow issues:"
      ],
      "metadata": {
        "id": "9SjgXwvIBmrF"
      }
    },
    {
      "cell_type": "code",
      "source": [
        "from matplotlib import pyplot as plt\n",
        "px = torch.linspace(-100, 100, 400) # Plot 400 points in range [-100, 100]\n",
        "py = torch.exp(px) # Calculate exp() for each x value\n",
        "plt.plot(px, py) # Plot the values"
      ],
      "metadata": {
        "colab": {
          "base_uri": "https://localhost:8080/",
          "height": 462
        },
        "id": "NYRWhOmuISRn",
        "outputId": "b5e4c51c-2035-4da6-96ae-36aed5883952"
      },
      "execution_count": 568,
      "outputs": [
        {
          "output_type": "execute_result",
          "data": {
            "text/plain": [
              "[<matplotlib.lines.Line2D at 0x7ae19194a6e0>]"
            ]
          },
          "metadata": {},
          "execution_count": 568
        },
        {
          "output_type": "display_data",
          "data": {
            "text/plain": [
              "<Figure size 640x480 with 1 Axes>"
            ],
            "image/png": "[encoded data removed]"
          },
          "metadata": {}
        }
      ]
    },
    {
      "cell_type": "markdown",
      "source": [
        "Exponentiation remains stable while $X <= 88$, after which the $Y$ value explodes and becomes unrepresentable:"
      ],
      "metadata": {
        "id": "FUATc9RUJBHU"
      }
    },
    {
      "cell_type": "code",
      "source": [
        "torch.exp(torch.tensor(88)), torch.exp(torch.tensor(89))"
      ],
      "metadata": {
        "colab": {
          "base_uri": "https://localhost:8080/"
        },
        "id": "vpYwUCSW0xNE",
        "outputId": "e4be419a-1bf6-467e-889b-113317f56cf2"
      },
      "execution_count": 569,
      "outputs": [
        {
          "output_type": "execute_result",
          "data": {
            "text/plain": [
              "(tensor(1.6516e+38), tensor(inf))"
            ]
          },
          "metadata": {},
          "execution_count": 569
        }
      ]
    },
    {
      "cell_type": "markdown",
      "source": [
        "There is an easy solution to this overflow problem though. Since the normalization step adjusts the distribution of values, the actual values passed to it are less important as long as their relative distribution remains the same.\n",
        "\n",
        "Notice how adding or subtracting constants from the logits tensor yields the same normalized result:"
      ],
      "metadata": {
        "id": "NvNtB23l1blG"
      }
    },
    {
      "cell_type": "code",
      "source": [
        "for value in [0, -1, 1, -2, 2, -10, 10]:\n",
        "  result = _calc_probs(torch.tensor([-2.0, -3.0, 0.0, -5.0]) + value)\n",
        "  print(result[\"probs\"])"
      ],
      "metadata": {
        "id": "DGQER5OdBvWj",
        "colab": {
          "base_uri": "https://localhost:8080/"
        },
        "outputId": "2b99997f-f60f-4651-a909-f3b9d8ae02a4"
      },
      "execution_count": 570,
      "outputs": [
        {
          "output_type": "stream",
          "name": "stdout",
          "text": [
            "tensor([0.1135, 0.0418, 0.8390, 0.0057])\n",
            "tensor([0.1135, 0.0418, 0.8390, 0.0057])\n",
            "tensor([0.1135, 0.0418, 0.8390, 0.0057])\n",
            "tensor([0.1135, 0.0418, 0.8390, 0.0057])\n",
            "tensor([0.1135, 0.0418, 0.8390, 0.0057])\n",
            "tensor([0.1135, 0.0418, 0.8390, 0.0057])\n",
            "tensor([0.1135, 0.0418, 0.8390, 0.0057])\n"
          ]
        }
      ]
    },
    {
      "cell_type": "markdown",
      "source": [
        "Therefore, to mitigate the numerical instability during exponentiation, we just need to subtract the maximum logit value from the tensor. This adjustment allows us to achieve the same result while avoiding overflow issues:"
      ],
      "metadata": {
        "id": "ImnEg-pmB4MA"
      }
    },
    {
      "cell_type": "code",
      "source": [
        "_calc_probs(torch.tensor([-100.0, -3.0, 0.0, 100.0]) - 100.0)"
      ],
      "metadata": {
        "id": "A_wcUBkrCAd7",
        "colab": {
          "base_uri": "https://localhost:8080/"
        },
        "outputId": "9609c143-55fe-46fc-947b-e285b3813b2b"
      },
      "execution_count": 571,
      "outputs": [
        {
          "output_type": "execute_result",
          "data": {
            "text/plain": [
              "{'counts': tensor([0.0000e+00, 1.4013e-45, 3.7835e-44, 1.0000e+00]),\n",
              " 'probs': tensor([0.0000e+00, 1.4013e-45, 3.7835e-44, 1.0000e+00])}"
            ]
          },
          "metadata": {},
          "execution_count": 571
        }
      ]
    },
    {
      "cell_type": "markdown",
      "source": [
        "The `F.cross_entropy()` function in PyTorch enhances numerical stability by combining *log-softmax* and *negative log-likelihood* into one step. It subtracts the maximum logit before softmax to prevent overflow, ensuring stable and accurate results. Since not only more reliable but faster, we'll be using it instead from now on."
      ],
      "metadata": {
        "id": "ETX3YaKsCCOm"
      }
    },
    {
      "cell_type": "markdown",
      "source": [
        "## Train on Partial Dataset 🏋️‍♂️"
      ],
      "metadata": {
        "id": "_rJz6q9nCXV3"
      }
    },
    {
      "cell_type": "markdown",
      "source": [
        "Let's create the model again to train it from scratch:"
      ],
      "metadata": {
        "id": "VgZpB27XCZcW"
      }
    },
    {
      "cell_type": "code",
      "source": [
        "model = build_model()"
      ],
      "metadata": {
        "id": "SHLtZ7NyUxrC"
      },
      "execution_count": 572,
      "outputs": []
    },
    {
      "cell_type": "markdown",
      "source": [
        "Now let's define the training function and run it for a few steps:"
      ],
      "metadata": {
        "id": "jDaqKRPFCw0i"
      }
    },
    {
      "cell_type": "code",
      "source": [
        "def train(dataset, model, n_steps, learning_rate=0.1, verbose=False):\n",
        "  for step in range(n_steps):\n",
        "    loss, logits = forward(dataset, model)\n",
        "    if verbose: print(f\"step: {step}, loss={loss}\")\n",
        "\n",
        "    # Perform backpropagation\n",
        "    for p in model: p.grad = None\n",
        "    loss.backward()\n",
        "\n",
        "    # Perform gradient descent\n",
        "    for p in model: p.data -= learning_rate * p.grad\n",
        "\n",
        "  # Return loss and final logits\n",
        "  return loss, logits\n",
        "\n",
        "loss, _ = train(dataset, model, 10, learning_rate=1, verbose=True)\n",
        "loss"
      ],
      "metadata": {
        "id": "CaOP0l0aUX0d",
        "colab": {
          "base_uri": "https://localhost:8080/"
        },
        "outputId": "bc7f63e6-59a0-4e15-d042-13750606afc3"
      },
      "execution_count": 573,
      "outputs": [
        {
          "output_type": "stream",
          "name": "stdout",
          "text": [
            "step: 0, loss=17.775842666625977\n",
            "step: 1, loss=9.489405632019043\n",
            "step: 2, loss=6.31451940536499\n",
            "step: 3, loss=4.218498229980469\n",
            "step: 4, loss=3.1028294563293457\n",
            "step: 5, loss=1.657302975654602\n",
            "step: 6, loss=1.6401607990264893\n",
            "step: 7, loss=1.6740186214447021\n",
            "step: 8, loss=2.21173095703125\n",
            "step: 9, loss=1.4576846361160278\n"
          ]
        },
        {
          "output_type": "execute_result",
          "data": {
            "text/plain": [
              "tensor(1.4577, grad_fn=<NllLossBackward0>)"
            ]
          },
          "metadata": {},
          "execution_count": 573
        }
      ]
    },
    {
      "cell_type": "markdown",
      "source": [
        "It's converging, but you can start noticing some instability in the last few steps.\n",
        "\n",
        "Let's continue training with a lower learning rate:"
      ],
      "metadata": {
        "id": "xw6X2LFkDR2C"
      }
    },
    {
      "cell_type": "code",
      "source": [
        "loss, logits = train(dataset, model, 20, learning_rate=0.1, verbose=True)\n",
        "loss"
      ],
      "metadata": {
        "id": "t_z-djy9DTLS",
        "colab": {
          "base_uri": "https://localhost:8080/"
        },
        "outputId": "165363bd-d388-4aa6-d9b8-c56af4a4429b"
      },
      "execution_count": 574,
      "outputs": [
        {
          "output_type": "stream",
          "name": "stdout",
          "text": [
            "step: 0, loss=1.0502263307571411\n",
            "step: 1, loss=0.9460259079933167\n",
            "step: 2, loss=0.8787636160850525\n",
            "step: 3, loss=0.822243332862854\n",
            "step: 4, loss=0.7705267667770386\n",
            "step: 5, loss=0.7216517925262451\n",
            "step: 6, loss=0.6745641827583313\n",
            "step: 7, loss=0.6287581324577332\n",
            "step: 8, loss=0.5841146111488342\n",
            "step: 9, loss=0.5408188700675964\n",
            "step: 10, loss=0.49929147958755493\n",
            "step: 11, loss=0.46011513471603394\n",
            "step: 12, loss=0.42397618293762207\n",
            "step: 13, loss=0.39163923263549805\n",
            "step: 14, loss=0.36388885974884033\n",
            "step: 15, loss=0.34136030077934265\n",
            "step: 16, loss=0.3242487907409668\n",
            "step: 17, loss=0.3120889365673065\n",
            "step: 18, loss=0.3038617670536041\n",
            "step: 19, loss=0.29838013648986816\n"
          ]
        },
        {
          "output_type": "execute_result",
          "data": {
            "text/plain": [
              "tensor(0.2984, grad_fn=<NllLossBackward0>)"
            ]
          },
          "metadata": {},
          "execution_count": 574
        }
      ]
    },
    {
      "cell_type": "markdown",
      "source": [
        "It's easy to achieve a low loss because we are training a model with a lot of parameters on just a few examples. For this reason, the model can easily overfit the data. Interestingly, we can't reduce the loss to zero, suggesting that some sequences are not learnable.\n",
        "\n",
        "Let's retrieve the maximum logit activations for each example and compare them with the labels $Y$ to identify which sequences are being misclassified:"
      ],
      "metadata": {
        "id": "hHKObdn4CRvc"
      }
    },
    {
      "cell_type": "code",
      "source": [
        "logits.max(dim=1) # This returns the maximum value for each row (max along the columns dimension)"
      ],
      "metadata": {
        "id": "K4pqLx2ZVNO4",
        "colab": {
          "base_uri": "https://localhost:8080/"
        },
        "outputId": "935c6901-7a45-4fe6-b1fd-d9fe3d9a3585"
      },
      "execution_count": 575,
      "outputs": [
        {
          "output_type": "execute_result",
          "data": {
            "text/plain": [
              "torch.return_types.max(\n",
              "values=tensor([ 9.4951, 13.1345, 15.0723, 16.9269, 25.8626,  9.4951, 13.2594, 26.4025,\n",
              "        16.9143, 18.4625, 14.0319, 19.1883,  9.4951, 15.8460, 16.9449, 22.0483,\n",
              "         9.4951, 12.5316, 14.8274, 16.4057, 16.7011, 18.3765, 16.9052, 15.6323,\n",
              "        24.3389,  9.4951, 12.5404, 11.8761, 15.2975, 17.5801, 15.9891, 22.8013],\n",
              "       grad_fn=<MaxBackward0>),\n",
              "indices=tensor([ 9, 13, 13,  1,  0,  9, 12,  9, 22,  9,  1,  0,  9, 22,  1,  0,  9, 19,\n",
              "         1,  2,  5, 12, 12,  1,  0,  9, 15, 16,  8,  9,  1,  0]))"
            ]
          },
          "metadata": {},
          "execution_count": 575
        }
      ]
    },
    {
      "cell_type": "markdown",
      "source": [
        "Notice that we not only obtained the maximum logit values for each example, but we also retrieved the indices where those values were found. Let's compare those indices with $Y$ side by side:"
      ],
      "metadata": {
        "id": "skflQZqPD2l6"
      }
    },
    {
      "cell_type": "code",
      "source": [
        "logits.max(1).indices, Y, logits.max(1).indices != Y"
      ],
      "metadata": {
        "colab": {
          "base_uri": "https://localhost:8080/"
        },
        "id": "yeRrpdcjCrCO",
        "outputId": "3168118c-5295-4948-c531-0e4193086689"
      },
      "execution_count": 576,
      "outputs": [
        {
          "output_type": "execute_result",
          "data": {
            "text/plain": [
              "(tensor([ 9, 13, 13,  1,  0,  9, 12,  9, 22,  9,  1,  0,  9, 22,  1,  0,  9, 19,\n",
              "          1,  2,  5, 12, 12,  1,  0,  9, 15, 16,  8,  9,  1,  0]),\n",
              " tensor([ 5, 13, 13,  1,  0, 15, 12,  9, 22,  9,  1,  0,  1, 22,  1,  0,  9, 19,\n",
              "          1,  2,  5, 12, 12,  1,  0, 19, 15, 16,  8,  9,  1,  0]),\n",
              " tensor([ True, False, False, False, False,  True, False, False, False, False,\n",
              "         False, False,  True, False, False, False, False, False, False, False,\n",
              "         False, False, False, False, False,  True, False, False, False, False,\n",
              "         False, False]))"
            ]
          },
          "metadata": {},
          "execution_count": 576
        }
      ]
    },
    {
      "cell_type": "markdown",
      "source": [
        "Now that we've identified the failed predictions, let's use some PyTorch advanced indexing to retrieve the mismatched input sequences.\n",
        "\n",
        "We can use a boolean tensor to specify which values we want to retrieve from another tensor:"
      ],
      "metadata": {
        "id": "Z_IIgMLXZWa2"
      }
    },
    {
      "cell_type": "code",
      "source": [
        "torch.tensor([1, 2, 3, 4])[torch.tensor([True, False, True, False])]"
      ],
      "metadata": {
        "colab": {
          "base_uri": "https://localhost:8080/"
        },
        "id": "fFjxiinQZsu4",
        "outputId": "54538bc5-1ec0-43ee-9111-adc762bff71f"
      },
      "execution_count": 577,
      "outputs": [
        {
          "output_type": "execute_result",
          "data": {
            "text/plain": [
              "tensor([1, 3])"
            ]
          },
          "metadata": {},
          "execution_count": 577
        }
      ]
    },
    {
      "cell_type": "markdown",
      "source": [
        "Since our boolean tensor has a `True` for each input sequence where the next character was predicted incorrectly and `False` for correct predictions, we can use this tensor to index into the input tensor `X` and retrieve the corresponding values for all failed predictions:"
      ],
      "metadata": {
        "id": "EkvTBJ_2Z9Gj"
      }
    },
    {
      "cell_type": "code",
      "source": [
        "X[logits.max(1).indices != Y]"
      ],
      "metadata": {
        "colab": {
          "base_uri": "https://localhost:8080/"
        },
        "id": "7y4wiEYGOw3B",
        "outputId": "560445d4-d26c-473e-aec2-7c6469228453"
      },
      "execution_count": 578,
      "outputs": [
        {
          "output_type": "execute_result",
          "data": {
            "text/plain": [
              "tensor([[0, 0, 0],\n",
              "        [0, 0, 0],\n",
              "        [0, 0, 0],\n",
              "        [0, 0, 0]])"
            ]
          },
          "metadata": {},
          "execution_count": 578
        }
      ]
    },
    {
      "cell_type": "markdown",
      "source": [
        "Remember that `0` is the integer that encodes the *EOS character* `.`:"
      ],
      "metadata": {
        "id": "FrZ4rl-raeiJ"
      }
    },
    {
      "cell_type": "code",
      "source": [
        "stoi_map['.']"
      ],
      "metadata": {
        "colab": {
          "base_uri": "https://localhost:8080/"
        },
        "id": "xktHxWoUajRe",
        "outputId": "7809e8ab-93e6-4bfe-e8c0-1b9538d337bf"
      },
      "execution_count": 579,
      "outputs": [
        {
          "output_type": "execute_result",
          "data": {
            "text/plain": [
              "0"
            ]
          },
          "metadata": {},
          "execution_count": 579
        }
      ]
    },
    {
      "cell_type": "markdown",
      "source": [
        "Therefore all of the missed predictions were caused by the character sequence `...`. This makes sense because that sequence can be followed by the first letter of any name in the dataset, making it impossible to predict with $100\\%$ accuracy."
      ],
      "metadata": {
        "id": "vkeHfPnbC57B"
      }
    },
    {
      "cell_type": "markdown",
      "source": [
        "## Train on Full Dataset 🚀"
      ],
      "metadata": {
        "id": "RTM-N3mqEKOH"
      }
    },
    {
      "cell_type": "markdown",
      "source": [
        "Now let's train on the entire dataset:"
      ],
      "metadata": {
        "id": "8v5qmNHTDPvd"
      }
    },
    {
      "cell_type": "code",
      "source": [
        "model = build_model() # Create model from scratch\n",
        "dataset = build_dataset(words) # Create dataset with all examples (not only a subset)\n",
        "X, Y = dataset # Unpack the dataset"
      ],
      "metadata": {
        "id": "x6RFv1jpVkX_"
      },
      "execution_count": 580,
      "outputs": []
    },
    {
      "cell_type": "markdown",
      "source": [
        "We'll train for a few steps:"
      ],
      "metadata": {
        "id": "GArECqF5baIM"
      }
    },
    {
      "cell_type": "code",
      "source": [
        "loss, _ = train(dataset, model, 10, verbose=True)\n",
        "loss"
      ],
      "metadata": {
        "id": "av70Gvf6VzcC",
        "colab": {
          "base_uri": "https://localhost:8080/"
        },
        "outputId": "4ddaab52-414f-473d-f240-c01f123d42b7"
      },
      "execution_count": 581,
      "outputs": [
        {
          "output_type": "stream",
          "name": "stdout",
          "text": [
            "step: 0, loss=16.726470947265625\n",
            "step: 1, loss=14.942935943603516\n",
            "step: 2, loss=13.863014221191406\n",
            "step: 3, loss=13.003832817077637\n",
            "step: 4, loss=12.292207717895508\n",
            "step: 5, loss=11.732643127441406\n",
            "step: 6, loss=11.270576477050781\n",
            "step: 7, loss=10.859724044799805\n",
            "step: 8, loss=10.479724884033203\n",
            "step: 9, loss=10.136445045471191\n"
          ]
        },
        {
          "output_type": "execute_result",
          "data": {
            "text/plain": [
              "tensor(10.1364, grad_fn=<NllLossBackward0>)"
            ]
          },
          "metadata": {},
          "execution_count": 581
        }
      ]
    },
    {
      "cell_type": "markdown",
      "source": [
        "A solution to the problem of increased training time due to larger datasets is to use **Stochastic Gradient Descent (SGD)** instead of vanilla gradient descent. Instead of updating parameters based on the entire dataset, in each iteration, a mini-batch is sampled, and gradients are computed for that subset.\n",
        "\n",
        "This approach offers much better scalability, as training remains feasible as long as the batch size fits in memory, even with very large datasets. Although the gradients calculated from each mini-batch may not be perfect, they are still effective enough to guide the descent. This method has additional benefits, such as helping avoid local minima by introducing variation in the gradient at each step. This variability can also make overfitting less likely since an overfitted model typically is one that converged to a local minimum."
      ],
      "metadata": {
        "id": "47cBH26KDTWT"
      }
    },
    {
      "cell_type": "markdown",
      "source": [
        "To create a mini-batch, we randomly generate a list of indices corresponding to the batch size and retrieve the associated subset of the dataset. First, let's learn how to generate a random tensor with values within a specific range. For example, we can generate a tensor of shape $(10)$ with values in the range $[0,5]$:\n",
        "\n"
      ],
      "metadata": {
        "id": "6z0WP3ikb7uV"
      }
    },
    {
      "cell_type": "code",
      "source": [
        "torch.randint(0, 5, (10,))"
      ],
      "metadata": {
        "id": "av8k0v9hWBSD",
        "colab": {
          "base_uri": "https://localhost:8080/"
        },
        "outputId": "57c8260b-3711-412e-af5b-010be41b7ab6"
      },
      "execution_count": 582,
      "outputs": [
        {
          "output_type": "execute_result",
          "data": {
            "text/plain": [
              "tensor([0, 2, 1, 3, 2, 3, 2, 4, 0, 4])"
            ]
          },
          "metadata": {},
          "execution_count": 582
        }
      ]
    },
    {
      "cell_type": "markdown",
      "source": [
        "Now let's apply the same approach to our dataset. To sample a mini-batch of $32$ examples, we need a tensor of shape $(32)$ with values ranging from zero to the maximum index in the `X` input tensor, which corresponds to the first dimension of its shape:"
      ],
      "metadata": {
        "id": "DGC_GsIRFlIt"
      }
    },
    {
      "cell_type": "code",
      "source": [
        "batch_indexes = torch.randint(0, X.shape[0], (32,))\n",
        "X.shape[0], len(batch_indexes), batch_indexes"
      ],
      "metadata": {
        "id": "BJup5ssHWFSC",
        "colab": {
          "base_uri": "https://localhost:8080/"
        },
        "outputId": "c6dd5e88-c27f-4ff5-e517-7003b19a60ff"
      },
      "execution_count": 583,
      "outputs": [
        {
          "output_type": "execute_result",
          "data": {
            "text/plain": [
              "(228146,\n",
              " 32,\n",
              " tensor([102653,  70454, 161541, 121652, 111574, 125988,  80159,  33049, 212482,\n",
              "          72000,  43887,  36030, 184134, 134115,  77447, 142283, 222782, 213097,\n",
              "         116753,  98019,  31424,  55789, 120850, 186081,  30630, 128744,  38183,\n",
              "         125341,  10651,  39416, 204288,  87622]))"
            ]
          },
          "metadata": {},
          "execution_count": 583
        }
      ]
    },
    {
      "cell_type": "markdown",
      "source": [
        "Now, use those indices to retrieve the sampled mini-batch from the `X` input tensor:"
      ],
      "metadata": {
        "id": "OU9GnLDtFrVC"
      }
    },
    {
      "cell_type": "code",
      "source": [
        "Xbt, Ybt = X[batch_indexes], Y[batch_indexes]\n",
        "Xbt.shape, Ybt.shape"
      ],
      "metadata": {
        "id": "XdpCKxvkFucu",
        "colab": {
          "base_uri": "https://localhost:8080/"
        },
        "outputId": "f10255d2-49bf-46d7-b02e-8e3be462cc62"
      },
      "execution_count": 584,
      "outputs": [
        {
          "output_type": "execute_result",
          "data": {
            "text/plain": [
              "(torch.Size([32, 3]), torch.Size([32]))"
            ]
          },
          "metadata": {},
          "execution_count": 584
        }
      ]
    },
    {
      "cell_type": "markdown",
      "source": [
        "Let's modify the training function to implement *Stochastic Gradient Descent (SGD)* instead:"
      ],
      "metadata": {
        "id": "rY-KQXwMFyF7"
      }
    },
    {
      "cell_type": "code",
      "source": [
        "def train(dataset, model, n_steps, learning_rate=0.1, batch_size=32, verbose=False):\n",
        "  # Unpack the dataset\n",
        "  X, Y = dataset\n",
        "\n",
        "  # Train for N steps\n",
        "  losses = []\n",
        "  for step in range(n_steps):\n",
        "    batch_indexes = torch.randint(0, X.shape[0], (batch_size,))\n",
        "    Xbt, Ybt = X[batch_indexes], Y[batch_indexes]\n",
        "    loss, logits = forward((Xbt, Ybt), model)\n",
        "    if verbose: print(f\"step: {step}, loss={loss}\")\n",
        "\n",
        "    # Perform backpropagation\n",
        "    for p in model: p.grad = None\n",
        "    loss.backward()\n",
        "\n",
        "    # Perform gradient descent\n",
        "    _learning_rate = learning_rate(step) if callable(learning_rate) else learning_rate\n",
        "    for p in model: p.data -= _learning_rate * p.grad\n",
        "\n",
        "    # Track stats\n",
        "    losses.append(loss.item())\n",
        "\n",
        "  return losses, logits\n",
        "\n",
        "model = build_model() # Create model from scratch\n",
        "losses, _ = train(dataset, model, 20_000) # Train for 20k steps on the entire dataset\n",
        "plt.plot(losses), losses[-1] # Plot the losses during training and output the loss at the last step"
      ],
      "metadata": {
        "id": "sYq6NxhKWKrB",
        "colab": {
          "base_uri": "https://localhost:8080/",
          "height": 447
        },
        "outputId": "70d3d012-4c54-402e-c757-de44cc5d05e5"
      },
      "execution_count": 585,
      "outputs": [
        {
          "output_type": "execute_result",
          "data": {
            "text/plain": [
              "([<matplotlib.lines.Line2D at 0x7ae1907599f0>], 2.4568216800689697)"
            ]
          },
          "metadata": {},
          "execution_count": 585
        },
        {
          "output_type": "display_data",
          "data": {
            "text/plain": [
              "<Figure size 640x480 with 1 Axes>"
            ],
            "image/png": "[encoded data removed]"
          },
          "metadata": {}
        }
      ]
    },
    {
      "cell_type": "markdown",
      "source": [
        "Let's evaluate the loss for the entire dataset (the losses we monitored during training were mini-batch losses):"
      ],
      "metadata": {
        "id": "s0ohzA6xtC9S"
      }
    },
    {
      "cell_type": "code",
      "source": [
        "loss, _ = forward(dataset, model)\n",
        "loss"
      ],
      "metadata": {
        "colab": {
          "base_uri": "https://localhost:8080/"
        },
        "id": "jazAsh7qtLQj",
        "outputId": "1ce5fa79-9716-42b1-ed77-129131dfd6f6"
      },
      "execution_count": 586,
      "outputs": [
        {
          "output_type": "execute_result",
          "data": {
            "text/plain": [
              "tensor(2.4451, grad_fn=<NllLossBackward0>)"
            ]
          },
          "metadata": {},
          "execution_count": 586
        }
      ]
    },
    {
      "cell_type": "markdown",
      "source": [
        "We achieved a loss of $2.43$, which is already a great result! As a benchmark, the best loss we obtained for the simple model we trained in the previous notebook, [Character-Level Bigram Language Model](https://github.com/tsilva/aiml-notebooks/blob/main/002-character-level-bigram-language-model.ipynb), was $2.45$. This means we've already surpassed our previous attempt, and there's still room for improvement."
      ],
      "metadata": {
        "id": "8K9vzKJdU4sQ"
      }
    },
    {
      "cell_type": "markdown",
      "source": [
        "## Tune the Learning Rate 🎛️\n",
        "\n",
        "Selecting optimal learning rate is crucial for faster convergence and better results. Since the ideal learning rate can vary depending on the problem, a practical approach is to experiment with different values.\n",
        "\n",
        "Let's generate $1000$ learning rate exponents $e$ within the range $[-3, 0]$, and compute the corresponding learning rates, where the learning rate is given by $10^e$."
      ],
      "metadata": {
        "id": "jZ8GuqPRGXVu"
      }
    },
    {
      "cell_type": "code",
      "source": [
        "learning_rate_exponents = torch.linspace(-3, 0, 1000) # Generate 1000 exponents in range [-3, 0]\n",
        "learning_rates = 10**learning_rate_exponents # Calculate the learning rate for each exponent\n",
        "learning_rate_exponents[:5], learning_rates[:5] # Print a slice of the exponents and corresponding learning rates side by side"
      ],
      "metadata": {
        "id": "9H4b7KQFW3Aa",
        "colab": {
          "base_uri": "https://localhost:8080/"
        },
        "outputId": "f11ceb48-c176-41cc-9533-a54b6b13a36c"
      },
      "execution_count": 587,
      "outputs": [
        {
          "output_type": "execute_result",
          "data": {
            "text/plain": [
              "(tensor([-3.0000, -2.9970, -2.9940, -2.9910, -2.9880]),\n",
              " tensor([0.0010, 0.0010, 0.0010, 0.0010, 0.0010]))"
            ]
          },
          "metadata": {},
          "execution_count": 587
        }
      ]
    },
    {
      "cell_type": "markdown",
      "source": [
        "We'll train a new model for $1000$ steps, selecting one of the calculated learning rates at each step. After training, we'll plot the loss against each corresponding learning rate exponent:"
      ],
      "metadata": {
        "id": "m2JbC3Jb0mc9"
      }
    },
    {
      "cell_type": "code",
      "source": [
        "model = build_model() # Create the model from scratch to start with the untrained parameters\n",
        "losses, _ = train(dataset, model, 1000, learning_rate=lambda step:learning_rates[step]) # Train for 1k steps with a different learning rate at each step\n",
        "plt.plot(learning_rate_exponents, losses) # Plot the loss for each learning rate exponent"
      ],
      "metadata": {
        "colab": {
          "base_uri": "https://localhost:8080/",
          "height": 447
        },
        "id": "SwUTdgtbvi5-",
        "outputId": "257876e0-922e-4fb1-c69a-a03c33aac7a6"
      },
      "execution_count": 588,
      "outputs": [
        {
          "output_type": "execute_result",
          "data": {
            "text/plain": [
              "[<matplotlib.lines.Line2D at 0x7ae19075b6a0>]"
            ]
          },
          "metadata": {},
          "execution_count": 588
        },
        {
          "output_type": "display_data",
          "data": {
            "text/plain": [
              "<Figure size 640x480 with 1 Axes>"
            ],
            "image/png": "[encoded data removed]"
          },
          "metadata": {}
        }
      ]
    },
    {
      "cell_type": "markdown",
      "source": [
        "We observe the loss decreasing as the learning rate exponent increases. This is expected, as a higher exponent improves convergence speed, and each new learning rate is applied at the next step, allowing the model to naturally improve through backpropagation and gradient descent.\n",
        "\n",
        "What we're really interested in is the point just before the loss starts worsening as the exponent increases. According to the graph, the loss begins to worsen around an exponent of $-0.5$, suggesting that the optimal range is between $-1$ and $-0.5$.\n",
        "\n",
        "Thus, $-1$ is a strong candidate for the learning rate exponent, giving us a learning rate of $10^{-1} = 0.1$ (which is actually the default we started with)."
      ],
      "metadata": {
        "id": "ZCT_T3Rg0-Mo"
      }
    },
    {
      "cell_type": "markdown",
      "source": [
        "Let's train for a while using that learning rate and see what loss we get on the entire dataset:"
      ],
      "metadata": {
        "id": "C3vF7ugr1o7C"
      }
    },
    {
      "cell_type": "code",
      "source": [
        "model = build_model() # Create fresh new model\n",
        "train(dataset, model, 20_000, learning_rate=10**-1) # Train for 20k steps with the learning rate we discovered\n",
        "loss = forward(dataset, model)[0] # Calculate the loss for the entire dataset\n",
        "loss"
      ],
      "metadata": {
        "colab": {
          "base_uri": "https://localhost:8080/"
        },
        "id": "l25f8dKVxyM9",
        "outputId": "a91ac11c-39fd-4528-c7d5-511c0cb94de1"
      },
      "execution_count": 589,
      "outputs": [
        {
          "output_type": "execute_result",
          "data": {
            "text/plain": [
              "tensor(2.4110, grad_fn=<NllLossBackward0>)"
            ]
          },
          "metadata": {},
          "execution_count": 589
        }
      ]
    },
    {
      "cell_type": "markdown",
      "source": [
        "We achieved a good loss, but let's make a small adjustment. Near the end of training, gradient descent might oscillate around a minimum if the learning rate is too high. To prevent this, we can decay the learning rate during the final steps.\n",
        "\n",
        "Let's try decaying the learning rate by an order of magnitude in the last $5000$ steps of training and see if we achieve a lower loss:"
      ],
      "metadata": {
        "id": "Y5QgiWDL1rbr"
      }
    },
    {
      "cell_type": "code",
      "source": [
        "model = build_model() # Create fresh new model\n",
        "train(dataset, model, 20_000, learning_rate=lambda step: 10**-1 if step < 15_000 else 10**-2) # Train for 15k steps with lr=0.1 and another 5k with lr=0.01\n",
        "loss = forward(dataset, model)[0] # Calculate the loss for the entire dataset\n",
        "loss"
      ],
      "metadata": {
        "colab": {
          "base_uri": "https://localhost:8080/"
        },
        "id": "YQ7rT5Dt6tOu",
        "outputId": "8ad6a903-313a-4f59-9953-c6cfb4a09d81"
      },
      "execution_count": 590,
      "outputs": [
        {
          "output_type": "execute_result",
          "data": {
            "text/plain": [
              "tensor(2.3592, grad_fn=<NllLossBackward0>)"
            ]
          },
          "metadata": {},
          "execution_count": 590
        }
      ]
    },
    {
      "cell_type": "markdown",
      "source": [
        "We achieved a lower loss this way, but let's not get carried away. As the loss decreases, the model may start overfitting, memorizing patterns rather than capturing their essence. This limits its ability to generate novel names that differ from the dataset."
      ],
      "metadata": {
        "id": "ePpEw9Ex7J41"
      }
    },
    {
      "cell_type": "markdown",
      "source": [
        "## Train on Training Set 🎯\n",
        "\n",
        "To prevent overfitting, we need to split our dataset into three subsets:\n",
        "\n",
        "- **Training set:** Used to calculate the loss, perform *backpropagation*, and adjust model parameters during training.\n",
        "- **Validation set:** Used to calculate the loss without adjusting parameters. If the loss decreases on both the training and validation sets, it indicates that the model is generalizing well, rather than just memorizing the training data. The moment training loss keeps decreasing and validation loss starts increasing, it may mean that the model is starting to overfit the training set.\n",
        "- **Test set:** A small portion of the dataset reserved for final evaluation. It remains untouched during development to provide an unbiased assessment of the model's performance.\n",
        "\n",
        "Let's split our dataset into an $80/10/10$ ratio:"
      ],
      "metadata": {
        "id": "UPOzg38J772o"
      }
    },
    {
      "cell_type": "code",
      "source": [
        "import random\n",
        "\n",
        "def build_split_dataset(words, block_size=BLOCK_SIZE):\n",
        "  # Shuffle the words so that the data splits are random\n",
        "  random.seed(SEED) # Set the RNG seed for reproducibility\n",
        "  words = words.copy() # Copy so we don't modify the original reference when shuffling\n",
        "  random.shuffle(words)\n",
        "\n",
        "  # Split the dataset\n",
        "  n1 = int(0.8*len(words)) # First data split point\n",
        "  n2 = int(0.9*len(words)) # Second data split point\n",
        "  training_set = build_dataset(words[:n1], block_size=block_size) # Create training set from range [0%-80%]\n",
        "  validation_set = build_dataset(words[n1:n2], block_size=block_size) # Create validation set from range [80%-90%]\n",
        "  test_set = build_dataset(words[n2:], block_size=block_size) # Create test set from range [90%-100%]\n",
        "\n",
        "  # Return the splits\n",
        "  return training_set, validation_set, test_set\n",
        "\n",
        "# Train on the training set, then calculate post-training loss using the validation set\n",
        "model = build_model() # Create fresh new model\n",
        "training_set, validation_set, test_set = build_split_dataset(words)\n",
        "train(training_set, model, 20_000, learning_rate=lambda step: 10**-1 if step < 15_000 else 10**-2) # Train on training set for 20k steps\n",
        "val_loss = forward(validation_set, model)[0] # Calculate validation loss\n",
        "val_loss"
      ],
      "metadata": {
        "colab": {
          "base_uri": "https://localhost:8080/"
        },
        "id": "_tl7smPt6Dch",
        "outputId": "0e745238-cb94-469c-84ca-0b8a8f35b86f"
      },
      "execution_count": 591,
      "outputs": [
        {
          "output_type": "execute_result",
          "data": {
            "text/plain": [
              "tensor(2.3532, grad_fn=<NllLossBackward0>)"
            ]
          },
          "metadata": {},
          "execution_count": 591
        }
      ]
    },
    {
      "cell_type": "markdown",
      "source": [
        "We got a good loss on the *validation set*, let's check it on the *test set*:"
      ],
      "metadata": {
        "id": "zXzkNagRCW4T"
      }
    },
    {
      "cell_type": "code",
      "source": [
        "test_loss = forward(test_set, model)[0] # Calculate test loss\n",
        "test_loss"
      ],
      "metadata": {
        "colab": {
          "base_uri": "https://localhost:8080/"
        },
        "id": "F-ZErhceCvXc",
        "outputId": "ea7d6e7e-132b-4073-8566-5602086bb5f0"
      },
      "execution_count": 592,
      "outputs": [
        {
          "output_type": "execute_result",
          "data": {
            "text/plain": [
              "tensor(2.3515, grad_fn=<NllLossBackward0>)"
            ]
          },
          "metadata": {},
          "execution_count": 592
        }
      ]
    },
    {
      "cell_type": "markdown",
      "source": [
        "We got a test set loss of $2.36$, while in the previous notebook the best loss we achieved with access to the full dataset was $2.45$. This suggests that the current model is performing better, as the test loss was calculated on randomly sampled data that remained untouched until the final evaluation. This indicates that the model has likely learned patterns general to the domain represented by the dataset, rather than overfitting to the specific data in the training set.\n"
      ],
      "metadata": {
        "id": "2ACTCd3yC96N"
      }
    },
    {
      "cell_type": "markdown",
      "source": [
        "## Sample some Names ✍️\n",
        "\n",
        "With our model trained, we can now generate names by predicting one character at a time. Starting with an empty context, the model predicts each next character until it reaches the *end-of-sequence character (EOS)*, forming a complete name. The model has learned patterns from real names, allowing it to create new, plausible names based on its character-level predictions.\n",
        "\n",
        "Let's check it out:"
      ],
      "metadata": {
        "id": "C0kPgAPtbf2a"
      }
    },
    {
      "cell_type": "code",
      "source": [
        "def sample_words(model, num_words, block_size=BLOCK_SIZE, seed=SEED):\n",
        "  C, W1, b1, W2, b2 = model # Unpack the model parameters\n",
        "  generator = torch.Generator().manual_seed(seed) # Use generator for reproducibility\n",
        "\n",
        "  # Sample N words\n",
        "  words = []\n",
        "  for _ in range(num_words):\n",
        "    char_indexes = []\n",
        "    context = [0] * block_size\n",
        "    while True:\n",
        "      emb = C[torch.tensor([context])] # Lookup embedding for character sequence\n",
        "      emb_reshaped = emb.view(1, -1) # Embedding has shape (1, block_size, embedding_size), we need to reshape to (1, block_size * embedding_size)\n",
        "      h = torch.tanh(emb_reshaped @ W1 + b1) # Forward pass through first layer\n",
        "      logits = h @ W2 + b2 # Forward pass through output layer to get the logits\n",
        "      probs = F.softmax(logits, dim=1) # Normalize the logits into a probability distribution\n",
        "      char_i = torch.multinomial(probs, num_samples=1, generator=generator).item() # Sample the next character using the probability distribution inferred from the last character sequence\n",
        "      context = context[1:] + [char_i] # Pop out oldest character and add sampled character to previous character sequence (FIFO queue)\n",
        "      char_indexes.append(char_i) # Add to list of sampled characters\n",
        "      if char_i == EOS_CHAR_INDEX: break # If EOS character was sampled, word is finished so break loop\n",
        "    word = \"\".join([itos_map[i] for i in char_indexes]) # Convert sampled character indexes back to characters and join to create word\n",
        "    words.append(word) # Add word to list of sampled words\n",
        "\n",
        "  # Return sampled words\n",
        "  return words\n",
        "\n",
        "sample_words(model, 20)"
      ],
      "metadata": {
        "id": "g6_Aykq6o7Gl",
        "colab": {
          "base_uri": "https://localhost:8080/"
        },
        "outputId": "836e331a-9749-49c0-f396-0fcd1862a14e"
      },
      "execution_count": 593,
      "outputs": [
        {
          "output_type": "execute_result",
          "data": {
            "text/plain": [
              "['yeesyahne.',\n",
              " 'ame.',\n",
              " 'dleekhim.',\n",
              " 'mannya.',\n",
              " 'tryahdanten.',\n",
              " 'ena.',\n",
              " 'dayamiiah.',\n",
              " 'abkeles.',\n",
              " 'lon.',\n",
              " 'toy.',\n",
              " 'alitki.',\n",
              " 'pupolannezane.',\n",
              " 'savalad.',\n",
              " 'waina.',\n",
              " 'lun.',\n",
              " 'kayahn.',\n",
              " 'zeriagrten.',\n",
              " 'kirahmole.',\n",
              " 'eidinny.',\n",
              " 'rin.']"
            ]
          },
          "metadata": {},
          "execution_count": 593
        }
      ]
    },
    {
      "cell_type": "markdown",
      "source": [
        "Not too bad, but the generated names still don't sound quite right. You could try training the model for longer to improve the test loss, but it's likely that using only the previous $3$ characters won't be enough to predict the next one. It could also be that the embeddings need more dimensions to represent the characters more accurately. Perhaps both adjustments are necessary. Let's leave it as is for now, and we'll explore increasing the block size in the next notebook, along with other optimizations. By then, we'll have a fully cleaned-up and softcoded codebase to start with."
      ],
      "metadata": {
        "id": "L0tR06lebwPX"
      }
    },
    {
      "cell_type": "markdown",
      "source": [
        "## Explore the Learned Embeddings 🔬\n",
        "\n",
        "Since the character embeddings are two-dimensional, we can easily visualize them.\n",
        "\n",
        "Let's plot them and see if we can spot some patterns:"
      ],
      "metadata": {
        "id": "nnwBj2oUesn3"
      }
    },
    {
      "cell_type": "code",
      "source": [
        "def plot_embeddings(model):\n",
        "    # Unpack the model parameters (we only need the embedding matrix 'C' for plotting)\n",
        "    C = model[0]\n",
        "\n",
        "    # Set the size of the plot (8x8 inches), to make sure the points and labels are clear\n",
        "    plt.figure(figsize=(8, 8))\n",
        "\n",
        "    # Plot a scatter plot of the embeddings (C[:, 0] and C[:, 1] represent the x and y coordinates)\n",
        "    # 's=200' makes each point larger, so they are easier to see\n",
        "    plt.scatter(C[:, 0].data, C[:, 1].data, s=200)\n",
        "\n",
        "    # Loop over each embedding to plot the character it represents\n",
        "    for i in range(C.shape[0]):\n",
        "        # Add the text label (character) at the corresponding (x, y) coordinates\n",
        "        # 'ha=\"center\"' and 'va=\"center\"' center the label at each point\n",
        "        # 'color=\"white\"' ensures the text is visible on dark scatter points\n",
        "        plt.text(C[i, 0].item(), C[i, 1].item(), itos_map[i], ha=\"center\", va=\"center\", color=\"white\")\n",
        "\n",
        "    # Add a grid with minor lines for better visualization\n",
        "    plt.grid(\"minor\")\n",
        "\n",
        "plot_embeddings(model)"
      ],
      "metadata": {
        "id": "PYxzM_VbmRG5",
        "colab": {
          "base_uri": "https://localhost:8080/",
          "height": 677
        },
        "outputId": "1548c407-a9e0-4b51-ebec-7415904c543c"
      },
      "execution_count": 594,
      "outputs": [
        {
          "output_type": "display_data",
          "data": {
            "text/plain": [
              "<Figure size 800x800 with 1 Axes>"
            ],
            "image/png": "[encoded data removed]"
          },
          "metadata": {}
        }
      ]
    },
    {
      "cell_type": "markdown",
      "source": [
        "The positioning of the character embeddings shows that the model has learned certain patterns by placing characters with similar properties closer together. Some patterns that stand out:\n",
        "\n",
        "- Vowels (`a`, `e`, `i`, `o`, `u`) are clustered together, suggesting the model has recognized that vowels behave differently from consonants. For example, consonant pairs (like `br` in \"Brian\") are more common than vowel pairs (like `ea` in \"Leah\") in American names.\n",
        "- The `.` character is isolated, likely because it only appears at the start or end of a name.\n",
        "- `y` is close to `i` because they are pronounced similarly and can sometimes be interchangeable.\n",
        "\n",
        "There may be more patterns in the plot—can you spot any?"
      ],
      "metadata": {
        "id": "YmOFHtFae5lH"
      }
    },
    {
      "cell_type": "markdown",
      "source": [
        "## THE END\n",
        "\n",
        "For more **AI/ML** notebooks, check my repo: 🔗 https://github.com/tsilva/aiml-notebooks"
      ],
      "metadata": {
        "id": "VqMdnJZAxZ5R"
      }
    }
  ]
}