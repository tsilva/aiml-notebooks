{
  "nbformat": 4,
  "nbformat_minor": 0,
  "metadata": {
    "colab": {
      "provenance": [],
      "authorship_tag": "ABX9TyMzEmYU9oaGFcKiN7CLcap2",
      "include_colab_link": true
    },
    "kernelspec": {
      "name": "python3",
      "display_name": "Python 3"
    },
    "language_info": {
      "name": "python"
    }
  },
  "cells": [
    {
      "cell_type": "markdown",
      "metadata": {
        "id": "view-in-github",
        "colab_type": "text"
      },
      "source": [
        "<a href=\"https://colab.research.google.com/github/tsilva/aiml-notebooks/blob/main/Linear_Classifier_Logistic_Regression.ipynb\" target=\"_parent\"><img src=\"https://colab.research.google.com/assets/colab-badge.svg\" alt=\"Open In Colab\"/></a>"
      ]
    },
    {
      "cell_type": "markdown",
      "source": [
        "# Linear Classifier - Logistic Regression Model\n",
        "\n",
        "In this notebook we will create a linear classifier for binary classification, meaning, we will classify data into one of two categories. Our data will be a dataset of 2D points, clustered in two regions, so that we know that it's possible to draw a line that separates said region, meaning that they are classifiable by a linear model.\n",
        "\n",
        "The model we are going to build is a logistic regression model, meaning that given the inputs (the 2D points), by applying linear operations on it (eg: sums, multiplications), and then applying the sigmoid function (aka logistic function) on the result, it outputs a value between `0.0` and `1.0`. This value will represent the probability that a point belongs to the second cluster."
      ],
      "metadata": {
        "id": "vY_GcR5umqtg"
      }
    },
    {
      "cell_type": "markdown",
      "source": [
        "## Setup\n",
        "\n",
        "First, let's install the required extensions:"
      ],
      "metadata": {
        "id": "5sZr3x8NbhHF"
      }
    },
    {
      "cell_type": "code",
      "execution_count": 37,
      "metadata": {
        "colab": {
          "base_uri": "https://localhost:8080/"
        },
        "id": "3FylP-N2mS5x",
        "outputId": "7e13ad9a-a728-436c-e399-86d80edfbf92"
      },
      "outputs": [
        {
          "output_type": "stream",
          "name": "stdout",
          "text": [
            "Requirement already satisfied: torch in /usr/local/lib/python3.10/dist-packages (2.3.1+cu121)\n",
            "Requirement already satisfied: filelock in /usr/local/lib/python3.10/dist-packages (from torch) (3.15.4)\n",
            "Requirement already satisfied: typing-extensions>=4.8.0 in /usr/local/lib/python3.10/dist-packages (from torch) (4.12.2)\n",
            "Requirement already satisfied: sympy in /usr/local/lib/python3.10/dist-packages (from torch) (1.13.1)\n",
            "Requirement already satisfied: networkx in /usr/local/lib/python3.10/dist-packages (from torch) (3.3)\n",
            "Requirement already satisfied: jinja2 in /usr/local/lib/python3.10/dist-packages (from torch) (3.1.4)\n",
            "Requirement already satisfied: fsspec in /usr/local/lib/python3.10/dist-packages (from torch) (2024.6.1)\n",
            "Requirement already satisfied: nvidia-cuda-nvrtc-cu12==12.1.105 in /usr/local/lib/python3.10/dist-packages (from torch) (12.1.105)\n",
            "Requirement already satisfied: nvidia-cuda-runtime-cu12==12.1.105 in /usr/local/lib/python3.10/dist-packages (from torch) (12.1.105)\n",
            "Requirement already satisfied: nvidia-cuda-cupti-cu12==12.1.105 in /usr/local/lib/python3.10/dist-packages (from torch) (12.1.105)\n",
            "Requirement already satisfied: nvidia-cudnn-cu12==8.9.2.26 in /usr/local/lib/python3.10/dist-packages (from torch) (8.9.2.26)\n",
            "Requirement already satisfied: nvidia-cublas-cu12==12.1.3.1 in /usr/local/lib/python3.10/dist-packages (from torch) (12.1.3.1)\n",
            "Requirement already satisfied: nvidia-cufft-cu12==11.0.2.54 in /usr/local/lib/python3.10/dist-packages (from torch) (11.0.2.54)\n",
            "Requirement already satisfied: nvidia-curand-cu12==10.3.2.106 in /usr/local/lib/python3.10/dist-packages (from torch) (10.3.2.106)\n",
            "Requirement already satisfied: nvidia-cusolver-cu12==11.4.5.107 in /usr/local/lib/python3.10/dist-packages (from torch) (11.4.5.107)\n",
            "Requirement already satisfied: nvidia-cusparse-cu12==12.1.0.106 in /usr/local/lib/python3.10/dist-packages (from torch) (12.1.0.106)\n",
            "Requirement already satisfied: nvidia-nccl-cu12==2.20.5 in /usr/local/lib/python3.10/dist-packages (from torch) (2.20.5)\n",
            "Requirement already satisfied: nvidia-nvtx-cu12==12.1.105 in /usr/local/lib/python3.10/dist-packages (from torch) (12.1.105)\n",
            "Requirement already satisfied: triton==2.3.1 in /usr/local/lib/python3.10/dist-packages (from torch) (2.3.1)\n",
            "Requirement already satisfied: nvidia-nvjitlink-cu12 in /usr/local/lib/python3.10/dist-packages (from nvidia-cusolver-cu12==11.4.5.107->torch) (12.6.20)\n",
            "Requirement already satisfied: MarkupSafe>=2.0 in /usr/local/lib/python3.10/dist-packages (from jinja2->torch) (2.1.5)\n",
            "Requirement already satisfied: mpmath<1.4,>=1.1.0 in /usr/local/lib/python3.10/dist-packages (from sympy->torch) (1.3.0)\n"
          ]
        }
      ],
      "source": [
        "!pip install torch"
      ]
    },
    {
      "cell_type": "markdown",
      "source": [
        "Now let's set a seed for the random number generator so that we get the same results every time we run this notebook. You should get the same output every time you run this cell:"
      ],
      "metadata": {
        "id": "qw4H61e6oid4"
      }
    },
    {
      "cell_type": "code",
      "source": [
        "import torch\n",
        "\n",
        "torch.random.manual_seed(0)\n",
        "torch.randn(1)"
      ],
      "metadata": {
        "colab": {
          "base_uri": "https://localhost:8080/"
        },
        "id": "uviZzAXjogza",
        "outputId": "2ae1716c-8265-40c3-fdef-6e77b1368693"
      },
      "execution_count": 38,
      "outputs": [
        {
          "output_type": "execute_result",
          "data": {
            "text/plain": [
              "tensor([1.5410])"
            ]
          },
          "metadata": {},
          "execution_count": 38
        }
      ]
    },
    {
      "cell_type": "markdown",
      "source": [
        "## Generate the Data\n",
        "\n",
        "Now let's generate two clusters of points that can be separated by a line.\n",
        "Let's generate our first cluster `x0`:"
      ],
      "metadata": {
        "id": "3szWI6zK00QV"
      }
    },
    {
      "cell_type": "code",
      "source": [
        "n_points = 20\n",
        "x0 = torch.randn(n_points, 2)\n",
        "x0.shape, x0"
      ],
      "metadata": {
        "colab": {
          "base_uri": "https://localhost:8080/"
        },
        "id": "Hdd3HhrEyi-Q",
        "outputId": "14fa8a62-4373-4796-de3b-bc79dd32e081"
      },
      "execution_count": 39,
      "outputs": [
        {
          "output_type": "execute_result",
          "data": {
            "text/plain": [
              "(torch.Size([20, 2]),\n",
              " tensor([[ 0.8487,  0.6920],\n",
              "         [-0.3160, -2.1152],\n",
              "         [-0.3561,  0.4372],\n",
              "         [ 0.4913, -0.2041],\n",
              "         [ 0.1198,  1.2377],\n",
              "         [ 1.1168, -0.2473],\n",
              "         [-1.0438, -1.3453],\n",
              "         [ 0.7854,  0.9928],\n",
              "         [ 0.5988, -1.5551],\n",
              "         [-0.3414,  1.8530],\n",
              "         [ 0.4681, -0.1577],\n",
              "         [ 1.4437,  0.2660],\n",
              "         [-0.1740, -0.6787],\n",
              "         [ 0.9383,  0.4889],\n",
              "         [-0.6731,  0.8728],\n",
              "         [ 1.0554,  0.1778],\n",
              "         [-0.5181, -0.3067],\n",
              "         [-1.5810,  1.7066],\n",
              "         [-0.4462,  0.7440],\n",
              "         [ 1.5210,  3.4105]]))"
            ]
          },
          "metadata": {},
          "execution_count": 39
        }
      ]
    },
    {
      "cell_type": "markdown",
      "source": [
        "NOTE: In this notebook we'll use tensors instead of numpy arrays wherever possible. Tensors provide mostly the same functionaly was numpy arrays, but also allow to track gradients (how much each variable in a calculation contributed to the result), we'll need that later on."
      ],
      "metadata": {
        "id": "XvvkDyFbbpQb"
      }
    },
    {
      "cell_type": "markdown",
      "source": [
        "Let's visualize cluster `x0`:"
      ],
      "metadata": {
        "id": "EurhNF1f1c_9"
      }
    },
    {
      "cell_type": "code",
      "source": [
        "from matplotlib import pyplot as plt\n",
        "\n",
        "x_values = x0[:, 0]\n",
        "y_values = x0[:, 1]\n",
        "plt.scatter(x_values, y_values, color='blue', label='Class 0')"
      ],
      "metadata": {
        "colab": {
          "base_uri": "https://localhost:8080/",
          "height": 447
        },
        "id": "f1yoo89M1bWb",
        "outputId": "2963243d-be25-4db4-a106-e281677c2794"
      },
      "execution_count": 40,
      "outputs": [
        {
          "output_type": "execute_result",
          "data": {
            "text/plain": [
              "<matplotlib.collections.PathCollection at 0x7f9f304f1600>"
            ]
          },
          "metadata": {},
          "execution_count": 40
        },
        {
          "output_type": "display_data",
          "data": {
            "text/plain": [
              "<Figure size 640x480 with 1 Axes>"
            ],
            "image/png": "[encoded data removed]"
          },
          "metadata": {}
        }
      ]
    },
    {
      "cell_type": "markdown",
      "source": [
        "Now let's generate our second cluster `x1`:"
      ],
      "metadata": {
        "id": "JjFuioj21lX-"
      }
    },
    {
      "cell_type": "code",
      "source": [
        "x1 = torch.randn(n_points, 2)\n",
        "x_values = x1[:, 0]\n",
        "y_values = x1[:, 1]\n",
        "plt.scatter(x_values, y_values, color='red', label='Class 1')"
      ],
      "metadata": {
        "colab": {
          "base_uri": "https://localhost:8080/",
          "height": 447
        },
        "id": "bGUXEmlN1sSa",
        "outputId": "698fa36e-2ad3-4834-85ed-ddc0454cf652"
      },
      "execution_count": 41,
      "outputs": [
        {
          "output_type": "execute_result",
          "data": {
            "text/plain": [
              "<matplotlib.collections.PathCollection at 0x7f9f30fb1450>"
            ]
          },
          "metadata": {},
          "execution_count": 41
        },
        {
          "output_type": "display_data",
          "data": {
            "text/plain": [
              "<Figure size 640x480 with 1 Axes>"
            ],
            "image/png": "[encoded data removed]"
          },
          "metadata": {}
        }
      ]
    },
    {
      "cell_type": "markdown",
      "source": [
        "And now plot both clusters together:"
      ],
      "metadata": {
        "id": "NQ4gZNBavqbF"
      }
    },
    {
      "cell_type": "code",
      "source": [
        "plt.scatter(x0[:, 0], x0[:, 1], color='blue', label='Class 0')\n",
        "plt.scatter(x1[:, 0], x1[:, 1], color='red', label='Class 1')"
      ],
      "metadata": {
        "colab": {
          "base_uri": "https://localhost:8080/",
          "height": 447
        },
        "id": "GbVwGMp7Vaxe",
        "outputId": "95ae5539-a6cb-4a9f-cedf-4d7e0b5cd93d"
      },
      "execution_count": 42,
      "outputs": [
        {
          "output_type": "execute_result",
          "data": {
            "text/plain": [
              "<matplotlib.collections.PathCollection at 0x7f9f31016fb0>"
            ]
          },
          "metadata": {},
          "execution_count": 42
        },
        {
          "output_type": "display_data",
          "data": {
            "text/plain": [
              "<Figure size 640x480 with 1 Axes>"
            ],
            "image/png": "[encoded data removed]"
          },
          "metadata": {}
        }
      ]
    },
    {
      "cell_type": "markdown",
      "source": [
        "These are not linearly separable, let's spread them apart a bit more:"
      ],
      "metadata": {
        "id": "zMoVqQM1Vkcy"
      }
    },
    {
      "cell_type": "code",
      "source": [
        "x0 += 2 # Move the first cluster up and to the right\n",
        "x1 -= 2 # Move the second cluster down and to the left\n",
        "x0[:2] -= 4 # Actually let's move some points into the first cluster's boundary to make classification trickier\n",
        "plt.scatter(x0[:, 0], x0[:, 1], color='blue', label='Class 0')\n",
        "plt.scatter(x1[:, 0], x1[:, 1], color='red', label='Class 1')"
      ],
      "metadata": {
        "colab": {
          "base_uri": "https://localhost:8080/",
          "height": 447
        },
        "id": "uqwnwRDgVsWu",
        "outputId": "1884d3ba-11ba-46e8-ca99-2f5532c680ab"
      },
      "execution_count": 43,
      "outputs": [
        {
          "output_type": "execute_result",
          "data": {
            "text/plain": [
              "<matplotlib.collections.PathCollection at 0x7f9f30372050>"
            ]
          },
          "metadata": {},
          "execution_count": 43
        },
        {
          "output_type": "display_data",
          "data": {
            "text/plain": [
              "<Figure size 640x480 with 1 Axes>"
            ],
            "image/png": "[encoded data removed]"
          },
          "metadata": {}
        }
      ]
    },
    {
      "cell_type": "markdown",
      "source": [
        "## Build the Model\n",
        "\n",
        "To classify our clusters we are going to build a logistic regression model. A logistic regression model is a model that given a set of inputs, applies linear transformations to it (eg: sums and multiplications) followed by a sigmoid function, which squashes the value to a range from `0` to `1`. We want to classify our inputs as belonging to one of two classes, so we can say that outputs close to `0` mean the point belongs to cluster `x0`, and `1` means it belongs to the cluster `x1`.\n",
        "\n",
        "Let's build our model:"
      ],
      "metadata": {
        "id": "sJvBzUqZXF5o"
      }
    },
    {
      "cell_type": "code",
      "source": [
        "def model_fn(x, params):\n",
        "    a, b = params\n",
        "    return torch.sigmoid(x @ a + b)\n",
        "\n",
        "model_params = (\n",
        "    torch.randn(2, 1, dtype=torch.float32), # A single point is a tensor of shape (1, 2), multiplied with these weights of (2, 1), results in shape (1,), our next param\n",
        "    torch.randn(1, dtype=torch.float32) # Shape (1, )\n",
        ")\n",
        "model_params, model_fn(torch.tensor([0, 0]).float(), model_params)"
      ],
      "metadata": {
        "colab": {
          "base_uri": "https://localhost:8080/"
        },
        "id": "HxxBHW8mL4n6",
        "outputId": "7343942d-8a96-4ac7-ace9-c036ed711031"
      },
      "execution_count": 44,
      "outputs": [
        {
          "output_type": "execute_result",
          "data": {
            "text/plain": [
              "((tensor([[-0.2934],\n",
              "          [ 1.3232]]),\n",
              "  tensor([0.0371])),\n",
              " tensor([0.5093]))"
            ]
          },
          "metadata": {},
          "execution_count": 44
        }
      ]
    },
    {
      "cell_type": "markdown",
      "source": [
        "NOTE: If you're familiar with Neural Networks, you may notice that the linear regression model is pretty much like a single neuron with a sigmoid activation function, if you think of `a` as the weights, then `torch.sigmoid(x @ a + b)` follows the neuron M.O. of \"pick the input, multiply the weights, add a bias, activate\"."
      ],
      "metadata": {
        "id": "nzcxuWxM0TRI"
      }
    },
    {
      "cell_type": "markdown",
      "source": [
        "## Plot the Decision Boundary\n",
        "\n",
        "We'd like to see how our model separates the two clusters by drawing its separating line on the same plane. However, the model outputs values between `0` and `1` (probabilities), so we can't just plot it.\n",
        "\n",
        "What we want is to determine when our model outputs `0.5`, which is the threshold at which the classification changes. Solving for `0.5` will allow us to determine the `Y` value for any `X` value along that threshold, allowing us to plot the threshold line itself (the decision boundary).\n",
        "\n",
        "Let's solve step by step:\n",
        "\n",
        "1. **Logistic Regression Model Function:**\n",
        "   The model function for logistic regression is defined using the sigmoid function:\n",
        "   $$\n",
        "   \\text{sigmoid}(z) = \\frac{1}{1 + \\exp(-z)}\n",
        "   $$\n",
        "   where $z = x \\cdot a + b$.\n",
        "\n",
        "2. **Set the Model Output to 0.5:**\n",
        "   The decision boundary is the point where the model's output is 0.5. This is the threshold at which the classification changes from one class to another. So we set the sigmoid function equal to 0.5:\n",
        "   $$\n",
        "   0.5 = \\frac{1}{1 + \\exp(-z)}\n",
        "   $$\n",
        "\n",
        "3. **Solve for $z$:**\n",
        "   To find the value of $z$ that makes the sigmoid function equal to 0.5, we solve the equation:\n",
        "   $$\n",
        "   0.5 = \\frac{1}{1 + \\exp(-z)}\n",
        "   $$\n",
        "   Multiply both sides by $(1 + \\exp(-z))$:\n",
        "   $$\n",
        "   0.5 \\cdot (1 + \\exp(-z)) = 1\n",
        "   $$\n",
        "   Simplify the left side:\n",
        "   $$\n",
        "   0.5 + 0.5 \\cdot \\exp(-z) = 1\n",
        "   $$\n",
        "   Subtract 0.5 from both sides:\n",
        "   $$\n",
        "   0.5 \\cdot \\exp(-z) = 0.5\n",
        "   $$\n",
        "   Divide both sides by 0.5:\n",
        "   $$\n",
        "   \\exp(-z) = 1\n",
        "   $$\n",
        "   Take the natural logarithm of both sides:\n",
        "   $$\n",
        "   -z = \\ln(1)\n",
        "   $$\n",
        "   Simplify, noting that $\\ln(1) = 0$:\n",
        "   $$\n",
        "   -z = 0\n",
        "   $$\n",
        "   Therefore:\n",
        "   $$\n",
        "   z = 0\n",
        "   $$\n",
        "\n",
        "4. **Express $z$ in Terms of the Model Parameters:**\n",
        "   Recall that $z = x \\cdot a + b$. At the decision boundary, we have:\n",
        "   $$\n",
        "   x \\cdot a + b = 0\n",
        "   $$\n",
        "\n",
        "5. **Solve for $x$:**\n",
        "   We need to find the x-values that satisfy this equation. If we have two features (for simplicity, let's assume $a$ is a vector with two elements $a_0$ and $a_1$), the equation becomes:\n",
        "   $$\n",
        "   x_0 \\cdot a_0 + x_1 \\cdot a_1 + b = 0\n",
        "   $$\n",
        "   Solving for $x_1$ in terms of $x_0$:\n",
        "   $$\n",
        "   x_1 = -\\frac{x_0 \\cdot a_0 + b}{a_1}\n",
        "   $$\n",
        "   This is the equation of the decision boundary line.\n",
        "\n",
        "Remembering that `x0` and `x1` are our inputs, and since our input is a coordinate pair, `x0` is the `X` coordinate and `x1` is the `Y` coordinate, so given any `X` value, we'll be able to calculate the corresponding `Y` value for the decision boundary line.\n",
        "\n",
        "Let's create a function that plots our data and the decision boundary line in the same graph:"
      ],
      "metadata": {
        "id": "Bee2o-KE293w"
      }
    },
    {
      "cell_type": "code",
      "source": [
        "def plot_data(x0, x1, padding = 1):\n",
        "  # Set the zero crossing of x and y axis\n",
        "  fig, ax = plt.subplots()\n",
        "  ax.spines['left'].set_position('zero')\n",
        "  ax.spines['bottom'].set_position('zero')\n",
        "\n",
        "  # Calculate the decision boundary line using equation derived above:\n",
        "  # - First we generate a sequence of x values in the range where we want to plot the line\n",
        "  # - Then we calculate the y values for each of those x values using the equation derived above\n",
        "  x_min = min(x0[:, 0].min(), x1[:, 0].min())\n",
        "  x_max = max(x0[:, 0].max(), x1[:, 0].max())\n",
        "  x_values = torch.linspace(x_min, x_max, 200)\n",
        "  a, b = model_params\n",
        "  with torch.no_grad(): y_values = -(x_values * a[0] + b) / a[1]\n",
        "\n",
        "  # Plot the decision boundary line\n",
        "  plt.plot(x_values.numpy(), y_values.numpy(), label='Decision Boundary', color='black', linewidth=2)\n",
        "  plt.scatter(x0[:, 0], x0[:, 1], color='blue', label='Cluster 0')\n",
        "  plt.scatter(x1[:, 0], x1[:, 1], color='red', label='Cluster 1')\n",
        "\n",
        "  # Define the size of the plot\n",
        "  y_min = min(x0[:, 1].min(), x1[:, 1].min())\n",
        "  y_max = max(x0[:, 1].max(), x1[:, 1].max())\n",
        "  plt.xlim(x_min - padding, x_max + padding)\n",
        "  plt.ylim(y_min - padding, y_max + padding)\n",
        "\n",
        "  # Output the legend\n",
        "  plt.legend()\n",
        "\n",
        "plot_data(x0, x1)"
      ],
      "metadata": {
        "colab": {
          "base_uri": "https://localhost:8080/",
          "height": 406
        },
        "id": "eg-_-1CBLtn4",
        "outputId": "081b1410-5667-4f43-a68d-b284e4d8c318"
      },
      "execution_count": 45,
      "outputs": [
        {
          "output_type": "display_data",
          "data": {
            "text/plain": [
              "<Figure size 640x480 with 1 Axes>"
            ],
            "image/png": "[encoded data removed]"
          },
          "metadata": {}
        }
      ]
    },
    {
      "cell_type": "markdown",
      "source": [
        "Notice how the line is not separating the clusters as well as it should. It is excluding three points from `Cluster 0`, when it could be just excluding two. We'll need to tune our model's parameters until we get a better split. But before that we need to find a metric that quantifies how good our model is. Then we'll try to improve that metric as much as we can. Once that happens we'll be able to see that our decision boundary has improved."
      ],
      "metadata": {
        "id": "XU05P-70aGi8"
      }
    },
    {
      "cell_type": "markdown",
      "source": [
        "## Create the dataset\n",
        "\n",
        "To evaluate our model we first need to create a single dataset with the inputs that are going to be fed to it, and the expected outputs for each of those inputs.\n",
        "\n",
        "The function we aim to model assigns a cluster identifier (either `0` or `1`) to each coordinate pair in a dataset. This means that all coordinate pairs are our feature set `X`, and the corresponding cluster identifiers are our target set `Y`.\n",
        "\n",
        "To create the dataset, we need two tensors:\n",
        "\n",
        "- A tensor for `X`, which contains all the coordinate pairs.\n",
        "- A tensor for `Y`, which contains the cluster identifiers for each coordinate pair.\n",
        "\n",
        "The objective is to adjust the model parameters such that for any given value of `X`, the model can predict `Y` as accurately as possible, reflecting the patterns in the original data.\n",
        "\n",
        "Let's create the `Y` values for each cluster:"
      ],
      "metadata": {
        "id": "7MXvwp-31zoO"
      }
    },
    {
      "cell_type": "code",
      "source": [
        "y0 = torch.zeros(n_points, 1) # First cluster points are assigned label zero\n",
        "y1 = torch.ones(n_points, 1) # Second cluster points are assigned label one\n",
        "y0, y1"
      ],
      "metadata": {
        "colab": {
          "base_uri": "https://localhost:8080/"
        },
        "id": "9VUg7d_7WV32",
        "outputId": "a5d32ea0-da0f-416c-cb89-04dba13df5f2"
      },
      "execution_count": 46,
      "outputs": [
        {
          "output_type": "execute_result",
          "data": {
            "text/plain": [
              "(tensor([[0.],\n",
              "         [0.],\n",
              "         [0.],\n",
              "         [0.],\n",
              "         [0.],\n",
              "         [0.],\n",
              "         [0.],\n",
              "         [0.],\n",
              "         [0.],\n",
              "         [0.],\n",
              "         [0.],\n",
              "         [0.],\n",
              "         [0.],\n",
              "         [0.],\n",
              "         [0.],\n",
              "         [0.],\n",
              "         [0.],\n",
              "         [0.],\n",
              "         [0.],\n",
              "         [0.]]),\n",
              " tensor([[1.],\n",
              "         [1.],\n",
              "         [1.],\n",
              "         [1.],\n",
              "         [1.],\n",
              "         [1.],\n",
              "         [1.],\n",
              "         [1.],\n",
              "         [1.],\n",
              "         [1.],\n",
              "         [1.],\n",
              "         [1.],\n",
              "         [1.],\n",
              "         [1.],\n",
              "         [1.],\n",
              "         [1.],\n",
              "         [1.],\n",
              "         [1.],\n",
              "         [1.],\n",
              "         [1.]]))"
            ]
          },
          "metadata": {},
          "execution_count": 46
        }
      ]
    },
    {
      "cell_type": "markdown",
      "source": [
        "Let's now create a single `X` tensor by merging `x0` and `x1`. Let's first inspect them:"
      ],
      "metadata": {
        "id": "JTnzJk5EWw5k"
      }
    },
    {
      "cell_type": "code",
      "source": [
        "x0.shape, x0, x1.shape, x1"
      ],
      "metadata": {
        "colab": {
          "base_uri": "https://localhost:8080/"
        },
        "id": "RpQ4FYK7U70k",
        "outputId": "e0d48cd4-6c63-49c7-e087-05908f8f769c"
      },
      "execution_count": 47,
      "outputs": [
        {
          "output_type": "execute_result",
          "data": {
            "text/plain": [
              "(torch.Size([20, 2]),\n",
              " tensor([[-1.1513, -1.3080],\n",
              "         [-2.3160, -4.1152],\n",
              "         [ 1.6439,  2.4372],\n",
              "         [ 2.4913,  1.7959],\n",
              "         [ 2.1198,  3.2377],\n",
              "         [ 3.1168,  1.7527],\n",
              "         [ 0.9562,  0.6547],\n",
              "         [ 2.7854,  2.9928],\n",
              "         [ 2.5988,  0.4449],\n",
              "         [ 1.6586,  3.8530],\n",
              "         [ 2.4681,  1.8423],\n",
              "         [ 3.4437,  2.2660],\n",
              "         [ 1.8260,  1.3213],\n",
              "         [ 2.9383,  2.4889],\n",
              "         [ 1.3269,  2.8728],\n",
              "         [ 3.0554,  2.1778],\n",
              "         [ 1.4819,  1.6933],\n",
              "         [ 0.4190,  3.7066],\n",
              "         [ 1.5538,  2.7440],\n",
              "         [ 3.5210,  5.4105]]),\n",
              " torch.Size([20, 2]),\n",
              " tensor([[-1.4057, -0.4581],\n",
              "         [-1.4927, -2.5910],\n",
              "         [-2.5692, -1.0800],\n",
              "         [-0.8892, -0.7101],\n",
              "         [-3.4959, -2.1938],\n",
              "         [-1.5545, -0.6747],\n",
              "         [-3.6293, -2.5497],\n",
              "         [-2.4798, -2.4997],\n",
              "         [-3.1256, -2.3170],\n",
              "         [-3.0925, -2.0852],\n",
              "         [-2.0933, -1.3129],\n",
              "         [-2.8383, -1.9991],\n",
              "         [-4.6133, -3.6965],\n",
              "         [-2.2282, -1.7200],\n",
              "         [-1.9268, -0.8867],\n",
              "         [-1.7177, -1.5658],\n",
              "         [-1.5431, -2.8654],\n",
              "         [-1.2187, -2.9268],\n",
              "         [-1.7936, -2.3334],\n",
              "         [-2.4288, -1.7671]]))"
            ]
          },
          "metadata": {},
          "execution_count": 47
        }
      ]
    },
    {
      "cell_type": "markdown",
      "source": [
        "Now let's vertically stack them into a single tensor:"
      ],
      "metadata": {
        "id": "H8cmpmRDVFf1"
      }
    },
    {
      "cell_type": "code",
      "source": [
        "X = torch.vstack((x0, x1))\n",
        "X.shape, X"
      ],
      "metadata": {
        "colab": {
          "base_uri": "https://localhost:8080/"
        },
        "id": "ttwYhcSX12nw",
        "outputId": "a3786cf6-29ae-470e-96cf-91fdec7445f5"
      },
      "execution_count": 48,
      "outputs": [
        {
          "output_type": "execute_result",
          "data": {
            "text/plain": [
              "(torch.Size([40, 2]),\n",
              " tensor([[-1.1513, -1.3080],\n",
              "         [-2.3160, -4.1152],\n",
              "         [ 1.6439,  2.4372],\n",
              "         [ 2.4913,  1.7959],\n",
              "         [ 2.1198,  3.2377],\n",
              "         [ 3.1168,  1.7527],\n",
              "         [ 0.9562,  0.6547],\n",
              "         [ 2.7854,  2.9928],\n",
              "         [ 2.5988,  0.4449],\n",
              "         [ 1.6586,  3.8530],\n",
              "         [ 2.4681,  1.8423],\n",
              "         [ 3.4437,  2.2660],\n",
              "         [ 1.8260,  1.3213],\n",
              "         [ 2.9383,  2.4889],\n",
              "         [ 1.3269,  2.8728],\n",
              "         [ 3.0554,  2.1778],\n",
              "         [ 1.4819,  1.6933],\n",
              "         [ 0.4190,  3.7066],\n",
              "         [ 1.5538,  2.7440],\n",
              "         [ 3.5210,  5.4105],\n",
              "         [-1.4057, -0.4581],\n",
              "         [-1.4927, -2.5910],\n",
              "         [-2.5692, -1.0800],\n",
              "         [-0.8892, -0.7101],\n",
              "         [-3.4959, -2.1938],\n",
              "         [-1.5545, -0.6747],\n",
              "         [-3.6293, -2.5497],\n",
              "         [-2.4798, -2.4997],\n",
              "         [-3.1256, -2.3170],\n",
              "         [-3.0925, -2.0852],\n",
              "         [-2.0933, -1.3129],\n",
              "         [-2.8383, -1.9991],\n",
              "         [-4.6133, -3.6965],\n",
              "         [-2.2282, -1.7200],\n",
              "         [-1.9268, -0.8867],\n",
              "         [-1.7177, -1.5658],\n",
              "         [-1.5431, -2.8654],\n",
              "         [-1.2187, -2.9268],\n",
              "         [-1.7936, -2.3334],\n",
              "         [-2.4288, -1.7671]]))"
            ]
          },
          "metadata": {},
          "execution_count": 48
        }
      ]
    },
    {
      "cell_type": "markdown",
      "source": [
        "And now let's do the same thing for `Y`. All points in `x0` belong to cluster `0`, and all points in `x1` belong to cluster `1`, therefore our `Y` is just the concatenation of `y0` and `y1`:"
      ],
      "metadata": {
        "id": "g3e-35g0LR9e"
      }
    },
    {
      "cell_type": "code",
      "source": [
        "Y = torch.cat((y0, y1))\n",
        "Y.shape, Y"
      ],
      "metadata": {
        "colab": {
          "base_uri": "https://localhost:8080/"
        },
        "id": "qQ9gWLAmLQeB",
        "outputId": "c55dfab8-c5e1-453e-e1bf-2549b49e14cc"
      },
      "execution_count": 49,
      "outputs": [
        {
          "output_type": "execute_result",
          "data": {
            "text/plain": [
              "(torch.Size([40, 1]),\n",
              " tensor([[0.],\n",
              "         [0.],\n",
              "         [0.],\n",
              "         [0.],\n",
              "         [0.],\n",
              "         [0.],\n",
              "         [0.],\n",
              "         [0.],\n",
              "         [0.],\n",
              "         [0.],\n",
              "         [0.],\n",
              "         [0.],\n",
              "         [0.],\n",
              "         [0.],\n",
              "         [0.],\n",
              "         [0.],\n",
              "         [0.],\n",
              "         [0.],\n",
              "         [0.],\n",
              "         [0.],\n",
              "         [1.],\n",
              "         [1.],\n",
              "         [1.],\n",
              "         [1.],\n",
              "         [1.],\n",
              "         [1.],\n",
              "         [1.],\n",
              "         [1.],\n",
              "         [1.],\n",
              "         [1.],\n",
              "         [1.],\n",
              "         [1.],\n",
              "         [1.],\n",
              "         [1.],\n",
              "         [1.],\n",
              "         [1.],\n",
              "         [1.],\n",
              "         [1.],\n",
              "         [1.],\n",
              "         [1.]]))"
            ]
          },
          "metadata": {},
          "execution_count": 49
        }
      ]
    },
    {
      "cell_type": "markdown",
      "source": [
        "## Measure model performance\n",
        "\n",
        "We can now evaluate our model's performance in predicting `Y` values based on `X` values using **binary cross-entropy loss**. This metric measures the difference between predicted probabilities and actual outcomes, emphasizing accurate predictions by assigning larger losses to incorrect predictions. Unlike **mean squared error loss**, binary cross-entropy loss better penalizes bad predictions, making it easier to find our way to the optimal target model parameters.\n",
        "\n",
        "Our goal is to adjust the model's parameters to minimize this loss. Let's define the **binary cross-entropy loss** function and calculate the current loss:"
      ],
      "metadata": {
        "id": "FZWG4SAHOt3v"
      }
    },
    {
      "cell_type": "code",
      "source": [
        "def loss_fn(y_pred, y_true):\n",
        "    return -torch.mean(y_true * torch.log(y_pred) + (1 - y_true) * torch.log(1 - y_pred))\n",
        "\n",
        "loss = loss_fn(model_fn(X, model_params), Y)\n",
        "loss"
      ],
      "metadata": {
        "colab": {
          "base_uri": "https://localhost:8080/"
        },
        "id": "J_subM8WPfFt",
        "outputId": "4fdd4f2b-0289-4609-b405-47d80d588d14"
      },
      "execution_count": 50,
      "outputs": [
        {
          "output_type": "execute_result",
          "data": {
            "text/plain": [
              "tensor(2.2600)"
            ]
          },
          "metadata": {},
          "execution_count": 50
        }
      ]
    },
    {
      "cell_type": "markdown",
      "source": [
        "## Evaluate model accuracy\n",
        "\n",
        "Now that we have a metric that measures the model's performance and we have assembled our dataset, we can create a function that evaluates the model's accuracy.\n",
        "\n",
        "Let's first get the current model predictions for our coordinate pairs:"
      ],
      "metadata": {
        "id": "TRm-YV36cDVv"
      }
    },
    {
      "cell_type": "code",
      "source": [
        "y_pred = model_fn(X, model_params)\n",
        "y_pred, Y"
      ],
      "metadata": {
        "colab": {
          "base_uri": "https://localhost:8080/"
        },
        "id": "H4NQ3d66_E7W",
        "outputId": "305789d7-8505-43fa-cdc9-7af1b7bd67d1"
      },
      "execution_count": 51,
      "outputs": [
        {
          "output_type": "execute_result",
          "data": {
            "text/plain": [
              "(tensor([[0.2049],\n",
              "         [0.0088],\n",
              "         [0.9416],\n",
              "         [0.8432],\n",
              "         [0.9759],\n",
              "         [0.8087],\n",
              "         [0.6509],\n",
              "         [0.9601],\n",
              "         [0.4659],\n",
              "         [0.9905],\n",
              "         [0.8520],\n",
              "         [0.8834],\n",
              "         [0.7772],\n",
              "         [0.9219],\n",
              "         [0.9692],\n",
              "         [0.8831],\n",
              "         [0.8633],\n",
              "         [0.9920],\n",
              "         [0.9613],\n",
              "         [0.9979],\n",
              "         [0.4609],\n",
              "         [0.0496],\n",
              "         [0.3457],\n",
              "         [0.3449],\n",
              "         [0.1371],\n",
              "         [0.4014],\n",
              "         [0.0935],\n",
              "         [0.0729],\n",
              "         [0.1080],\n",
              "         [0.1401],\n",
              "         [0.2524],\n",
              "         [0.1449],\n",
              "         [0.0293],\n",
              "         [0.1701],\n",
              "         [0.3611],\n",
              "         [0.1779],\n",
              "         [0.0355],\n",
              "         [0.0299],\n",
              "         [0.0742],\n",
              "         [0.1696]]),\n",
              " tensor([[0.],\n",
              "         [0.],\n",
              "         [0.],\n",
              "         [0.],\n",
              "         [0.],\n",
              "         [0.],\n",
              "         [0.],\n",
              "         [0.],\n",
              "         [0.],\n",
              "         [0.],\n",
              "         [0.],\n",
              "         [0.],\n",
              "         [0.],\n",
              "         [0.],\n",
              "         [0.],\n",
              "         [0.],\n",
              "         [0.],\n",
              "         [0.],\n",
              "         [0.],\n",
              "         [0.],\n",
              "         [1.],\n",
              "         [1.],\n",
              "         [1.],\n",
              "         [1.],\n",
              "         [1.],\n",
              "         [1.],\n",
              "         [1.],\n",
              "         [1.],\n",
              "         [1.],\n",
              "         [1.],\n",
              "         [1.],\n",
              "         [1.],\n",
              "         [1.],\n",
              "         [1.],\n",
              "         [1.],\n",
              "         [1.],\n",
              "         [1.],\n",
              "         [1.],\n",
              "         [1.],\n",
              "         [1.]]))"
            ]
          },
          "metadata": {},
          "execution_count": 51
        }
      ]
    },
    {
      "cell_type": "markdown",
      "source": [
        "Predictions are probabilities, what we want are classifications. Anything that is lower than `0.5` should be `0` and everything above should be `1`, let's round the predictions to turn the probabilities into classifications:"
      ],
      "metadata": {
        "id": "pTOVzFFxFWuc"
      }
    },
    {
      "cell_type": "code",
      "source": [
        "torch.round(y_pred), Y"
      ],
      "metadata": {
        "colab": {
          "base_uri": "https://localhost:8080/"
        },
        "id": "wRVLDQIPFUg0",
        "outputId": "4aaed3b7-d894-4e8b-e9a3-f316f748e1f8"
      },
      "execution_count": 52,
      "outputs": [
        {
          "output_type": "execute_result",
          "data": {
            "text/plain": [
              "(tensor([[0.],\n",
              "         [0.],\n",
              "         [1.],\n",
              "         [1.],\n",
              "         [1.],\n",
              "         [1.],\n",
              "         [1.],\n",
              "         [1.],\n",
              "         [0.],\n",
              "         [1.],\n",
              "         [1.],\n",
              "         [1.],\n",
              "         [1.],\n",
              "         [1.],\n",
              "         [1.],\n",
              "         [1.],\n",
              "         [1.],\n",
              "         [1.],\n",
              "         [1.],\n",
              "         [1.],\n",
              "         [0.],\n",
              "         [0.],\n",
              "         [0.],\n",
              "         [0.],\n",
              "         [0.],\n",
              "         [0.],\n",
              "         [0.],\n",
              "         [0.],\n",
              "         [0.],\n",
              "         [0.],\n",
              "         [0.],\n",
              "         [0.],\n",
              "         [0.],\n",
              "         [0.],\n",
              "         [0.],\n",
              "         [0.],\n",
              "         [0.],\n",
              "         [0.],\n",
              "         [0.],\n",
              "         [0.]]),\n",
              " tensor([[0.],\n",
              "         [0.],\n",
              "         [0.],\n",
              "         [0.],\n",
              "         [0.],\n",
              "         [0.],\n",
              "         [0.],\n",
              "         [0.],\n",
              "         [0.],\n",
              "         [0.],\n",
              "         [0.],\n",
              "         [0.],\n",
              "         [0.],\n",
              "         [0.],\n",
              "         [0.],\n",
              "         [0.],\n",
              "         [0.],\n",
              "         [0.],\n",
              "         [0.],\n",
              "         [0.],\n",
              "         [1.],\n",
              "         [1.],\n",
              "         [1.],\n",
              "         [1.],\n",
              "         [1.],\n",
              "         [1.],\n",
              "         [1.],\n",
              "         [1.],\n",
              "         [1.],\n",
              "         [1.],\n",
              "         [1.],\n",
              "         [1.],\n",
              "         [1.],\n",
              "         [1.],\n",
              "         [1.],\n",
              "         [1.],\n",
              "         [1.],\n",
              "         [1.],\n",
              "         [1.],\n",
              "         [1.]]))"
            ]
          },
          "metadata": {},
          "execution_count": 52
        }
      ]
    },
    {
      "cell_type": "code",
      "source": [
        "matches = torch.round(y_pred) == torch.round(Y)\n",
        "matches"
      ],
      "metadata": {
        "colab": {
          "base_uri": "https://localhost:8080/"
        },
        "id": "icwTVDKcGJvq",
        "outputId": "b40cf5fd-3fe4-4181-fb43-de04e5ca50fb"
      },
      "execution_count": 53,
      "outputs": [
        {
          "output_type": "execute_result",
          "data": {
            "text/plain": [
              "tensor([[ True],\n",
              "        [ True],\n",
              "        [False],\n",
              "        [False],\n",
              "        [False],\n",
              "        [False],\n",
              "        [False],\n",
              "        [False],\n",
              "        [ True],\n",
              "        [False],\n",
              "        [False],\n",
              "        [False],\n",
              "        [False],\n",
              "        [False],\n",
              "        [False],\n",
              "        [False],\n",
              "        [False],\n",
              "        [False],\n",
              "        [False],\n",
              "        [False],\n",
              "        [False],\n",
              "        [False],\n",
              "        [False],\n",
              "        [False],\n",
              "        [False],\n",
              "        [False],\n",
              "        [False],\n",
              "        [False],\n",
              "        [False],\n",
              "        [False],\n",
              "        [False],\n",
              "        [False],\n",
              "        [False],\n",
              "        [False],\n",
              "        [False],\n",
              "        [False],\n",
              "        [False],\n",
              "        [False],\n",
              "        [False],\n",
              "        [False]])"
            ]
          },
          "metadata": {},
          "execution_count": 53
        }
      ]
    },
    {
      "cell_type": "markdown",
      "source": [
        "Let's flatten the tensor to make it easier to visualize and operate on it:"
      ],
      "metadata": {
        "id": "fpIjKBGVfTJY"
      }
    },
    {
      "cell_type": "code",
      "source": [
        "matches = matches.flatten()\n",
        "matches"
      ],
      "metadata": {
        "colab": {
          "base_uri": "https://localhost:8080/"
        },
        "id": "VzRJMRV9GPX-",
        "outputId": "d194c08e-b43e-44db-b037-d6492af8d9ce"
      },
      "execution_count": 54,
      "outputs": [
        {
          "output_type": "execute_result",
          "data": {
            "text/plain": [
              "tensor([ True,  True, False, False, False, False, False, False,  True, False,\n",
              "        False, False, False, False, False, False, False, False, False, False,\n",
              "        False, False, False, False, False, False, False, False, False, False,\n",
              "        False, False, False, False, False, False, False, False, False, False])"
            ]
          },
          "metadata": {},
          "execution_count": 54
        }
      ]
    },
    {
      "cell_type": "markdown",
      "source": [
        "Ouch, most predictions are wrong, our model sucks! Let's calculate our current accuracy:"
      ],
      "metadata": {
        "id": "x0bRebXjfezt"
      }
    },
    {
      "cell_type": "code",
      "source": [
        "accuracy = matches.float().mean()\n",
        "print(f\"Model accuracy: {accuracy * 100:.2f}%\")"
      ],
      "metadata": {
        "colab": {
          "base_uri": "https://localhost:8080/"
        },
        "id": "yfmzeCW9GSha",
        "outputId": "2e9e36b9-36d5-4f25-d368-f134bb093087"
      },
      "execution_count": 55,
      "outputs": [
        {
          "output_type": "stream",
          "name": "stdout",
          "text": [
            "Model accuracy: 7.50%\n"
          ]
        }
      ]
    },
    {
      "cell_type": "markdown",
      "source": [
        "And finally let's encapsulate all this code so we can call it again later:"
      ],
      "metadata": {
        "id": "pym44DOXfy8b"
      }
    },
    {
      "cell_type": "code",
      "source": [
        "def calculate_accuracy(y_pred, y_true):\n",
        "    matches = torch.round(y_pred) == torch.round(y_true)\n",
        "    return matches.float().mean()\n",
        "\n",
        "calculate_accuracy(model_fn(X, model_params), Y)"
      ],
      "metadata": {
        "colab": {
          "base_uri": "https://localhost:8080/"
        },
        "id": "iE4_RKxff3NI",
        "outputId": "1cacfd55-ea45-47d9-a836-af932938162e"
      },
      "execution_count": 56,
      "outputs": [
        {
          "output_type": "execute_result",
          "data": {
            "text/plain": [
              "tensor(0.0750)"
            ]
          },
          "metadata": {},
          "execution_count": 56
        }
      ]
    },
    {
      "cell_type": "markdown",
      "source": [
        "## Gradient Descent\n",
        "\n",
        "Now that we know the current model accuracy, it's time to tune our model and get that accuracy up as much as we can.\n",
        "\n",
        "To do so, we need to minimize the loss, we aim to make it as close to zero as possible. To achieve this, we need to track how much each parameter contributes to the loss and iteratively adjust them in a direction that reduces it.\n",
        "\n",
        "PyTorch has the ability of tracking the gradients of a calculation. You can check the gradients by printing the `grad` attribute for a tensor:"
      ],
      "metadata": {
        "id": "QvDRSCybdDno"
      }
    },
    {
      "cell_type": "code",
      "source": [
        "model_params[0].grad, model_params[1].grad"
      ],
      "metadata": {
        "colab": {
          "base_uri": "https://localhost:8080/"
        },
        "id": "509hwouFQJQA",
        "outputId": "d5957f94-8a59-4b89-854c-c255d97d873c"
      },
      "execution_count": 57,
      "outputs": [
        {
          "output_type": "execute_result",
          "data": {
            "text/plain": [
              "(None, None)"
            ]
          },
          "metadata": {},
          "execution_count": 57
        }
      ]
    },
    {
      "cell_type": "markdown",
      "source": [
        "These are empty because:\n",
        "\n",
        "- We haven't enabled gradient tracking for those tensors.\n",
        "- We haven't specified for which calculation we want to calculate the gradients (call `.backward()` on the result).\n",
        "\n",
        "Let's do both those things:"
      ],
      "metadata": {
        "id": "wpBwUhARQNI0"
      }
    },
    {
      "cell_type": "code",
      "source": [
        "model_params[0].requires_grad_()\n",
        "model_params[1].requires_grad_()\n",
        "loss = loss_fn(model_fn(X, model_params), Y)\n",
        "loss, model_params[0].grad, model_params[1].grad"
      ],
      "metadata": {
        "colab": {
          "base_uri": "https://localhost:8080/"
        },
        "id": "ZB_7ZtaFQSKG",
        "outputId": "ddc54352-ab74-4761-9520-9322ce264551"
      },
      "execution_count": 58,
      "outputs": [
        {
          "output_type": "execute_result",
          "data": {
            "text/plain": [
              "(tensor(2.2600, grad_fn=<NegBackward0>), None, None)"
            ]
          },
          "metadata": {},
          "execution_count": 58
        }
      ]
    },
    {
      "cell_type": "markdown",
      "source": [
        "Still no gradients, but notice how the loss function now has a gradient function assigned to it. Invoke `.backward()` to calculate the gradients for the associated tensors:"
      ],
      "metadata": {
        "id": "PLCwKtiThunn"
      }
    },
    {
      "cell_type": "code",
      "source": [
        "loss.backward()\n",
        "model_params[0].grad, model_params[1].grad"
      ],
      "metadata": {
        "colab": {
          "base_uri": "https://localhost:8080/"
        },
        "id": "ywtQnVnUhol8",
        "outputId": "bd1df750-6a05-401c-b7c7-4bba94f9667c"
      },
      "execution_count": 59,
      "outputs": [
        {
          "output_type": "execute_result",
          "data": {
            "text/plain": [
              "(tensor([[1.8206],\n",
              "         [1.8410]]),\n",
              " tensor([-0.0112]))"
            ]
          },
          "metadata": {},
          "execution_count": 59
        }
      ]
    },
    {
      "cell_type": "markdown",
      "source": [
        "Voila! Now that the gradients for the model parameters are available, we can use them to adjust the parameters in the right direction to minimize the loss:"
      ],
      "metadata": {
        "id": "bxHFTBTbQoPx"
      }
    },
    {
      "cell_type": "code",
      "source": [
        "model_params[0].data -= model_params[0].grad\n",
        "model_params[1].data -= model_params[1].grad\n",
        "loss = loss_fn(model_fn(X, model_params), Y)\n",
        "loss"
      ],
      "metadata": {
        "colab": {
          "base_uri": "https://localhost:8080/"
        },
        "id": "T4wXFmD-Qx73",
        "outputId": "446b4472-551b-4152-a815-25580ce935e4"
      },
      "execution_count": 60,
      "outputs": [
        {
          "output_type": "execute_result",
          "data": {
            "text/plain": [
              "tensor(0.2688, grad_fn=<NegBackward0>)"
            ]
          },
          "metadata": {},
          "execution_count": 60
        }
      ]
    },
    {
      "cell_type": "markdown",
      "source": [
        "It's working, the loss has decreased from `2.26` to `0.27`! Let's try again:"
      ],
      "metadata": {
        "id": "0BMcDdc2eMz8"
      }
    },
    {
      "cell_type": "code",
      "source": [
        "# Let's zero out our gradients first (otherwise they'll our next calculation will just add to existing gradients)\n",
        "model_params[0].grad.zero_()\n",
        "model_params[1].grad.zero_()\n",
        "\n",
        "# Calculate the loss and respective gradients\n",
        "loss = loss_fn(model_fn(X, model_params), Y)\n",
        "loss.backward()\n",
        "\n",
        "# Adjust the model parameters\n",
        "model_params[0].data -= model_params[0].grad\n",
        "model_params[1].data -= model_params[1].grad\n",
        "\n",
        "# Calculate the new loss\n",
        "loss = loss_fn(model_fn(X, model_params), Y)\n",
        "loss"
      ],
      "metadata": {
        "colab": {
          "base_uri": "https://localhost:8080/"
        },
        "id": "kzznGtoJjfVW",
        "outputId": "4e29a75d-706e-40b8-e002-09fe3e90e772"
      },
      "execution_count": 61,
      "outputs": [
        {
          "output_type": "execute_result",
          "data": {
            "text/plain": [
              "tensor(0.2484, grad_fn=<NegBackward0>)"
            ]
          },
          "metadata": {},
          "execution_count": 61
        }
      ]
    },
    {
      "cell_type": "markdown",
      "source": [
        "It decreased again, from `0.27` to `0.25`!"
      ],
      "metadata": {
        "id": "dJ0j5Vv2kqz7"
      }
    },
    {
      "cell_type": "markdown",
      "source": [
        "## Train the Model\n",
        "\n",
        "Let's encapsulate the training algorithm in a function for reusability and call it a couple more times:"
      ],
      "metadata": {
        "id": "xLsRq05QV5Qo"
      }
    },
    {
      "cell_type": "code",
      "source": [
        "def train(n_epochs, learning_rate = 1, verbose=True):\n",
        "  for epoch in range(n_epochs):\n",
        "    model_params[0].grad.zero_()\n",
        "    model_params[1].grad.zero_()\n",
        "\n",
        "    loss = loss_fn(model_fn(X, model_params), Y)\n",
        "    loss.backward()\n",
        "\n",
        "    with torch.no_grad():\n",
        "      model_params[0].data -= learning_rate * model_params[0].grad\n",
        "      model_params[1].data -= learning_rate * model_params[1].grad\n",
        "\n",
        "    if verbose: print(f\"epoch={epoch}, loss={loss}\")\n",
        "  return loss\n",
        "\n",
        "train(10)"
      ],
      "metadata": {
        "colab": {
          "base_uri": "https://localhost:8080/"
        },
        "id": "PGKK4YRRfTZY",
        "outputId": "52a7eda5-f620-4dec-e1a1-84f7e8774154"
      },
      "execution_count": 62,
      "outputs": [
        {
          "output_type": "stream",
          "name": "stdout",
          "text": [
            "epoch=0, loss=0.24837049841880798\n",
            "epoch=1, loss=0.2305900752544403\n",
            "epoch=2, loss=0.21591520309448242\n",
            "epoch=3, loss=0.20457573235034943\n",
            "epoch=4, loss=0.19641585648059845\n",
            "epoch=5, loss=0.19089671969413757\n",
            "epoch=6, loss=0.18728092312812805\n",
            "epoch=7, loss=0.18487097322940826\n",
            "epoch=8, loss=0.18315814435482025\n",
            "epoch=9, loss=0.1818353831768036\n"
          ]
        },
        {
          "output_type": "execute_result",
          "data": {
            "text/plain": [
              "tensor(0.1818, grad_fn=<NegBackward0>)"
            ]
          },
          "metadata": {},
          "execution_count": 62
        }
      ]
    },
    {
      "cell_type": "markdown",
      "source": [
        "Keeps going down, let's run it longer:"
      ],
      "metadata": {
        "id": "yFslz1MNfxFf"
      }
    },
    {
      "cell_type": "code",
      "source": [
        "train(2000, verbose=False)"
      ],
      "metadata": {
        "colab": {
          "base_uri": "https://localhost:8080/"
        },
        "id": "iOHLFaeWgHPP",
        "outputId": "9bcec45d-9391-474f-8a93-962e349c19a4"
      },
      "execution_count": 63,
      "outputs": [
        {
          "output_type": "execute_result",
          "data": {
            "text/plain": [
              "tensor(0.1640, grad_fn=<NegBackward0>)"
            ]
          },
          "metadata": {},
          "execution_count": 63
        }
      ]
    },
    {
      "cell_type": "markdown",
      "source": [
        "Now just a few more times to see if it's still decreasing:"
      ],
      "metadata": {
        "id": "pNmiTGKDTEoi"
      }
    },
    {
      "cell_type": "code",
      "source": [
        "train(5)"
      ],
      "metadata": {
        "colab": {
          "base_uri": "https://localhost:8080/"
        },
        "id": "5iId5zOgTU9G",
        "outputId": "4a6eb6d4-b3b6-4c55-85cd-b60c87a2fc17"
      },
      "execution_count": 64,
      "outputs": [
        {
          "output_type": "stream",
          "name": "stdout",
          "text": [
            "epoch=0, loss=0.16400578618049622\n",
            "epoch=1, loss=0.16400578618049622\n",
            "epoch=2, loss=0.16400578618049622\n",
            "epoch=3, loss=0.16400578618049622\n",
            "epoch=4, loss=0.16400578618049622\n"
          ]
        },
        {
          "output_type": "execute_result",
          "data": {
            "text/plain": [
              "tensor(0.1640, grad_fn=<NegBackward0>)"
            ]
          },
          "metadata": {},
          "execution_count": 64
        }
      ]
    },
    {
      "cell_type": "markdown",
      "source": [
        "We have reached the minimum loss, our model should now be as good as it can be."
      ],
      "metadata": {
        "id": "w4FiSEphTXGS"
      }
    },
    {
      "cell_type": "markdown",
      "source": [
        "## Final Decision Boundary\n",
        "\n",
        "Now that our model is tuned, let's plot the decision boundary again:"
      ],
      "metadata": {
        "id": "5cKqKSrcWG_W"
      }
    },
    {
      "cell_type": "code",
      "source": [
        "plot_data(x0, x1)"
      ],
      "metadata": {
        "colab": {
          "base_uri": "https://localhost:8080/",
          "height": 406
        },
        "id": "F1lJaBS5f5FO",
        "outputId": "1ad534eb-22fd-4b9a-92b4-ffc72339c6a9"
      },
      "execution_count": 65,
      "outputs": [
        {
          "output_type": "display_data",
          "data": {
            "text/plain": [
              "<Figure size 640x480 with 1 Axes>"
            ],
            "image/png": "[encoded data removed]"
          },
          "metadata": {}
        }
      ]
    },
    {
      "cell_type": "markdown",
      "source": [
        "Seems to be cleanly separating our data, meaning it should be able to accurately predict all values except for those two outliers that fall into the other cluster.\n",
        "\n",
        "Let's check how many predictions we're missing:"
      ],
      "metadata": {
        "id": "g8PW9sXfgoUQ"
      }
    },
    {
      "cell_type": "code",
      "source": [
        "y_pred = model_fn(X, model_params)\n",
        "matches = torch.round(y_pred) == torch.round(Y)\n",
        "matches = matches.flatten()\n",
        "correct = torch.sum(matches == True)\n",
        "incorrect = torch.sum(matches == False)\n",
        "correct, incorrect, correct / (correct + incorrect) * 100"
      ],
      "metadata": {
        "colab": {
          "base_uri": "https://localhost:8080/"
        },
        "id": "I9lvEE4vlYch",
        "outputId": "469cf207-aa1d-48ba-9681-6858e1154e5e"
      },
      "execution_count": 66,
      "outputs": [
        {
          "output_type": "execute_result",
          "data": {
            "text/plain": [
              "(tensor(38), tensor(2), tensor(95.))"
            ]
          },
          "metadata": {},
          "execution_count": 66
        }
      ]
    },
    {
      "cell_type": "markdown",
      "source": [
        "Out of `40` predictions, we predicted `38` correctly, missing only `2` which are just outside the reach of a linear classifier, giving us an accuracy of `95%`, which is the best accuracy we could get!\n",
        "\n",
        "The End! Roll the credits."
      ],
      "metadata": {
        "id": "vOf_HShImOpG"
      }
    }
  ]
}
